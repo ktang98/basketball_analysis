{
 "cells": [
  {
   "cell_type": "markdown",
   "metadata": {},
   "source": [
    "# Data 100 Final Project"
   ]
  },
  {
   "cell_type": "markdown",
   "metadata": {},
   "source": [
    "<b> Authors:</b> Ru Pei and Kevin Tang\n",
    "\n",
    "For our Data 100 Final Project, we will be conducting analysis using the Basketball Dataset. "
   ]
  },
  {
   "cell_type": "markdown",
   "metadata": {},
   "source": [
    "## Motivating Question\n",
    "\n",
    "<b> Is there a way to accurately predict whether a team will make the post-season based on historical data? </b> \n",
    "\n",
    "The subsequent analysis primarily aims to answer that question. We recognize that the most exiting moments of an NBA season typically occur in the postseason. Being able to accurately predict if a given team will advance or not has implications on a large variety of stakeholders (i.e. management, sports betters, players, etc). \n",
    "\n",
    "In answering that motivating question, we'll implicitly answer many more. These include:\n",
    "- Empirically, what factors are most important in determining playoff qualification chances?\n",
    "- To the casual fan, are the results largely intuitive, or are they somewhat surprising?\n",
    "- Do in-game statistics (provided by the given data) paint the whole story? Are there other factors that are of importance?\n",
    "- How do these statistics show how the game has evolved in the past decade?"
   ]
  },
  {
   "cell_type": "markdown",
   "metadata": {},
   "source": [
    "Let's set up the notebook and take a look at the provided data."
   ]
  },
  {
   "cell_type": "code",
   "execution_count": 1,
   "metadata": {},
   "outputs": [
    {
     "name": "stderr",
     "output_type": "stream",
     "text": [
      "/Users/kevin/anaconda3/lib/python3.7/site-packages/statsmodels/tools/_testing.py:19: FutureWarning: pandas.util.testing is deprecated. Use the functions in the public API at pandas.testing instead.\n",
      "  import pandas.util.testing as tm\n"
     ]
    }
   ],
   "source": [
    "# importing relevant libraries\n",
    "import pandas as pd\n",
    "import numpy as np\n",
    "import matplotlib.pyplot as plt\n",
    "import seaborn as sns\n",
    "import warnings\n",
    "import re\n",
    "from sklearn.linear_model import LogisticRegression\n",
    "from sklearn.decomposition import PCA\n",
    "from sklearn.ensemble import RandomForestClassifier\n",
    "from sklearn.tree import DecisionTreeClassifier\n",
    "from sklearn.tree import plot_tree\n",
    "from sklearn.pipeline import Pipeline\n",
    "from sklearn.model_selection import cross_val_score\n",
    "from sklearn.model_selection import GridSearchCV\n",
    "from sklearn.model_selection import train_test_split\n",
    "from sklearn.dummy import DummyClassifier\n",
    "from sklearn.neighbors import KNeighborsClassifier\n",
    "from sklearn.cluster import AgglomerativeClustering\n",
    "from sklearn.preprocessing import StandardScaler\n",
    "from sklearn.metrics import accuracy_score\n",
    "from sklearn import preprocessing \n",
    "from decimal import Decimal\n",
    "\n",
    "# ignoring warnings\n",
    "warnings.filterwarnings('ignore')"
   ]
  },
  {
   "cell_type": "code",
   "execution_count": 2,
   "metadata": {},
   "outputs": [],
   "source": [
    "# tweaking preferences\n",
    "pd.set_option('display.max_columns', None)\n",
    "np.random.seed(100)"
   ]
  },
  {
   "cell_type": "code",
   "execution_count": 3,
   "metadata": {},
   "outputs": [],
   "source": [
    "# importing data from given csv files\n",
    "scores = pd.read_csv('2012-18_officialBoxScore.csv')\n",
    "player_scores = pd.read_csv('2012-18_playerBoxScore.csv')\n",
    "standings = pd.read_csv('2012-18_standings.csv')\n",
    "team_scores = pd.read_csv('2012-18_teamBoxScore.csv')\n",
    "college = pd.read_csv('college.csv')"
   ]
  },
  {
   "cell_type": "markdown",
   "metadata": {},
   "source": [
    "### 1. Data Cleaning\n",
    "\n",
    "We're going to clean the data given to us into a relevant tabular format (i.e. indexed by season and team), making it easier for us to explore the nuances of our question."
   ]
  },
  {
   "cell_type": "code",
   "execution_count": 4,
   "metadata": {},
   "outputs": [],
   "source": [
    "def dateToSeason(df, date_col, drop=True):\n",
    "    \"\"\"\n",
    "    df: Pandas Dataframe\n",
    "    date_col: String that references the column name of the date\n",
    "    drop: Boolean to indicate if original date columns will be dropped\n",
    "    \n",
    "    return: An augmented Dataframe that converts dates into their respective NBA Season\"\"\"\n",
    "    \n",
    "    # define the range of dates that fall under each season\n",
    "    season_range = {'2012/13': (df[date_col] >= '2012-10-30') & (df[date_col] <='2013-04-17'), \\\n",
    "          '2013/14': (df[date_col] >= '2013-10-29') & (df[date_col] <='2014-04-16'), \\\n",
    "          '2014/15': (df[date_col] >= '2014-10-28') & (df[date_col] <='2015-04-15'), \\\n",
    "          '2015/16': (df[date_col] >= '2015-10-27') & (df[date_col] <='2016-04-13'), \\\n",
    "          '2016/17': (df[date_col] >= '2016-10-25') & (df[date_col] <='2017-04-12'), \\\n",
    "          '2017/18': (df[date_col] >= '2017-10-17') & (df[date_col] <='2018-04-11')}\n",
    "\n",
    "    # edit the Dataframe\n",
    "    seasons_data = []\n",
    "    for key in season_range.keys():\n",
    "        curr = df.loc[season_range[key]]\n",
    "        curr['season'] = [key]*len(curr)\n",
    "        if drop:\n",
    "            curr.drop(columns=[date_col], inplace=True)\n",
    "        seasons_data.append(curr)\n",
    "\n",
    "    return pd.concat(seasons_data)"
   ]
  },
  {
   "cell_type": "code",
   "execution_count": 5,
   "metadata": {},
   "outputs": [],
   "source": [
    "scores_cpy = scores.copy()\n",
    "\n",
    "# remove all the opponent stats because they are repeated later\n",
    "scores_cpy = scores_cpy.iloc[:,:61]\n",
    "\n",
    "#remove unnecessary columns\n",
    "scores_cpy.drop(columns=['gmTime', 'seasTyp', 'offLNm', 'offFNm', 'teamConf', 'teamDiv', 'teamLoc', 'teamMin', 'teamDayOff'], \n",
    "                inplace=True)\n",
    "\n",
    "# remove duplicate rows\n",
    "scores_cpy.drop_duplicates(inplace=True)\n",
    "\n",
    "# adjust the date to be indicative of the NBA Season, a much more meaningful label\n",
    "scores_cpy['gmDate'] = pd.to_datetime(scores_cpy['gmDate'])\n",
    "all_seasons = dateToSeason(scores_cpy, 'gmDate')\n",
    "\n",
    "# one-hot-encoding for Win/Loss to be 1/0. Note that we drop one of these columns because they are linearly dependent\n",
    "win = pd.get_dummies(all_seasons['teamRslt'], prefix='Result', drop_first = True)['Result_Win']\n",
    "all_seasons['Win'] = win\n",
    "all_seasons.drop(columns='teamRslt', inplace=True)\n",
    "\n",
    "# for each season, find the team's average stats \n",
    "stats_by_season = all_seasons.groupby(['season', 'teamAbbr']).mean()"
   ]
  },
  {
   "cell_type": "code",
   "execution_count": 6,
   "metadata": {},
   "outputs": [],
   "source": [
    "# clean the standings table to work out play-off booleans\n",
    "# first make dates in date format and then separate by seasons\n",
    "standings['stDate'] = pd.to_datetime(standings['stDate'])\n",
    "all_standings = dateToSeason(standings, 'stDate', drop=False)\n",
    "\n",
    "# find standings at end of the season\n",
    "end_dates = ['2013-04-17', '2014-04-16', '2015-04-15', '2016-04-13', '2017-04-12', '2018-04-11']\n",
    "all_standings = all_standings[all_standings['stDate'].isin(end_dates)]\n",
    "all_standings.drop(columns='stDate', inplace=True)\n",
    "rankings = all_standings[['teamAbbr', 'rank', 'season']]\n",
    "rankings = rankings.groupby(['season', 'teamAbbr']).mean()"
   ]
  },
  {
   "cell_type": "code",
   "execution_count": 7,
   "metadata": {},
   "outputs": [],
   "source": [
    "# join the rankings and stats_by_season so we know the standings of teams at end of each season\n",
    "all_data = rankings.join(stats_by_season, how='inner')\n",
    "\n",
    "# add a boolean value of whether they make playoffs\n",
    "all_data['playoffs'] = (all_data['rank'] <= 8).astype(int)\n",
    "all_data.drop(columns='rank', inplace=True)"
   ]
  },
  {
   "cell_type": "code",
   "execution_count": 8,
   "metadata": {},
   "outputs": [
    {
     "data": {
      "text/html": [
       "<div>\n",
       "<style scoped>\n",
       "    .dataframe tbody tr th:only-of-type {\n",
       "        vertical-align: middle;\n",
       "    }\n",
       "\n",
       "    .dataframe tbody tr th {\n",
       "        vertical-align: top;\n",
       "    }\n",
       "\n",
       "    .dataframe thead th {\n",
       "        text-align: right;\n",
       "    }\n",
       "</style>\n",
       "<table border=\"1\" class=\"dataframe\">\n",
       "  <thead>\n",
       "    <tr style=\"text-align: right;\">\n",
       "      <th></th>\n",
       "      <th></th>\n",
       "      <th>teamPTS</th>\n",
       "      <th>teamAST</th>\n",
       "      <th>teamTO</th>\n",
       "      <th>teamSTL</th>\n",
       "      <th>teamBLK</th>\n",
       "      <th>teamPF</th>\n",
       "      <th>teamFGA</th>\n",
       "      <th>teamFGM</th>\n",
       "      <th>teamFG%</th>\n",
       "      <th>team2PA</th>\n",
       "      <th>team2PM</th>\n",
       "      <th>team2P%</th>\n",
       "      <th>team3PA</th>\n",
       "      <th>team3PM</th>\n",
       "      <th>team3P%</th>\n",
       "      <th>teamFTA</th>\n",
       "      <th>teamFTM</th>\n",
       "      <th>teamFT%</th>\n",
       "      <th>teamORB</th>\n",
       "      <th>teamDRB</th>\n",
       "      <th>teamTRB</th>\n",
       "      <th>teamPTS1</th>\n",
       "      <th>teamPTS2</th>\n",
       "      <th>teamPTS3</th>\n",
       "      <th>teamPTS4</th>\n",
       "      <th>teamPTS5</th>\n",
       "      <th>teamPTS6</th>\n",
       "      <th>teamPTS7</th>\n",
       "      <th>teamPTS8</th>\n",
       "      <th>teamTREB%</th>\n",
       "      <th>teamASST%</th>\n",
       "      <th>teamTS%</th>\n",
       "      <th>teamEFG%</th>\n",
       "      <th>teamOREB%</th>\n",
       "      <th>teamDREB%</th>\n",
       "      <th>teamTO%</th>\n",
       "      <th>teamSTL%</th>\n",
       "      <th>teamBLK%</th>\n",
       "      <th>teamBLKR</th>\n",
       "      <th>teamPPS</th>\n",
       "      <th>teamFIC</th>\n",
       "      <th>teamFIC40</th>\n",
       "      <th>teamOrtg</th>\n",
       "      <th>teamDrtg</th>\n",
       "      <th>teamEDiff</th>\n",
       "      <th>teamPlay%</th>\n",
       "      <th>teamAR</th>\n",
       "      <th>teamAST/TO</th>\n",
       "      <th>teamSTL/TO</th>\n",
       "      <th>Win</th>\n",
       "      <th>playoffs</th>\n",
       "    </tr>\n",
       "    <tr>\n",
       "      <th>season</th>\n",
       "      <th>teamAbbr</th>\n",
       "      <th></th>\n",
       "      <th></th>\n",
       "      <th></th>\n",
       "      <th></th>\n",
       "      <th></th>\n",
       "      <th></th>\n",
       "      <th></th>\n",
       "      <th></th>\n",
       "      <th></th>\n",
       "      <th></th>\n",
       "      <th></th>\n",
       "      <th></th>\n",
       "      <th></th>\n",
       "      <th></th>\n",
       "      <th></th>\n",
       "      <th></th>\n",
       "      <th></th>\n",
       "      <th></th>\n",
       "      <th></th>\n",
       "      <th></th>\n",
       "      <th></th>\n",
       "      <th></th>\n",
       "      <th></th>\n",
       "      <th></th>\n",
       "      <th></th>\n",
       "      <th></th>\n",
       "      <th></th>\n",
       "      <th></th>\n",
       "      <th></th>\n",
       "      <th></th>\n",
       "      <th></th>\n",
       "      <th></th>\n",
       "      <th></th>\n",
       "      <th></th>\n",
       "      <th></th>\n",
       "      <th></th>\n",
       "      <th></th>\n",
       "      <th></th>\n",
       "      <th></th>\n",
       "      <th></th>\n",
       "      <th></th>\n",
       "      <th></th>\n",
       "      <th></th>\n",
       "      <th></th>\n",
       "      <th></th>\n",
       "      <th></th>\n",
       "      <th></th>\n",
       "      <th></th>\n",
       "      <th></th>\n",
       "      <th></th>\n",
       "      <th></th>\n",
       "    </tr>\n",
       "  </thead>\n",
       "  <tbody>\n",
       "    <tr>\n",
       "      <th rowspan=\"5\" valign=\"top\">2012/13</th>\n",
       "      <th>ATL</th>\n",
       "      <td>97.951220</td>\n",
       "      <td>24.475610</td>\n",
       "      <td>14.865854</td>\n",
       "      <td>8.097561</td>\n",
       "      <td>4.500000</td>\n",
       "      <td>17.963415</td>\n",
       "      <td>81.024390</td>\n",
       "      <td>37.609756</td>\n",
       "      <td>0.465584</td>\n",
       "      <td>57.841463</td>\n",
       "      <td>29.000000</td>\n",
       "      <td>0.504110</td>\n",
       "      <td>23.182927</td>\n",
       "      <td>8.609756</td>\n",
       "      <td>0.373288</td>\n",
       "      <td>19.743902</td>\n",
       "      <td>14.121951</td>\n",
       "      <td>0.708479</td>\n",
       "      <td>9.243902</td>\n",
       "      <td>31.621951</td>\n",
       "      <td>40.865854</td>\n",
       "      <td>23.841463</td>\n",
       "      <td>24.768293</td>\n",
       "      <td>24.975610</td>\n",
       "      <td>23.402439</td>\n",
       "      <td>0.548780</td>\n",
       "      <td>0.414634</td>\n",
       "      <td>0.000000</td>\n",
       "      <td>0.0</td>\n",
       "      <td>48.451795</td>\n",
       "      <td>64.917021</td>\n",
       "      <td>0.546949</td>\n",
       "      <td>0.519068</td>\n",
       "      <td>22.058495</td>\n",
       "      <td>74.082923</td>\n",
       "      <td>14.275735</td>\n",
       "      <td>8.632868</td>\n",
       "      <td>4.807234</td>\n",
       "      <td>7.865539</td>\n",
       "      <td>1.213796</td>\n",
       "      <td>75.964939</td>\n",
       "      <td>62.702237</td>\n",
       "      <td>104.790709</td>\n",
       "      <td>104.424877</td>\n",
       "      <td>0.365832</td>\n",
       "      <td>0.434633</td>\n",
       "      <td>18.867440</td>\n",
       "      <td>1.779402</td>\n",
       "      <td>58.132051</td>\n",
       "      <td>0.536585</td>\n",
       "      <td>1</td>\n",
       "    </tr>\n",
       "    <tr>\n",
       "      <th>BKN</th>\n",
       "      <td>96.878049</td>\n",
       "      <td>20.341463</td>\n",
       "      <td>14.707317</td>\n",
       "      <td>7.304878</td>\n",
       "      <td>4.768293</td>\n",
       "      <td>18.292683</td>\n",
       "      <td>79.804878</td>\n",
       "      <td>35.878049</td>\n",
       "      <td>0.449987</td>\n",
       "      <td>58.341463</td>\n",
       "      <td>28.219512</td>\n",
       "      <td>0.484071</td>\n",
       "      <td>21.463415</td>\n",
       "      <td>7.658537</td>\n",
       "      <td>0.356373</td>\n",
       "      <td>23.878049</td>\n",
       "      <td>17.463415</td>\n",
       "      <td>0.732144</td>\n",
       "      <td>12.768293</td>\n",
       "      <td>30.000000</td>\n",
       "      <td>42.768293</td>\n",
       "      <td>26.158537</td>\n",
       "      <td>24.109756</td>\n",
       "      <td>22.731707</td>\n",
       "      <td>23.000000</td>\n",
       "      <td>0.658537</td>\n",
       "      <td>0.219512</td>\n",
       "      <td>0.000000</td>\n",
       "      <td>0.0</td>\n",
       "      <td>52.145094</td>\n",
       "      <td>56.829796</td>\n",
       "      <td>0.537116</td>\n",
       "      <td>0.498278</td>\n",
       "      <td>30.775823</td>\n",
       "      <td>73.941318</td>\n",
       "      <td>14.013863</td>\n",
       "      <td>8.131777</td>\n",
       "      <td>5.334624</td>\n",
       "      <td>8.313509</td>\n",
       "      <td>1.218228</td>\n",
       "      <td>71.899390</td>\n",
       "      <td>59.427166</td>\n",
       "      <td>108.316682</td>\n",
       "      <td>106.349655</td>\n",
       "      <td>1.967027</td>\n",
       "      <td>0.439562</td>\n",
       "      <td>16.164246</td>\n",
       "      <td>1.503246</td>\n",
       "      <td>53.735435</td>\n",
       "      <td>0.597561</td>\n",
       "      <td>1</td>\n",
       "    </tr>\n",
       "    <tr>\n",
       "      <th>BOS</th>\n",
       "      <td>96.518519</td>\n",
       "      <td>22.753086</td>\n",
       "      <td>14.580247</td>\n",
       "      <td>8.234568</td>\n",
       "      <td>4.506173</td>\n",
       "      <td>21.197531</td>\n",
       "      <td>79.740741</td>\n",
       "      <td>37.049383</td>\n",
       "      <td>0.466365</td>\n",
       "      <td>62.580247</td>\n",
       "      <td>30.901235</td>\n",
       "      <td>0.496393</td>\n",
       "      <td>17.160494</td>\n",
       "      <td>6.148148</td>\n",
       "      <td>0.360021</td>\n",
       "      <td>20.962963</td>\n",
       "      <td>16.271605</td>\n",
       "      <td>0.776423</td>\n",
       "      <td>8.074074</td>\n",
       "      <td>31.271605</td>\n",
       "      <td>39.345679</td>\n",
       "      <td>24.481481</td>\n",
       "      <td>24.395062</td>\n",
       "      <td>23.333333</td>\n",
       "      <td>22.493827</td>\n",
       "      <td>1.296296</td>\n",
       "      <td>0.382716</td>\n",
       "      <td>0.135802</td>\n",
       "      <td>0.0</td>\n",
       "      <td>47.419702</td>\n",
       "      <td>61.464602</td>\n",
       "      <td>0.543958</td>\n",
       "      <td>0.505091</td>\n",
       "      <td>19.849091</td>\n",
       "      <td>73.645579</td>\n",
       "      <td>14.087037</td>\n",
       "      <td>8.759989</td>\n",
       "      <td>4.804304</td>\n",
       "      <td>7.320688</td>\n",
       "      <td>1.216717</td>\n",
       "      <td>70.694444</td>\n",
       "      <td>57.759542</td>\n",
       "      <td>103.199075</td>\n",
       "      <td>103.510258</td>\n",
       "      <td>-0.311183</td>\n",
       "      <td>0.430501</td>\n",
       "      <td>17.931032</td>\n",
       "      <td>1.628542</td>\n",
       "      <td>59.160886</td>\n",
       "      <td>0.506173</td>\n",
       "      <td>1</td>\n",
       "    </tr>\n",
       "    <tr>\n",
       "      <th>CHA</th>\n",
       "      <td>93.426829</td>\n",
       "      <td>19.353659</td>\n",
       "      <td>14.073171</td>\n",
       "      <td>7.195122</td>\n",
       "      <td>5.841463</td>\n",
       "      <td>19.048780</td>\n",
       "      <td>81.085366</td>\n",
       "      <td>34.426829</td>\n",
       "      <td>0.425313</td>\n",
       "      <td>64.024390</td>\n",
       "      <td>28.707317</td>\n",
       "      <td>0.448746</td>\n",
       "      <td>17.060976</td>\n",
       "      <td>5.719512</td>\n",
       "      <td>0.333800</td>\n",
       "      <td>25.121951</td>\n",
       "      <td>18.853659</td>\n",
       "      <td>0.753800</td>\n",
       "      <td>11.182927</td>\n",
       "      <td>29.134146</td>\n",
       "      <td>40.317073</td>\n",
       "      <td>23.195122</td>\n",
       "      <td>23.841463</td>\n",
       "      <td>22.804878</td>\n",
       "      <td>23.000000</td>\n",
       "      <td>0.475610</td>\n",
       "      <td>0.109756</td>\n",
       "      <td>0.000000</td>\n",
       "      <td>0.0</td>\n",
       "      <td>47.837867</td>\n",
       "      <td>55.989220</td>\n",
       "      <td>0.507712</td>\n",
       "      <td>0.460761</td>\n",
       "      <td>25.550113</td>\n",
       "      <td>71.441363</td>\n",
       "      <td>13.248724</td>\n",
       "      <td>7.782578</td>\n",
       "      <td>6.336188</td>\n",
       "      <td>9.213826</td>\n",
       "      <td>1.156089</td>\n",
       "      <td>65.018293</td>\n",
       "      <td>53.846759</td>\n",
       "      <td>101.542535</td>\n",
       "      <td>111.624296</td>\n",
       "      <td>-10.081761</td>\n",
       "      <td>0.410439</td>\n",
       "      <td>15.310763</td>\n",
       "      <td>1.466465</td>\n",
       "      <td>52.215484</td>\n",
       "      <td>0.256098</td>\n",
       "      <td>0</td>\n",
       "    </tr>\n",
       "    <tr>\n",
       "      <th>CHI</th>\n",
       "      <td>93.182927</td>\n",
       "      <td>23.000000</td>\n",
       "      <td>14.280488</td>\n",
       "      <td>7.170732</td>\n",
       "      <td>5.085366</td>\n",
       "      <td>19.719512</td>\n",
       "      <td>81.682927</td>\n",
       "      <td>35.682927</td>\n",
       "      <td>0.438539</td>\n",
       "      <td>66.256098</td>\n",
       "      <td>30.243902</td>\n",
       "      <td>0.458105</td>\n",
       "      <td>15.426829</td>\n",
       "      <td>5.439024</td>\n",
       "      <td>0.350826</td>\n",
       "      <td>21.195122</td>\n",
       "      <td>16.378049</td>\n",
       "      <td>0.774287</td>\n",
       "      <td>12.512195</td>\n",
       "      <td>30.658537</td>\n",
       "      <td>43.170732</td>\n",
       "      <td>23.341463</td>\n",
       "      <td>23.621951</td>\n",
       "      <td>22.695122</td>\n",
       "      <td>22.756098</td>\n",
       "      <td>0.768293</td>\n",
       "      <td>0.000000</td>\n",
       "      <td>0.000000</td>\n",
       "      <td>0.0</td>\n",
       "      <td>51.261163</td>\n",
       "      <td>64.236896</td>\n",
       "      <td>0.513213</td>\n",
       "      <td>0.471784</td>\n",
       "      <td>29.168224</td>\n",
       "      <td>73.886277</td>\n",
       "      <td>13.565863</td>\n",
       "      <td>7.961722</td>\n",
       "      <td>5.660011</td>\n",
       "      <td>7.697627</td>\n",
       "      <td>1.147188</td>\n",
       "      <td>70.594512</td>\n",
       "      <td>58.373360</td>\n",
       "      <td>103.508767</td>\n",
       "      <td>103.155329</td>\n",
       "      <td>0.353438</td>\n",
       "      <td>0.428205</td>\n",
       "      <td>17.872811</td>\n",
       "      <td>1.779382</td>\n",
       "      <td>54.711895</td>\n",
       "      <td>0.548780</td>\n",
       "      <td>1</td>\n",
       "    </tr>\n",
       "  </tbody>\n",
       "</table>\n",
       "</div>"
      ],
      "text/plain": [
       "                    teamPTS    teamAST     teamTO   teamSTL   teamBLK  \\\n",
       "season  teamAbbr                                                        \n",
       "2012/13 ATL       97.951220  24.475610  14.865854  8.097561  4.500000   \n",
       "        BKN       96.878049  20.341463  14.707317  7.304878  4.768293   \n",
       "        BOS       96.518519  22.753086  14.580247  8.234568  4.506173   \n",
       "        CHA       93.426829  19.353659  14.073171  7.195122  5.841463   \n",
       "        CHI       93.182927  23.000000  14.280488  7.170732  5.085366   \n",
       "\n",
       "                     teamPF    teamFGA    teamFGM   teamFG%    team2PA  \\\n",
       "season  teamAbbr                                                         \n",
       "2012/13 ATL       17.963415  81.024390  37.609756  0.465584  57.841463   \n",
       "        BKN       18.292683  79.804878  35.878049  0.449987  58.341463   \n",
       "        BOS       21.197531  79.740741  37.049383  0.466365  62.580247   \n",
       "        CHA       19.048780  81.085366  34.426829  0.425313  64.024390   \n",
       "        CHI       19.719512  81.682927  35.682927  0.438539  66.256098   \n",
       "\n",
       "                    team2PM   team2P%    team3PA   team3PM   team3P%  \\\n",
       "season  teamAbbr                                                       \n",
       "2012/13 ATL       29.000000  0.504110  23.182927  8.609756  0.373288   \n",
       "        BKN       28.219512  0.484071  21.463415  7.658537  0.356373   \n",
       "        BOS       30.901235  0.496393  17.160494  6.148148  0.360021   \n",
       "        CHA       28.707317  0.448746  17.060976  5.719512  0.333800   \n",
       "        CHI       30.243902  0.458105  15.426829  5.439024  0.350826   \n",
       "\n",
       "                    teamFTA    teamFTM   teamFT%    teamORB    teamDRB  \\\n",
       "season  teamAbbr                                                         \n",
       "2012/13 ATL       19.743902  14.121951  0.708479   9.243902  31.621951   \n",
       "        BKN       23.878049  17.463415  0.732144  12.768293  30.000000   \n",
       "        BOS       20.962963  16.271605  0.776423   8.074074  31.271605   \n",
       "        CHA       25.121951  18.853659  0.753800  11.182927  29.134146   \n",
       "        CHI       21.195122  16.378049  0.774287  12.512195  30.658537   \n",
       "\n",
       "                    teamTRB   teamPTS1   teamPTS2   teamPTS3   teamPTS4  \\\n",
       "season  teamAbbr                                                          \n",
       "2012/13 ATL       40.865854  23.841463  24.768293  24.975610  23.402439   \n",
       "        BKN       42.768293  26.158537  24.109756  22.731707  23.000000   \n",
       "        BOS       39.345679  24.481481  24.395062  23.333333  22.493827   \n",
       "        CHA       40.317073  23.195122  23.841463  22.804878  23.000000   \n",
       "        CHI       43.170732  23.341463  23.621951  22.695122  22.756098   \n",
       "\n",
       "                  teamPTS5  teamPTS6  teamPTS7  teamPTS8  teamTREB%  \\\n",
       "season  teamAbbr                                                      \n",
       "2012/13 ATL       0.548780  0.414634  0.000000       0.0  48.451795   \n",
       "        BKN       0.658537  0.219512  0.000000       0.0  52.145094   \n",
       "        BOS       1.296296  0.382716  0.135802       0.0  47.419702   \n",
       "        CHA       0.475610  0.109756  0.000000       0.0  47.837867   \n",
       "        CHI       0.768293  0.000000  0.000000       0.0  51.261163   \n",
       "\n",
       "                  teamASST%   teamTS%  teamEFG%  teamOREB%  teamDREB%  \\\n",
       "season  teamAbbr                                                        \n",
       "2012/13 ATL       64.917021  0.546949  0.519068  22.058495  74.082923   \n",
       "        BKN       56.829796  0.537116  0.498278  30.775823  73.941318   \n",
       "        BOS       61.464602  0.543958  0.505091  19.849091  73.645579   \n",
       "        CHA       55.989220  0.507712  0.460761  25.550113  71.441363   \n",
       "        CHI       64.236896  0.513213  0.471784  29.168224  73.886277   \n",
       "\n",
       "                    teamTO%  teamSTL%  teamBLK%  teamBLKR   teamPPS  \\\n",
       "season  teamAbbr                                                      \n",
       "2012/13 ATL       14.275735  8.632868  4.807234  7.865539  1.213796   \n",
       "        BKN       14.013863  8.131777  5.334624  8.313509  1.218228   \n",
       "        BOS       14.087037  8.759989  4.804304  7.320688  1.216717   \n",
       "        CHA       13.248724  7.782578  6.336188  9.213826  1.156089   \n",
       "        CHI       13.565863  7.961722  5.660011  7.697627  1.147188   \n",
       "\n",
       "                    teamFIC  teamFIC40    teamOrtg    teamDrtg  teamEDiff  \\\n",
       "season  teamAbbr                                                            \n",
       "2012/13 ATL       75.964939  62.702237  104.790709  104.424877   0.365832   \n",
       "        BKN       71.899390  59.427166  108.316682  106.349655   1.967027   \n",
       "        BOS       70.694444  57.759542  103.199075  103.510258  -0.311183   \n",
       "        CHA       65.018293  53.846759  101.542535  111.624296 -10.081761   \n",
       "        CHI       70.594512  58.373360  103.508767  103.155329   0.353438   \n",
       "\n",
       "                  teamPlay%     teamAR  teamAST/TO  teamSTL/TO       Win  \\\n",
       "season  teamAbbr                                                           \n",
       "2012/13 ATL        0.434633  18.867440    1.779402   58.132051  0.536585   \n",
       "        BKN        0.439562  16.164246    1.503246   53.735435  0.597561   \n",
       "        BOS        0.430501  17.931032    1.628542   59.160886  0.506173   \n",
       "        CHA        0.410439  15.310763    1.466465   52.215484  0.256098   \n",
       "        CHI        0.428205  17.872811    1.779382   54.711895  0.548780   \n",
       "\n",
       "                  playoffs  \n",
       "season  teamAbbr            \n",
       "2012/13 ATL              1  \n",
       "        BKN              1  \n",
       "        BOS              1  \n",
       "        CHA              0  \n",
       "        CHI              1  "
      ]
     },
     "execution_count": 8,
     "metadata": {},
     "output_type": "execute_result"
    }
   ],
   "source": [
    "# take a look at the final primary table\n",
    "all_data.head()"
   ]
  },
  {
   "cell_type": "markdown",
   "metadata": {},
   "source": [
    "### 2. Preliminary Exploratory Data Analysis"
   ]
  },
  {
   "cell_type": "markdown",
   "metadata": {},
   "source": [
    "Though intuitive, we wanted to substantiate our hypothesis from the data (that prior performance is indicative of future performance). Let's visualize how teams' rankings have adjusted over time.\n",
    "\n",
    "Note, with 30 teams, it would be almost impossible to try to visualize ranking movement over time of the entire NBA. Instead, we have segmented our visualizations into the 6 divisions. Some quick research shows that the composition of these divisions has not changed within the past 8 years; hence, we will run into no issues with contigency. We also assume that cases of rebranding (i.e. the Charlotte Bobcats rebranded into the Hornets), have no serious implications on team performance."
   ]
  },
  {
   "cell_type": "code",
   "execution_count": 9,
   "metadata": {},
   "outputs": [],
   "source": [
    "# flatten the multi-indexed rankings dataframe\n",
    "flattened_rankings = pd.DataFrame(rankings.to_records())\n",
    "\n",
    "# use regex to convert the String season into a meaningful int\n",
    "start_years = flattened_rankings['season'].str.extract('(.*)\\/')[0]\n",
    "flattened_rankings['startYear'] = pd.to_numeric(start_years)\n",
    "\n",
    "# introduce divisions and take relevant columns\n",
    "division_rankings = flattened_rankings.merge(scores, on='teamAbbr').groupby(['teamAbbr', 'startYear']).first()\n",
    "division_rankings = pd.DataFrame(division_rankings[['rank', 'teamDiv']].to_records())"
   ]
  },
  {
   "cell_type": "code",
   "execution_count": 10,
   "metadata": {
    "scrolled": false
   },
   "outputs": [
    {
     "data": {
      "image/png": "[encoded data removed]",
      "text/plain": [
       "<Figure size 576x288 with 1 Axes>"
      ]
     },
     "metadata": {
      "needs_background": "light"
     },
     "output_type": "display_data"
    },
    {
     "data": {
      "image/png": "[encoded data removed]",
      "text/plain": [
       "<Figure size 576x288 with 1 Axes>"
      ]
     },
     "metadata": {
      "needs_background": "light"
     },
     "output_type": "display_data"
    },
    {
     "data": {
      "image/png": "[encoded data removed]",
      "text/plain": [
       "<Figure size 576x288 with 1 Axes>"
      ]
     },
     "metadata": {
      "needs_background": "light"
     },
     "output_type": "display_data"
    },
    {
     "data": {
      "image/png": "[encoded data removed]",
      "text/plain": [
       "<Figure size 576x288 with 1 Axes>"
      ]
     },
     "metadata": {
      "needs_background": "light"
     },
     "output_type": "display_data"
    },
    {
     "data": {
      "image/png": "[encoded data removed]",
      "text/plain": [
       "<Figure size 576x288 with 1 Axes>"
      ]
     },
     "metadata": {
      "needs_background": "light"
     },
     "output_type": "display_data"
    },
    {
     "data": {
      "image/png": "[encoded data removed]",
      "text/plain": [
       "<Figure size 576x288 with 1 Axes>"
      ]
     },
     "metadata": {
      "needs_background": "light"
     },
     "output_type": "display_data"
    }
   ],
   "source": [
    "# list of all possible divisions\n",
    "divisions = ['Atlantic', 'Central', 'Southeast', 'Northwest', 'Pacific', 'Southwest']\n",
    "\n",
    "# plotting for the separate divisions\n",
    "for division in divisions:\n",
    "    plt.figure(figsize=(8, 4))\n",
    "    atlantic = sns.lineplot('startYear', 'rank', data=division_rankings[division_rankings['teamDiv'] == division], \n",
    "                            hue='teamAbbr')\n",
    "    atlantic.legend(loc='bottom right', bbox_to_anchor=(1.25, 0.5), ncol=1)\n",
    "    plt.title('Regular Season Conference Rankings of {} Teams'.format(division))\n",
    "    plt.xlabel('Season Start Year')\n",
    "    plt.yticks(range(1))\n",
    "    \n",
    "    # inverting y axis because lower ranks are better, makes the visualization more intuitive\n",
    "    plt.gca().invert_yaxis()\n",
    "    plt.show();"
   ]
  },
  {
   "cell_type": "markdown",
   "metadata": {},
   "source": [
    "These visualizations show us that most teams tend to either fluctuate around the same standings or progressively trend towards either towards the top or the bottom of the standings. Teams that 'spike' between positions (like Charlotte in Southeast division) are pretty uncommon, or that quickly rise up the standings (like Philadelphia in the Atlantic division from the 16/17 to 17/18 season). Without rigorous proof, we can see this trend is valid. We will account for light fluctuations through a moving average of statistics over the past 3 seasons.\n",
    "\n",
    "After some external research, we discovered that sudden team improvements (like the 76ers as mentioned above) are largely due to obtaining leverage after obtaining high draft picks in the NBA lottery (either through getting a new young talent to build a team around, or trading for better components)."
   ]
  },
  {
   "cell_type": "markdown",
   "metadata": {},
   "source": [
    "### 3. Feature Engineering/More EDA\n",
    "\n",
    "Now, we want to discover which features are most correlated to success, potentially identify redudancy/multicollinearity, and identify significant features that our data doesn't fully address."
   ]
  },
  {
   "cell_type": "code",
   "execution_count": 11,
   "metadata": {},
   "outputs": [],
   "source": [
    "# add a column of whether the team made playoffs in the next season\n",
    "# 2018-19 season playoffs data which is manually inputted from NBA.com\n",
    "season_1819 = pd.DataFrame()\n",
    "season_1819['teamAbbr'] = rankings.index.get_level_values('teamAbbr').unique().tolist()\n",
    "season_1819['playoffs'] = [0, 1, 1, 0, 0, 0, 0, 1, 1, 1, 1, 1, 1, 0, 0, 0, 1, 0, 0, 0, 1, 1, 1, 0, 1, 1, 0, 1, 1, 0]\n",
    "season_1819['season'] = ['2018/19'] * len(season_1819)\n",
    "seasons_playoff = all_data['playoffs'].reset_index()\n",
    "seasons_playoff.append(season_1819)\n",
    "\n",
    "# remove the 2012-13 season data\n",
    "seasons_playoff = seasons_playoff[seasons_playoff['season'] != '2012/13']\n",
    "seasons_playoff.columns = ['next_season', 'teamAbbr', 'next_playoffs']"
   ]
  },
  {
   "cell_type": "code",
   "execution_count": 12,
   "metadata": {},
   "outputs": [],
   "source": [
    "def addNextSeason(df):\n",
    "    \"\"\"\n",
    "    df: selected Pandas Dataframe\n",
    "    \n",
    "    return: augmented version of df that includes a column for the next season label\n",
    "    \"\"\"\n",
    "    # map current season to next season\n",
    "    dates_dict = {'2012/13': '2013/14', \\\n",
    "                 '2013/14': '2014/15', \\\n",
    "                 '2014/15': '2015/16', \\\n",
    "                 '2015/16': '2016/17', \\\n",
    "                 '2016/17': '2017/18', \\\n",
    "                 '2017/18': '2018/19'}\n",
    "    df_new = df.reset_index().copy()\n",
    "    df_new['next_season'] = df_new['season'].map(dates_dict)\n",
    "    return df_new.merge(seasons_playoff, how='inner', on=['teamAbbr', 'next_season'])"
   ]
  },
  {
   "cell_type": "code",
   "execution_count": 13,
   "metadata": {
    "scrolled": true
   },
   "outputs": [],
   "source": [
    "def addMovingAverage(df):\n",
    "    # create a new table which has the mean of past 3 seasons and whether the team makes playoffs next season. \n",
    "    # Note the input into 'rolling' is the # seasons for our moving average window\n",
    "    mov_avg_data = df.groupby('teamAbbr').rolling(3).mean()\n",
    "\n",
    "    # remove the NaN rows which exist because first 2 seasons for MA don't exist \n",
    "    mov_avg_data = mov_avg_data.dropna()\n",
    "    mov_avg_data.index = mov_avg_data.index.droplevel(2)\n",
    "    \n",
    "    return addNextSeason(mov_avg_data)"
   ]
  },
  {
   "cell_type": "code",
   "execution_count": 14,
   "metadata": {},
   "outputs": [],
   "source": [
    "mov_avg = addMovingAverage(all_data)"
   ]
  },
  {
   "cell_type": "markdown",
   "metadata": {},
   "source": [
    "NB: We will now split our data into training and test data so that our feature engineering is based only on our training data"
   ]
  },
  {
   "cell_type": "code",
   "execution_count": 15,
   "metadata": {},
   "outputs": [],
   "source": [
    "# Now we have all our training data and labels\n",
    "mov_avg_data = mov_avg.drop(columns = ['teamAbbr', 'season', 'next_season'])\n",
    "\n",
    "X = mov_avg_data.drop(columns = 'next_playoffs')\n",
    "y = mov_avg_data['next_playoffs']\n",
    "\n",
    "# split off a portion of the data to use as test data. Shuffling is automatically done.\n",
    "train_x, test_x, train_y, test_y = train_test_split(X, y, test_size=0.15, random_state=42)\n",
    "\n",
    "# normalize the data \n",
    "mm_scaler = preprocessing.MinMaxScaler()\n",
    "train_x = pd.DataFrame(mm_scaler.fit_transform(train_x), columns=train_x.columns)\n",
    "test_x = pd.DataFrame(mm_scaler.transform(test_x), columns=test_x.columns)"
   ]
  },
  {
   "cell_type": "markdown",
   "metadata": {},
   "source": [
    "Now, let's see which of our current features is most correlated with playoff qualification."
   ]
  },
  {
   "cell_type": "code",
   "execution_count": 16,
   "metadata": {},
   "outputs": [
    {
     "data": {
      "text/plain": [
       "teamPTS7     0.197857\n",
       "teamPTS5     0.189708\n",
       "teamBLK%     0.177610\n",
       "teamPTS6     0.177222\n",
       "teamBLK      0.173642\n",
       "playoffs     0.162047\n",
       "teamPlay%    0.152233\n",
       "teamBLKR     0.147389\n",
       "teamEDiff    0.144812\n",
       "Win          0.141929\n",
       "teamDREB%    0.136170\n",
       "teamOrtg     0.134977\n",
       "teamFIC40    0.127554\n",
       "teamFIC      0.124854\n",
       "teamOREB%    0.123778\n",
       "Name: next_playoffs, dtype: float64"
      ]
     },
     "execution_count": 16,
     "metadata": {},
     "output_type": "execute_result"
    }
   ],
   "source": [
    "# finding the top 10 features in correlation magnitude with next year playoff qualification\n",
    "# We start the index at 1 to remove the perfect correlation between next_playoff and itself\n",
    "training_data = train_x.copy()\n",
    "training_data['next_playoffs'] = train_y\n",
    "training_data.corr()['next_playoffs'].abs().sort_values(ascending=False)[1:16]"
   ]
  },
  {
   "cell_type": "markdown",
   "metadata": {},
   "source": [
    "To gain a better understanding of the nuances of our question (and for curiosity's sake), let's also take a look at the worst features."
   ]
  },
  {
   "cell_type": "code",
   "execution_count": 17,
   "metadata": {},
   "outputs": [
    {
     "data": {
      "text/plain": [
       "teamFGA    0.005097\n",
       "team2PA    0.006378\n",
       "team3PA    0.008302\n",
       "teamFT%    0.011898\n",
       "team3PM    0.024684\n",
       "teamTO     0.026458\n",
       "teamTO%    0.029050\n",
       "teamDRB    0.035700\n",
       "teamSTL    0.039009\n",
       "teamFTM    0.040173\n",
       "Name: next_playoffs, dtype: float64"
      ]
     },
     "execution_count": 17,
     "metadata": {},
     "output_type": "execute_result"
    }
   ],
   "source": [
    "# finding the worst 10 features in correlation magnitude with next year playoff qualification\n",
    "training_data.corr()['next_playoffs'].abs().sort_values()[:10]"
   ]
  },
  {
   "cell_type": "markdown",
   "metadata": {},
   "source": [
    "Some of these findings are largely intuitive. For example, we would expect that teams with more wins will naturally do better, and given our findings in previous sections, that teams who have been making the playoffs in recent years to do so again. On the other hand, since free throws have inherently lower point values, they matter less when compared to field goals.  \n",
    "\n",
    "A very interesting observation is that of the top 4 most correlated features with whether a team will make the next playoffs, three of them are to do with overtime performance. This could be a proxy for 'clutch' or how well the team performs under pressure. THe greater the 'clutch' of the team, the higher likelihood they will make the next playoffs.\n",
    "\n",
    "Furthermore, some of the results see counter intuitive. For example, turnovers do not contribute that much to predicting playoffs (though they seem to be a pinacle point of statistical analysis by many basketball pundits), and in an era of the game where 3PT shooting is so important, it's interesting to see that no statistic about 3 point shooting is on the top 15 correlated features. Let's take a look to see if time is a factor that relates to this surprising phenomenon with 3PT shooting."
   ]
  },
  {
   "cell_type": "code",
   "execution_count": 18,
   "metadata": {},
   "outputs": [
    {
     "data": {
      "image/png": "[encoded data removed]",
      "text/plain": [
       "<Figure size 432x288 with 1 Axes>"
      ]
     },
     "metadata": {
      "needs_background": "light"
     },
     "output_type": "display_data"
    }
   ],
   "source": [
    "playoff_teams = all_data[all_data['playoffs'] == 1]\n",
    "playoff_teams = pd.DataFrame(playoff_teams.to_records())\n",
    "sns.boxplot('season', 'team3P%', data=playoff_teams)\n",
    "plt.title(\"Boxplot of 3P% of Playoff Teams\");"
   ]
  },
  {
   "cell_type": "markdown",
   "metadata": {},
   "source": [
    "Wonder who that insane outlier that shot over 41% collectively as a team (2015/16 season) is? I think most casual NBA fans in the Bay Area can accurately guess."
   ]
  },
  {
   "cell_type": "code",
   "execution_count": 19,
   "metadata": {},
   "outputs": [
    {
     "data": {
      "text/plain": [
       "56    GS\n",
       "Name: teamAbbr, dtype: object"
      ]
     },
     "execution_count": 19,
     "metadata": {},
     "output_type": "execute_result"
    }
   ],
   "source": [
    "playoff_teams[playoff_teams['team3P%'] > 0.41]['teamAbbr']"
   ]
  },
  {
   "cell_type": "markdown",
   "metadata": {},
   "source": [
    "That 2016/17 outlier that shot horribly from outside the perimeter was also of interest to us."
   ]
  },
  {
   "cell_type": "code",
   "execution_count": 20,
   "metadata": {},
   "outputs": [
    {
     "data": {
      "text/plain": [
       "77    OKC\n",
       "Name: teamAbbr, dtype: object"
      ]
     },
     "execution_count": 20,
     "metadata": {},
     "output_type": "execute_result"
    }
   ],
   "source": [
    "playoff_teams[(playoff_teams['team3P%'] < 0.33) & (playoff_teams['season'] == '2016/17')]['teamAbbr']"
   ]
  },
  {
   "cell_type": "markdown",
   "metadata": {},
   "source": [
    "which honestly shouldn't be a surprise when you realize Russel Westbrook shot an average of 7.2\t3s per game at only 34.3%. \n",
    "\n",
    "Source: https://www.basketball-reference.com/players/w/westbru01.html"
   ]
  },
  {
   "cell_type": "code",
   "execution_count": 21,
   "metadata": {},
   "outputs": [
    {
     "data": {
      "image/png": "[encoded data removed]",
      "text/plain": [
       "<Figure size 432x288 with 1 Axes>"
      ]
     },
     "metadata": {
      "needs_background": "light"
     },
     "output_type": "display_data"
    }
   ],
   "source": [
    "all_teams = pd.DataFrame(all_data.to_records())\n",
    "sns.boxplot('season', 'team3P%', data=all_teams)\n",
    "plt.title(\"Boxplot of 3P% of All Teams\");"
   ]
  },
  {
   "cell_type": "markdown",
   "metadata": {},
   "source": [
    "all NBA teams performed slightly worse, but interestingly enough, there wasn't the surge of tendency to shoot better from outside the arc as we anticipated. Though it's surprising and won't help us with modelling, it was a really cool observation to make, and probably something on interest that will come up in our casual basketball conversations in the future."
   ]
  },
  {
   "cell_type": "markdown",
   "metadata": {},
   "source": [
    "We also notice that a large majority of high correlation magnitudes are based on shooting efficiency. We hypothesize that there's probably much redundancy in these features."
   ]
  },
  {
   "cell_type": "code",
   "execution_count": 22,
   "metadata": {},
   "outputs": [
    {
     "data": {
      "image/png": "[encoded data removed]",
      "text/plain": [
       "<Figure size 720x504 with 2 Axes>"
      ]
     },
     "metadata": {
      "needs_background": "light"
     },
     "output_type": "display_data"
    }
   ],
   "source": [
    "shooting_metrics = training_data[['teamTS%', 'teamEFG%', 'team2P%', 'teamFG%', 'teamPPS']]\n",
    "\n",
    "plt.figure(figsize=(10, 7))\n",
    "shot_heatmap = sns.heatmap(shooting_metrics.corr(), annot=True)\n",
    "plt.title(\"Correlation Heatmap between Shooting Metrics\")\n",
    "\n",
    "# this line of code below fixes a sns.heatmap bug with newer iterations of matplotlib\n",
    "shot_heatmap.set_ylim(0, 5);"
   ]
  },
  {
   "cell_type": "markdown",
   "metadata": {},
   "source": [
    "Unsurprisingly, these features are highly correlated. We should probably only use one. We choose True Shooting Percentage because it's both the highest correlated and the best comprehensive metric for all shooting efficiency.\n",
    "\n",
    "We now go through all the possible features again, repeat this process, and pick out a set of features that are both indicative, and uncorrelated with each other. An interesting observation from the heatmap below is that defensive rating seems to be negatively correlated with playoff contention. This seems counter-intuitive; after all, \"defense wins championships.\" It's worth noting that lower defensive ratings are actually better (i.e. lower scores mean better defenses) given the NBA's definition. Hence, it's not really that counterintuitive."
   ]
  },
  {
   "cell_type": "code",
   "execution_count": 23,
   "metadata": {},
   "outputs": [
    {
     "data": {
      "image/png": "[encoded data removed]",
      "text/plain": [
       "<Figure size 720x504 with 2 Axes>"
      ]
     },
     "metadata": {
      "needs_background": "light"
     },
     "output_type": "display_data"
    }
   ],
   "source": [
    "final_features = ['Win', 'playoffs', 'teamDrtg', 'teamTS%']\n",
    "# final_features = ['Win', 'playoffs', 'teamDrtg', 'teamOrtg', 'teamPTS7', 'teamBLK%']\n",
    "\n",
    "final_mov_avg = training_data[final_features + ['next_playoffs']]\n",
    "plt.figure(figsize=(10, 7))\n",
    "shot_heatmap = sns.heatmap(final_mov_avg.corr(), annot=True)\n",
    "plt.title(\"Correlation Heatmap between Final Features\")\n",
    "\n",
    "# this line of code below fixes a sns.heatmap bug with newer iterations of matplotlib\n",
    "shot_heatmap.set_ylim(0, 5);"
   ]
  },
  {
   "cell_type": "markdown",
   "metadata": {},
   "source": [
    "Even after selecting highly correlated features that have seemingly little to do with each other at first glance, there's still a significant amount of redundancy."
   ]
  },
  {
   "cell_type": "markdown",
   "metadata": {},
   "source": [
    "### 4. Initial Model Selection\n",
    "\n",
    "Let's try to fit a diverse range of models to see how well we can predict NBA playoff qualification with only our given dataset"
   ]
  },
  {
   "cell_type": "markdown",
   "metadata": {},
   "source": [
    "#### Model 4.1: Naive Baseline Predictor\n",
    "\n",
    "We'll create a baseline predictor that simply predicts playoff qualification based on past season's performance (i.e. teams who made the playoffs in the past will make it again)."
   ]
  },
  {
   "cell_type": "code",
   "execution_count": 24,
   "metadata": {},
   "outputs": [],
   "source": [
    "# using a dictionary of dates, have a column of the next season\n",
    "baseline_df = addNextSeason(all_data)\n",
    "\n",
    "baseline_x = baseline_df.drop(['next_playoffs', 'season', 'teamAbbr', 'next_season'], axis=1)\n",
    "baseline_y = baseline_df['next_playoffs']\n",
    "base_train_x, base_test_x, base_train_y, base_test_y = train_test_split(baseline_x, baseline_y, test_size=0.15, random_state=42)\n",
    "\n",
    "# normalize the data using minmaxscaler\n",
    "mm_scaler = preprocessing.MinMaxScaler()\n",
    "base_train_x = pd.DataFrame(mm_scaler.fit_transform(base_train_x), columns=base_train_x.columns)\n",
    "base_test_x = pd.DataFrame(mm_scaler.transform(base_test_x), columns=base_test_x.columns)"
   ]
  },
  {
   "cell_type": "code",
   "execution_count": 25,
   "metadata": {},
   "outputs": [
    {
     "name": "stdout",
     "output_type": "stream",
     "text": [
      "The Baseline score is:  0.7637795275590551\n"
     ]
    }
   ],
   "source": [
    "class naive_predictor:\n",
    "    def init(self):\n",
    "        pass\n",
    "    \n",
    "    def fit(self, X, y):\n",
    "        self.X = X\n",
    "        self.y = y\n",
    "        \n",
    "    def predict(self):\n",
    "        return self.X['playoffs'] == 1.0\n",
    "    \n",
    "    def score(self):\n",
    "        return np.average((self.X['playoffs'] == 1.0) == self.y)\n",
    "\n",
    "    \n",
    "baseline = naive_predictor()\n",
    "baseline.fit(base_train_x, base_train_y.astype(float).reset_index()['next_playoffs'])\n",
    "baseline_score = baseline.score()\n",
    "print(\"The Baseline score is: \", baseline_score)"
   ]
  },
  {
   "cell_type": "markdown",
   "metadata": {},
   "source": [
    "Roughly 76% accuracy is decent for a baseline/naive predictor. It does beat guessing at random (which would converge to a 50% accuracy). Let's see if we can make our predictor more sophisticated in future iterations."
   ]
  },
  {
   "cell_type": "markdown",
   "metadata": {},
   "source": [
    "#### Model 4.2a: Majority Predictor\n",
    "\n",
    "Let's enhance our naive predictor to account for our feature engineering. Namely, we'll predict that a team makes the playoffs if the team made more than 50% of the playoffs in the past 3 seasons (since there are exactly 3 seasons, it's impossible to qualify exactly 50% of the time)."
   ]
  },
  {
   "cell_type": "code",
   "execution_count": 26,
   "metadata": {},
   "outputs": [
    {
     "name": "stdout",
     "output_type": "stream",
     "text": [
      "The majority score is:  0.7763157894736842\n"
     ]
    }
   ],
   "source": [
    "class mav_predictor:\n",
    "    def init(self):\n",
    "        pass\n",
    "    \n",
    "    def fit(self, X, y):\n",
    "        self.X = X\n",
    "        self.y = y\n",
    "        \n",
    "    def predict(self):\n",
    "        return self.X['playoffs'] > 0.5\n",
    "    \n",
    "    def score(self):\n",
    "        return np.average((self.X['playoffs'] > 0.5) == self.y)\n",
    "    \n",
    "    def wrong_predictions(self):\n",
    "        return self.X[self.predict() != self.y]\n",
    "    \n",
    "mav = mav_predictor()\n",
    "mav.fit(train_x, train_y.astype(float).reset_index()['next_playoffs'])\n",
    "majority_score = mav.score()\n",
    "print(\"The majority score is: \", majority_score)"
   ]
  },
  {
   "cell_type": "markdown",
   "metadata": {},
   "source": [
    "Using the moving average helps us make much better predictions, even without a sophisticated mechanism. This reinforces our idea that we can somewhat guess playoff qualification well using recent past performance. "
   ]
  },
  {
   "cell_type": "markdown",
   "metadata": {},
   "source": [
    "#### Model 4.3a: Logistic Regression with Feature Selection\n",
    "\n",
    "We'll now perform logistic regression on our selected features."
   ]
  },
  {
   "cell_type": "code",
   "execution_count": 27,
   "metadata": {},
   "outputs": [
    {
     "name": "stdout",
     "output_type": "stream",
     "text": [
      "The best hyperparamter C is:  3.3489795918367347\n"
     ]
    },
    {
     "data": {
      "image/png": "[encoded data removed]",
      "text/plain": [
       "<Figure size 432x288 with 1 Axes>"
      ]
     },
     "metadata": {
      "needs_background": "light"
     },
     "output_type": "display_data"
    }
   ],
   "source": [
    "train_x_cleaned = train_x[final_features]\n",
    "c_vals = np.linspace(0.1, 20, 50)\n",
    "\n",
    "logreg_score = []\n",
    "for c in c_vals:\n",
    "    logreg_naive = LogisticRegression(C=c, random_state=42)\n",
    "    logreg_score.append(np.mean(cross_val_score(logreg_naive, train_x_cleaned, train_y, cv=5)))\n",
    "\n",
    "plt.plot(c_vals, logreg_score)\n",
    "plt.title('Cross Validation Score for Logistic Regression')\n",
    "plt.xlabel('C parameter value')\n",
    "plt.ylabel('CV accuracy');\n",
    "\n",
    "best_C = c_vals[np.argmax(logreg_score)]\n",
    "print(\"The best hyperparamter C is: \", best_C)"
   ]
  },
  {
   "cell_type": "markdown",
   "metadata": {},
   "source": [
    "#### Model 4.3b: Decision Tree Classifier with Feature Selection"
   ]
  },
  {
   "cell_type": "code",
   "execution_count": 28,
   "metadata": {},
   "outputs": [
    {
     "name": "stdout",
     "output_type": "stream",
     "text": [
      "The cross validation accuracy of decision tree is:  0.6191666666666666\n"
     ]
    }
   ],
   "source": [
    "decisiontree_naive = DecisionTreeClassifier(random_state=42)\n",
    "decisiontree_score = np.mean(cross_val_score(decisiontree_naive, train_x_cleaned, train_y, cv=5))\n",
    "print('The cross validation accuracy of decision tree is: ', decisiontree_score)"
   ]
  },
  {
   "cell_type": "markdown",
   "metadata": {},
   "source": [
    "Note, the lower CV score is expected due to the nature of decision trees to overfit."
   ]
  },
  {
   "cell_type": "code",
   "execution_count": 29,
   "metadata": {},
   "outputs": [
    {
     "data": {
      "image/png": "[encoded data removed]",
      "text/plain": [
       "<Figure size 1080x720 with 1 Axes>"
      ]
     },
     "metadata": {
      "needs_background": "light"
     },
     "output_type": "display_data"
    }
   ],
   "source": [
    "decisiontree_naive.fit(train_x_cleaned, train_y)\n",
    "plt.figure(figsize=(15,10))\n",
    "plot_tree(decisiontree_naive, feature_names = train_x_cleaned.columns, \\\n",
    "          filled=True, label='root', \\\n",
    "          impurity=False, \\\n",
    "         class_names = ['playoffs', 'no playoffs']);"
   ]
  },
  {
   "cell_type": "markdown",
   "metadata": {},
   "source": [
    "#### Model 4.3c: Random Forest Classifier with Feature Selection"
   ]
  },
  {
   "cell_type": "code",
   "execution_count": 30,
   "metadata": {},
   "outputs": [
    {
     "name": "stdout",
     "output_type": "stream",
     "text": [
      "The best cross validation score for random forest is:  0.7633333333333333\n",
      "The best depth to use is:  1\n",
      "The best number of trees to use is:  100\n",
      "The best number of splits to use is:  auto\n"
     ]
    }
   ],
   "source": [
    "depths = [1, 5, 10, 15, 20]\n",
    "num_trees = [1, 5, 10, 100, 1000]\n",
    "max_features = ['auto', 'log2', None]\n",
    "randomforest_scores = []\n",
    "rf_best_depth = -100\n",
    "rf_best_num_trees = -100\n",
    "rf_best_split = -100\n",
    "max_score = -10000\n",
    "for depth in depths:\n",
    "    for n in num_trees:\n",
    "        for m in max_features:\n",
    "            randomforest = RandomForestClassifier(max_depth = depth, n_estimators=n, random_state=42, \\\n",
    "                                                  max_features=m)\n",
    "            curr = np.mean(cross_val_score(randomforest, train_x, train_y, cv=5))\n",
    "            if curr >= max_score:\n",
    "                rf_best_depth = depth\n",
    "                rf_best_num_trees = n\n",
    "                max_score = curr\n",
    "                rf_best_split= m\n",
    "print('The best cross validation score for random forest is: ', max_score)\n",
    "print('The best depth to use is: ', rf_best_depth)\n",
    "print('The best number of trees to use is: ', rf_best_num_trees)\n",
    "print('The best number of splits to use is: ', rf_best_split)"
   ]
  },
  {
   "cell_type": "markdown",
   "metadata": {},
   "source": [
    "#### Model 4.4: KNN\n",
    "\n",
    "Let's go above and beyond and incorporate a (largely underrated) classification scheme.\n",
    "\n",
    "<b> TODO: Kevin maybe add a link to the 189 lecture where the prof talks about how it's underrated </b>"
   ]
  },
  {
   "cell_type": "code",
   "execution_count": 32,
   "metadata": {},
   "outputs": [
    {
     "data": {
      "image/png": "[encoded data removed]",
      "text/plain": [
       "<Figure size 432x288 with 1 Axes>"
      ]
     },
     "metadata": {
      "needs_background": "light"
     },
     "output_type": "display_data"
    }
   ],
   "source": [
    "num_neighbours = [1, 5, 10, 20, 50, 100]\n",
    "neigh_score= []\n",
    "for n in num_neighbours:\n",
    "    neigh = KNeighborsClassifier()\n",
    "    neigh_score.append(np.mean(cross_val_score(neigh, train_x_cleaned, train_y, cv=5)))\n",
    "plt.plot(num_neighbours, neigh_score)\n",
    "plt.title('The cross validation accuracy of K-NN')\n",
    "plt.xlabel('Number of neighbours')\n",
    "plt.ylabel('CV accuracy');"
   ]
  },
  {
   "cell_type": "markdown",
   "metadata": {},
   "source": [
    "### 5. Additional Feature Engineering"
   ]
  },
  {
   "cell_type": "markdown",
   "metadata": {},
   "source": [
    "To find ways to improve our models, we should probably take a look at the teams where our slightly mare sophisticated maj classifier didn't guess right."
   ]
  },
  {
   "cell_type": "markdown",
   "metadata": {},
   "source": [
    "#### 5.1.1 PCA analysis"
   ]
  },
  {
   "cell_type": "code",
   "execution_count": 34,
   "metadata": {},
   "outputs": [
    {
     "data": {
      "text/html": [
       "<div>\n",
       "<style scoped>\n",
       "    .dataframe tbody tr th:only-of-type {\n",
       "        vertical-align: middle;\n",
       "    }\n",
       "\n",
       "    .dataframe tbody tr th {\n",
       "        vertical-align: top;\n",
       "    }\n",
       "\n",
       "    .dataframe thead th {\n",
       "        text-align: right;\n",
       "    }\n",
       "</style>\n",
       "<table border=\"1\" class=\"dataframe\">\n",
       "  <thead>\n",
       "    <tr style=\"text-align: right;\">\n",
       "      <th></th>\n",
       "      <th>teamPTS</th>\n",
       "      <th>teamAST</th>\n",
       "      <th>teamTO</th>\n",
       "      <th>teamSTL</th>\n",
       "      <th>teamBLK</th>\n",
       "      <th>teamPF</th>\n",
       "      <th>teamFGA</th>\n",
       "      <th>teamFGM</th>\n",
       "      <th>teamFG%</th>\n",
       "      <th>team2PA</th>\n",
       "      <th>team2PM</th>\n",
       "      <th>team2P%</th>\n",
       "      <th>team3PA</th>\n",
       "      <th>team3PM</th>\n",
       "      <th>team3P%</th>\n",
       "      <th>teamFTA</th>\n",
       "      <th>teamFTM</th>\n",
       "      <th>teamFT%</th>\n",
       "      <th>teamORB</th>\n",
       "      <th>teamDRB</th>\n",
       "      <th>teamTRB</th>\n",
       "      <th>teamPTS1</th>\n",
       "      <th>teamPTS2</th>\n",
       "      <th>teamPTS3</th>\n",
       "      <th>teamPTS4</th>\n",
       "      <th>teamPTS5</th>\n",
       "      <th>teamPTS6</th>\n",
       "      <th>teamPTS7</th>\n",
       "      <th>teamPTS8</th>\n",
       "      <th>teamTREB%</th>\n",
       "      <th>teamASST%</th>\n",
       "      <th>teamTS%</th>\n",
       "      <th>teamEFG%</th>\n",
       "      <th>teamOREB%</th>\n",
       "      <th>teamDREB%</th>\n",
       "      <th>teamTO%</th>\n",
       "      <th>teamSTL%</th>\n",
       "      <th>teamBLK%</th>\n",
       "      <th>teamBLKR</th>\n",
       "      <th>teamPPS</th>\n",
       "      <th>teamFIC</th>\n",
       "      <th>teamFIC40</th>\n",
       "      <th>teamOrtg</th>\n",
       "      <th>teamDrtg</th>\n",
       "      <th>teamEDiff</th>\n",
       "      <th>teamPlay%</th>\n",
       "      <th>teamAR</th>\n",
       "      <th>teamAST/TO</th>\n",
       "      <th>teamSTL/TO</th>\n",
       "      <th>Win</th>\n",
       "      <th>playoffs</th>\n",
       "    </tr>\n",
       "  </thead>\n",
       "  <tbody>\n",
       "    <tr>\n",
       "      <th>0</th>\n",
       "      <td>-1.095737</td>\n",
       "      <td>0.302976</td>\n",
       "      <td>0.023950</td>\n",
       "      <td>-1.306661</td>\n",
       "      <td>0.888579</td>\n",
       "      <td>-0.893343</td>\n",
       "      <td>-0.984485</td>\n",
       "      <td>-1.474115</td>\n",
       "      <td>-1.015167</td>\n",
       "      <td>0.593638</td>\n",
       "      <td>-0.259750</td>\n",
       "      <td>-1.321931</td>\n",
       "      <td>-0.955720</td>\n",
       "      <td>-0.932777</td>\n",
       "      <td>0.030287</td>\n",
       "      <td>0.234715</td>\n",
       "      <td>0.813383</td>\n",
       "      <td>1.077517</td>\n",
       "      <td>1.027103</td>\n",
       "      <td>0.566123</td>\n",
       "      <td>1.391054</td>\n",
       "      <td>-1.283481</td>\n",
       "      <td>-1.029748</td>\n",
       "      <td>-0.892084</td>\n",
       "      <td>-0.589816</td>\n",
       "      <td>-0.079447</td>\n",
       "      <td>0.916448</td>\n",
       "      <td>0.969367</td>\n",
       "      <td>-0.359149</td>\n",
       "      <td>1.660208</td>\n",
       "      <td>1.482139</td>\n",
       "      <td>-0.791662</td>\n",
       "      <td>-1.164248</td>\n",
       "      <td>1.250850</td>\n",
       "      <td>0.015014</td>\n",
       "      <td>0.192422</td>\n",
       "      <td>-1.087275</td>\n",
       "      <td>1.173829</td>\n",
       "      <td>0.500334</td>\n",
       "      <td>-0.605313</td>\n",
       "      <td>-0.108218</td>\n",
       "      <td>-0.133189</td>\n",
       "      <td>-0.274832</td>\n",
       "      <td>-1.991075</td>\n",
       "      <td>1.007333</td>\n",
       "      <td>-0.505170</td>\n",
       "      <td>0.604475</td>\n",
       "      <td>0.366501</td>\n",
       "      <td>-1.057893</td>\n",
       "      <td>1.093731</td>\n",
       "      <td>1.192494</td>\n",
       "    </tr>\n",
       "    <tr>\n",
       "      <th>1</th>\n",
       "      <td>-0.300347</td>\n",
       "      <td>-0.593943</td>\n",
       "      <td>0.016614</td>\n",
       "      <td>0.099072</td>\n",
       "      <td>-1.427419</td>\n",
       "      <td>-0.224984</td>\n",
       "      <td>-0.861814</td>\n",
       "      <td>-0.067159</td>\n",
       "      <td>0.550316</td>\n",
       "      <td>0.035809</td>\n",
       "      <td>0.342994</td>\n",
       "      <td>0.380117</td>\n",
       "      <td>-0.379616</td>\n",
       "      <td>-0.374662</td>\n",
       "      <td>-0.389155</td>\n",
       "      <td>-0.371266</td>\n",
       "      <td>-0.288620</td>\n",
       "      <td>0.026359</td>\n",
       "      <td>-0.806350</td>\n",
       "      <td>-0.665327</td>\n",
       "      <td>-1.289108</td>\n",
       "      <td>-0.112756</td>\n",
       "      <td>-0.325059</td>\n",
       "      <td>-0.071012</td>\n",
       "      <td>-0.390983</td>\n",
       "      <td>-0.735985</td>\n",
       "      <td>-0.427986</td>\n",
       "      <td>1.330226</td>\n",
       "      <td>-0.359149</td>\n",
       "      <td>-0.919375</td>\n",
       "      <td>-0.729960</td>\n",
       "      <td>0.258804</td>\n",
       "      <td>0.262070</td>\n",
       "      <td>-0.734108</td>\n",
       "      <td>-0.365519</td>\n",
       "      <td>0.227924</td>\n",
       "      <td>0.192198</td>\n",
       "      <td>-1.412433</td>\n",
       "      <td>-1.334215</td>\n",
       "      <td>0.214459</td>\n",
       "      <td>-0.673390</td>\n",
       "      <td>-0.668338</td>\n",
       "      <td>-0.227081</td>\n",
       "      <td>0.955699</td>\n",
       "      <td>-0.776371</td>\n",
       "      <td>0.056540</td>\n",
       "      <td>-0.378935</td>\n",
       "      <td>-0.389669</td>\n",
       "      <td>0.123855</td>\n",
       "      <td>-0.364577</td>\n",
       "      <td>0.311086</td>\n",
       "    </tr>\n",
       "    <tr>\n",
       "      <th>4</th>\n",
       "      <td>-0.597977</td>\n",
       "      <td>0.503779</td>\n",
       "      <td>1.197710</td>\n",
       "      <td>0.715738</td>\n",
       "      <td>0.646609</td>\n",
       "      <td>1.456691</td>\n",
       "      <td>-0.635987</td>\n",
       "      <td>0.101983</td>\n",
       "      <td>0.618956</td>\n",
       "      <td>1.002239</td>\n",
       "      <td>1.299523</td>\n",
       "      <td>-0.112546</td>\n",
       "      <td>-1.201822</td>\n",
       "      <td>-1.135170</td>\n",
       "      <td>0.446972</td>\n",
       "      <td>-0.613659</td>\n",
       "      <td>-0.558498</td>\n",
       "      <td>-0.103650</td>\n",
       "      <td>0.224267</td>\n",
       "      <td>-1.087848</td>\n",
       "      <td>-0.776914</td>\n",
       "      <td>-0.731097</td>\n",
       "      <td>-0.226938</td>\n",
       "      <td>-0.656858</td>\n",
       "      <td>-0.589816</td>\n",
       "      <td>0.183169</td>\n",
       "      <td>1.153701</td>\n",
       "      <td>1.570798</td>\n",
       "      <td>-0.359149</td>\n",
       "      <td>-0.350873</td>\n",
       "      <td>0.607882</td>\n",
       "      <td>-0.191334</td>\n",
       "      <td>-0.125484</td>\n",
       "      <td>0.373755</td>\n",
       "      <td>-1.552937</td>\n",
       "      <td>1.304013</td>\n",
       "      <td>0.811219</td>\n",
       "      <td>0.647780</td>\n",
       "      <td>0.088955</td>\n",
       "      <td>-0.265604</td>\n",
       "      <td>-0.541836</td>\n",
       "      <td>-0.557275</td>\n",
       "      <td>-0.742340</td>\n",
       "      <td>0.453746</td>\n",
       "      <td>-0.886233</td>\n",
       "      <td>0.021045</td>\n",
       "      <td>0.546517</td>\n",
       "      <td>-0.789082</td>\n",
       "      <td>-0.545423</td>\n",
       "      <td>-0.874985</td>\n",
       "      <td>-0.570323</td>\n",
       "    </tr>\n",
       "    <tr>\n",
       "      <th>16</th>\n",
       "      <td>-1.431854</td>\n",
       "      <td>-1.397155</td>\n",
       "      <td>-1.439582</td>\n",
       "      <td>-2.022790</td>\n",
       "      <td>1.102895</td>\n",
       "      <td>-1.445277</td>\n",
       "      <td>-0.318158</td>\n",
       "      <td>-1.697075</td>\n",
       "      <td>-1.806127</td>\n",
       "      <td>1.010529</td>\n",
       "      <td>-0.069755</td>\n",
       "      <td>-1.784501</td>\n",
       "      <td>-1.082127</td>\n",
       "      <td>-1.288498</td>\n",
       "      <td>-1.594779</td>\n",
       "      <td>0.899741</td>\n",
       "      <td>0.700934</td>\n",
       "      <td>-0.157271</td>\n",
       "      <td>-0.500152</td>\n",
       "      <td>0.266386</td>\n",
       "      <td>-0.193849</td>\n",
       "      <td>-1.056756</td>\n",
       "      <td>-0.971767</td>\n",
       "      <td>-1.637706</td>\n",
       "      <td>-1.347276</td>\n",
       "      <td>0.333235</td>\n",
       "      <td>0.204689</td>\n",
       "      <td>-0.834929</td>\n",
       "      <td>-0.359149</td>\n",
       "      <td>-0.287840</td>\n",
       "      <td>-0.781863</td>\n",
       "      <td>-1.755852</td>\n",
       "      <td>-1.936307</td>\n",
       "      <td>-0.634466</td>\n",
       "      <td>1.480429</td>\n",
       "      <td>-1.368049</td>\n",
       "      <td>-2.198880</td>\n",
       "      <td>1.217285</td>\n",
       "      <td>0.504103</td>\n",
       "      <td>-1.426944</td>\n",
       "      <td>-1.247246</td>\n",
       "      <td>-1.249894</td>\n",
       "      <td>-1.307217</td>\n",
       "      <td>-0.173889</td>\n",
       "      <td>-0.958835</td>\n",
       "      <td>-1.197909</td>\n",
       "      <td>-1.304544</td>\n",
       "      <td>0.444085</td>\n",
       "      <td>-0.933462</td>\n",
       "      <td>-0.583323</td>\n",
       "      <td>-0.570323</td>\n",
       "    </tr>\n",
       "    <tr>\n",
       "      <th>17</th>\n",
       "      <td>-0.654424</td>\n",
       "      <td>-0.132097</td>\n",
       "      <td>2.320117</td>\n",
       "      <td>1.783300</td>\n",
       "      <td>1.448566</td>\n",
       "      <td>2.012938</td>\n",
       "      <td>0.635331</td>\n",
       "      <td>-1.270375</td>\n",
       "      <td>-1.944871</td>\n",
       "      <td>-1.454103</td>\n",
       "      <td>-2.339874</td>\n",
       "      <td>-0.631757</td>\n",
       "      <td>1.628356</td>\n",
       "      <td>1.177020</td>\n",
       "      <td>-1.714112</td>\n",
       "      <td>-0.088475</td>\n",
       "      <td>-0.873356</td>\n",
       "      <td>-1.419235</td>\n",
       "      <td>-0.313446</td>\n",
       "      <td>0.049708</td>\n",
       "      <td>-0.226063</td>\n",
       "      <td>-1.048511</td>\n",
       "      <td>-0.026236</td>\n",
       "      <td>-0.337305</td>\n",
       "      <td>-0.409920</td>\n",
       "      <td>-1.186183</td>\n",
       "      <td>-1.218829</td>\n",
       "      <td>-0.834929</td>\n",
       "      <td>-0.359149</td>\n",
       "      <td>-1.510508</td>\n",
       "      <td>0.721119</td>\n",
       "      <td>-1.138257</td>\n",
       "      <td>-0.806203</td>\n",
       "      <td>-0.819340</td>\n",
       "      <td>-0.370243</td>\n",
       "      <td>1.991188</td>\n",
       "      <td>1.449900</td>\n",
       "      <td>1.106628</td>\n",
       "      <td>2.200154</td>\n",
       "      <td>-1.139422</td>\n",
       "      <td>-1.196413</td>\n",
       "      <td>-1.152647</td>\n",
       "      <td>-2.250882</td>\n",
       "      <td>0.464813</td>\n",
       "      <td>-2.123703</td>\n",
       "      <td>-2.970271</td>\n",
       "      <td>-0.745112</td>\n",
       "      <td>-1.717132</td>\n",
       "      <td>-0.452832</td>\n",
       "      <td>-2.078089</td>\n",
       "      <td>-1.451732</td>\n",
       "    </tr>\n",
       "  </tbody>\n",
       "</table>\n",
       "</div>"
      ],
      "text/plain": [
       "     teamPTS   teamAST    teamTO   teamSTL   teamBLK    teamPF   teamFGA  \\\n",
       "0  -1.095737  0.302976  0.023950 -1.306661  0.888579 -0.893343 -0.984485   \n",
       "1  -0.300347 -0.593943  0.016614  0.099072 -1.427419 -0.224984 -0.861814   \n",
       "4  -0.597977  0.503779  1.197710  0.715738  0.646609  1.456691 -0.635987   \n",
       "16 -1.431854 -1.397155 -1.439582 -2.022790  1.102895 -1.445277 -0.318158   \n",
       "17 -0.654424 -0.132097  2.320117  1.783300  1.448566  2.012938  0.635331   \n",
       "\n",
       "     teamFGM   teamFG%   team2PA   team2PM   team2P%   team3PA   team3PM  \\\n",
       "0  -1.474115 -1.015167  0.593638 -0.259750 -1.321931 -0.955720 -0.932777   \n",
       "1  -0.067159  0.550316  0.035809  0.342994  0.380117 -0.379616 -0.374662   \n",
       "4   0.101983  0.618956  1.002239  1.299523 -0.112546 -1.201822 -1.135170   \n",
       "16 -1.697075 -1.806127  1.010529 -0.069755 -1.784501 -1.082127 -1.288498   \n",
       "17 -1.270375 -1.944871 -1.454103 -2.339874 -0.631757  1.628356  1.177020   \n",
       "\n",
       "     team3P%   teamFTA   teamFTM   teamFT%   teamORB   teamDRB   teamTRB  \\\n",
       "0   0.030287  0.234715  0.813383  1.077517  1.027103  0.566123  1.391054   \n",
       "1  -0.389155 -0.371266 -0.288620  0.026359 -0.806350 -0.665327 -1.289108   \n",
       "4   0.446972 -0.613659 -0.558498 -0.103650  0.224267 -1.087848 -0.776914   \n",
       "16 -1.594779  0.899741  0.700934 -0.157271 -0.500152  0.266386 -0.193849   \n",
       "17 -1.714112 -0.088475 -0.873356 -1.419235 -0.313446  0.049708 -0.226063   \n",
       "\n",
       "    teamPTS1  teamPTS2  teamPTS3  teamPTS4  teamPTS5  teamPTS6  teamPTS7  \\\n",
       "0  -1.283481 -1.029748 -0.892084 -0.589816 -0.079447  0.916448  0.969367   \n",
       "1  -0.112756 -0.325059 -0.071012 -0.390983 -0.735985 -0.427986  1.330226   \n",
       "4  -0.731097 -0.226938 -0.656858 -0.589816  0.183169  1.153701  1.570798   \n",
       "16 -1.056756 -0.971767 -1.637706 -1.347276  0.333235  0.204689 -0.834929   \n",
       "17 -1.048511 -0.026236 -0.337305 -0.409920 -1.186183 -1.218829 -0.834929   \n",
       "\n",
       "    teamPTS8  teamTREB%  teamASST%   teamTS%  teamEFG%  teamOREB%  teamDREB%  \\\n",
       "0  -0.359149   1.660208   1.482139 -0.791662 -1.164248   1.250850   0.015014   \n",
       "1  -0.359149  -0.919375  -0.729960  0.258804  0.262070  -0.734108  -0.365519   \n",
       "4  -0.359149  -0.350873   0.607882 -0.191334 -0.125484   0.373755  -1.552937   \n",
       "16 -0.359149  -0.287840  -0.781863 -1.755852 -1.936307  -0.634466   1.480429   \n",
       "17 -0.359149  -1.510508   0.721119 -1.138257 -0.806203  -0.819340  -0.370243   \n",
       "\n",
       "     teamTO%  teamSTL%  teamBLK%  teamBLKR   teamPPS   teamFIC  teamFIC40  \\\n",
       "0   0.192422 -1.087275  1.173829  0.500334 -0.605313 -0.108218  -0.133189   \n",
       "1   0.227924  0.192198 -1.412433 -1.334215  0.214459 -0.673390  -0.668338   \n",
       "4   1.304013  0.811219  0.647780  0.088955 -0.265604 -0.541836  -0.557275   \n",
       "16 -1.368049 -2.198880  1.217285  0.504103 -1.426944 -1.247246  -1.249894   \n",
       "17  1.991188  1.449900  1.106628  2.200154 -1.139422 -1.196413  -1.152647   \n",
       "\n",
       "    teamOrtg  teamDrtg  teamEDiff  teamPlay%    teamAR  teamAST/TO  \\\n",
       "0  -0.274832 -1.991075   1.007333  -0.505170  0.604475    0.366501   \n",
       "1  -0.227081  0.955699  -0.776371   0.056540 -0.378935   -0.389669   \n",
       "4  -0.742340  0.453746  -0.886233   0.021045  0.546517   -0.789082   \n",
       "16 -1.307217 -0.173889  -0.958835  -1.197909 -1.304544    0.444085   \n",
       "17 -2.250882  0.464813  -2.123703  -2.970271 -0.745112   -1.717132   \n",
       "\n",
       "    teamSTL/TO       Win  playoffs  \n",
       "0    -1.057893  1.093731  1.192494  \n",
       "1     0.123855 -0.364577  0.311086  \n",
       "4    -0.545423 -0.874985 -0.570323  \n",
       "16   -0.933462 -0.583323 -0.570323  \n",
       "17   -0.452832 -2.078089 -1.451732  "
      ]
     },
     "execution_count": 34,
     "metadata": {},
     "output_type": "execute_result"
    }
   ],
   "source": [
    "wrong_X = mav.wrong_predictions()\n",
    "\n",
    "# reintroduce the names and seasons for these teams\n",
    "team_info = mov_avg[mov_avg.index.isin(wrong_X.index)]\n",
    "wrong_X = pd.DataFrame(StandardScaler().fit_transform(wrong_X), columns=wrong_X.columns, index=wrong_X.index)\n",
    "\n",
    "wrong_X.head()"
   ]
  },
  {
   "cell_type": "code",
   "execution_count": 35,
   "metadata": {},
   "outputs": [],
   "source": [
    "wrong_y = train_y[train_y.index.isin(wrong_X.index)]"
   ]
  },
  {
   "cell_type": "code",
   "execution_count": 36,
   "metadata": {},
   "outputs": [
    {
     "data": {
      "image/png": "[encoded data removed]",
      "text/plain": [
       "<Figure size 936x432 with 1 Axes>"
      ]
     },
     "metadata": {
      "needs_background": "light"
     },
     "output_type": "display_data"
    }
   ],
   "source": [
    "clustering = AgglomerativeClustering(n_clusters=2).fit(wrong_X)\n",
    "clustering_pca = PCA(2)\n",
    "principal_df = pd.DataFrame(data = clustering_pca.fit_transform(wrong_X), columns = ['PC 1', 'PC 2'], index=wrong_X.index)\n",
    "principal_df['cluster'] = clustering.labels_\n",
    "principal_df['team'] = team_info['teamAbbr']\n",
    "\n",
    "# the team label includes team name, season, and if they were predicted to make the playoffs next season\n",
    "playoff_guess = (team_info['playoffs'] > 0.5).astype(str)\n",
    "principal_df['team'] = principal_df.team.map(str) + \" \" + team_info['season'] + \" \" + playoff_guess\n",
    "\n",
    "# inspiration source: https://towardsdatascience.com/pca-using-python-scikit-learn-e653f8989e60\n",
    "fig = plt.figure(figsize = (13,6))\n",
    "ax = fig.add_subplot(1,1,1) \n",
    "ax.set_xlabel('Principal Component 1', fontsize = 15)\n",
    "ax.set_ylabel('Principal Component 2', fontsize = 15)\n",
    "ax.set_title('2 component PCA', fontsize = 20)\n",
    "targets = [0, 1]\n",
    "colors = ['r', 'g']\n",
    "for target, color in zip(targets, colors):\n",
    "    indicesToKeep = principal_df['cluster'] == target\n",
    "    ax.scatter(principal_df.loc[indicesToKeep, 'PC 1']\n",
    "               ,principal_df.loc[indicesToKeep, 'PC 2']\n",
    "               ,c = color\n",
    "               ,s = 50)\n",
    "    \n",
    "indices = principal_df.index.to_list()\n",
    "for i, label in enumerate(principal_df['team']):\n",
    "    x = principal_df.loc[indices[i], 'PC 1']\n",
    "    y = principal_df.loc[indices[i], 'PC 2']\n",
    "    ax.annotate(label, (x, y+0.2)) \n",
    "\n",
    "ax.legend(targets)\n",
    "ax.grid()"
   ]
  },
  {
   "cell_type": "markdown",
   "metadata": {},
   "source": [
    "We did some external research to see what could have caused these incorrect projections for these teams. Ultimately, nothing really came out of this tactic. We simply could not find the relationship between the clustered teams. Though we are both casual basketball fans, we probably didn't have enough domain knowledge to be able to tie these specific teams and their performance in their respective seasons together."
   ]
  },
  {
   "cell_type": "markdown",
   "metadata": {},
   "source": [
    "Nonetheless, using the insights drawn from earlier EDA, we recognized that draft prospects and budgeting constraints were 2 off-court factors that contribute to a team's success. The following cells includes our process of gathering and parsing additional data into a csv file. These cells don't technically need to be run, as the cleaned csv is also included in the folder, but are included as reference."
   ]
  },
  {
   "cell_type": "markdown",
   "metadata": {},
   "source": [
    "#### 5.1.2 Additional Data To get Draft Pick and Salary Cap"
   ]
  },
  {
   "cell_type": "markdown",
   "metadata": {},
   "source": [
    "From a dataset on Kaggle, we cleaned it to extract the relevant round 1 draft picks for each team in each season."
   ]
  },
  {
   "cell_type": "code",
   "execution_count": 37,
   "metadata": {},
   "outputs": [],
   "source": [
    "# @source: https://www.kaggle.com/hrfang1995/nba-drafts-of-19472018#NBA_Full_Draft_1947-2018.csv\n",
    "drafts = pd.read_csv('NBA_Full_Draft_1947-2018.csv')"
   ]
  },
  {
   "cell_type": "code",
   "execution_count": 38,
   "metadata": {},
   "outputs": [],
   "source": [
    "# selecting relevant years\n",
    "drafts = drafts[drafts['Year'] >= 2012]\n",
    "drafts = drafts[drafts['Year'] < 2018]\n",
    "\n",
    "# first round picks only\n",
    "drafts = drafts[drafts['Pick'] <= 30]\n",
    "team_drafts = drafts[['Team', 'Year', 'Pick']]"
   ]
  },
  {
   "cell_type": "code",
   "execution_count": 39,
   "metadata": {},
   "outputs": [],
   "source": [
    "# necessary dictionaries to keep data labels consistent\n",
    "team_dict = {'ATL': 'ATL', \\\n",
    "    'BRK': 'BKN' ,\\\n",
    "    'BOS': 'BOS', \\\n",
    "    'CHA': 'CHA', \\\n",
    "    'CLE': 'CLE', \\\n",
    "    'CHI': 'CHI', \\\n",
    "    'DAL': 'DAL', \\\n",
    "    'DEN': 'DEN', \\\n",
    "    'DET': 'DET', \\\n",
    "    'HOU': 'HOU', \\\n",
    "    'IND': 'IND', \\\n",
    "    'GSW': 'GS', \\\n",
    "    'IND': 'IND', \\\n",
    "    'LAL': 'LAL', \\\n",
    "    'LAC': 'LAC', \\\n",
    "    'MEM': 'MEM', \\\n",
    "    'MIA': 'MIA', \\\n",
    "    'NOH': 'NO', \\\n",
    "    'NOP': 'NO', \\\n",
    "    'NYK': 'NY', \\\n",
    "    'ORL': 'ORL', \\\n",
    "    'SAS': 'SA', \\\n",
    "    'MIL': 'MIL', \\\n",
    "    'MIN': 'MIN', \\\n",
    "    'OKC': 'OKC', \\\n",
    "    'PHI': 'PHI', \\\n",
    "    'PHO': 'PHO', \\\n",
    "    'POR': 'POR', \\\n",
    "    'SAC': 'SAC', \\\n",
    "    'TOR': 'TOR', \\\n",
    "    'UTA': 'UTA', \\\n",
    "    'WAS': 'WAS', \\\n",
    "    'CHH': 'CHA'\n",
    "}\n",
    "\n",
    "seasons_dict = {\n",
    "    2012: '2012/13', \\\n",
    "    2013: '2013/14', \\\n",
    "    2014: '2014/15', \\\n",
    "    2015: '2015/16', \\\n",
    "    2016: '2016/17', \\\n",
    "    2017: '2017/18', \\\n",
    "    2018: '2018/19'    \n",
    "}"
   ]
  },
  {
   "cell_type": "code",
   "execution_count": 40,
   "metadata": {},
   "outputs": [
    {
     "data": {
      "text/html": [
       "<div>\n",
       "<style scoped>\n",
       "    .dataframe tbody tr th:only-of-type {\n",
       "        vertical-align: middle;\n",
       "    }\n",
       "\n",
       "    .dataframe tbody tr th {\n",
       "        vertical-align: top;\n",
       "    }\n",
       "\n",
       "    .dataframe thead th {\n",
       "        text-align: right;\n",
       "    }\n",
       "</style>\n",
       "<table border=\"1\" class=\"dataframe\">\n",
       "  <thead>\n",
       "    <tr style=\"text-align: right;\">\n",
       "      <th></th>\n",
       "      <th>Team</th>\n",
       "      <th>Year</th>\n",
       "      <th>Pick</th>\n",
       "    </tr>\n",
       "  </thead>\n",
       "  <tbody>\n",
       "    <tr>\n",
       "      <th>7543</th>\n",
       "      <td>NO</td>\n",
       "      <td>2012/13</td>\n",
       "      <td>1</td>\n",
       "    </tr>\n",
       "    <tr>\n",
       "      <th>7544</th>\n",
       "      <td>CHA</td>\n",
       "      <td>2012/13</td>\n",
       "      <td>2</td>\n",
       "    </tr>\n",
       "    <tr>\n",
       "      <th>7545</th>\n",
       "      <td>WAS</td>\n",
       "      <td>2012/13</td>\n",
       "      <td>3</td>\n",
       "    </tr>\n",
       "    <tr>\n",
       "      <th>7546</th>\n",
       "      <td>CLE</td>\n",
       "      <td>2012/13</td>\n",
       "      <td>4</td>\n",
       "    </tr>\n",
       "    <tr>\n",
       "      <th>7547</th>\n",
       "      <td>SAC</td>\n",
       "      <td>2012/13</td>\n",
       "      <td>5</td>\n",
       "    </tr>\n",
       "    <tr>\n",
       "      <th>...</th>\n",
       "      <td>...</td>\n",
       "      <td>...</td>\n",
       "      <td>...</td>\n",
       "    </tr>\n",
       "    <tr>\n",
       "      <th>7868</th>\n",
       "      <td>POR</td>\n",
       "      <td>2017/18</td>\n",
       "      <td>26</td>\n",
       "    </tr>\n",
       "    <tr>\n",
       "      <th>7869</th>\n",
       "      <td>BKN</td>\n",
       "      <td>2017/18</td>\n",
       "      <td>27</td>\n",
       "    </tr>\n",
       "    <tr>\n",
       "      <th>7870</th>\n",
       "      <td>LAL</td>\n",
       "      <td>2017/18</td>\n",
       "      <td>28</td>\n",
       "    </tr>\n",
       "    <tr>\n",
       "      <th>7871</th>\n",
       "      <td>SA</td>\n",
       "      <td>2017/18</td>\n",
       "      <td>29</td>\n",
       "    </tr>\n",
       "    <tr>\n",
       "      <th>7872</th>\n",
       "      <td>UTA</td>\n",
       "      <td>2017/18</td>\n",
       "      <td>30</td>\n",
       "    </tr>\n",
       "  </tbody>\n",
       "</table>\n",
       "<p>180 rows × 3 columns</p>\n",
       "</div>"
      ],
      "text/plain": [
       "     Team     Year  Pick\n",
       "7543   NO  2012/13     1\n",
       "7544  CHA  2012/13     2\n",
       "7545  WAS  2012/13     3\n",
       "7546  CLE  2012/13     4\n",
       "7547  SAC  2012/13     5\n",
       "...   ...      ...   ...\n",
       "7868  POR  2017/18    26\n",
       "7869  BKN  2017/18    27\n",
       "7870  LAL  2017/18    28\n",
       "7871   SA  2017/18    29\n",
       "7872  UTA  2017/18    30\n",
       "\n",
       "[180 rows x 3 columns]"
      ]
     },
     "execution_count": 40,
     "metadata": {},
     "output_type": "execute_result"
    }
   ],
   "source": [
    "team_drafts.replace({'Team': team_dict, 'Year': seasons_dict}, inplace=True)\n",
    "team_drafts"
   ]
  },
  {
   "cell_type": "markdown",
   "metadata": {},
   "source": [
    "We web-scraped the salary caps for each team over each season"
   ]
  },
  {
   "cell_type": "code",
   "execution_count": 41,
   "metadata": {},
   "outputs": [],
   "source": [
    "# @source: https://hoopshype.com/salaries/\n",
    "salary = []\n",
    "for year1, year2 in [('2012', '2013'), ('2013', '2014'), ('2014', '2015'), ('2015', '2016'), ('2016', '2017'), ('2017', '2018')]:\n",
    "        curr = pd.read_html('https://hoopshype.com/salaries/' + year1 + '-' + year2 + '/')[0]        \n",
    "        curr = curr.iloc[:, [1,3]]\n",
    "        curr.rename(columns= lambda x: re.sub('\\(\\*\\)','',x), inplace=True)\n",
    "        curr['season'] = [curr.columns[1]] * len(curr)\n",
    "        curr.columns =  ['Team', 'salarycap', 'season']\n",
    "        salary.append(curr)\n",
    "salary_df = pd.concat(salary)"
   ]
  },
  {
   "cell_type": "code",
   "execution_count": 42,
   "metadata": {},
   "outputs": [],
   "source": [
    "team_name_dict2 = {\n",
    "    'Atlanta': 'ATL', \\\n",
    "    'Brooklyn': 'BKN' ,\\\n",
    "    'Boston': 'BOS', \\\n",
    "    'Charlotte': 'CHA', \\\n",
    "    'Cleveland': 'CLE', \\\n",
    "    'Chicago': 'CHI', \\\n",
    "    'Dallas': 'DAL', \\\n",
    "    'Denver': 'DEN', \\\n",
    "    'Detroit': 'DET', \\\n",
    "    'Houston': 'HOU', \\\n",
    "    'Indiana': 'IND', \\\n",
    "    'Golden State': 'GS', \\\n",
    "    'LA Lakers': 'LAL', \\\n",
    "    'LA Clippers': 'LAC', \\\n",
    "    'Memphis': 'MEM', \\\n",
    "    'Miami': 'MIA', \\\n",
    "    'New Orleans': 'NO', \\\n",
    "    'New York': 'NY', \\\n",
    "    'Orlando': 'ORL', \\\n",
    "    'San Antonio': 'SA', \\\n",
    "    'Milwaukee': 'MIL', \\\n",
    "    'Minnesota': 'MIN', \\\n",
    "    'Oklahoma City': 'OKC', \\\n",
    "    'Philadelphia': 'PHI', \\\n",
    "    'Phoenix': 'PHO', \\\n",
    "    'Portland': 'POR', \\\n",
    "    'Sacramento': 'SAC', \\\n",
    "    'Toronto': 'TOR', \\\n",
    "    'Utah': 'UTA', \\\n",
    "    'Washington': 'WAS'}"
   ]
  },
  {
   "cell_type": "code",
   "execution_count": 43,
   "metadata": {},
   "outputs": [
    {
     "data": {
      "text/html": [
       "<div>\n",
       "<style scoped>\n",
       "    .dataframe tbody tr th:only-of-type {\n",
       "        vertical-align: middle;\n",
       "    }\n",
       "\n",
       "    .dataframe tbody tr th {\n",
       "        vertical-align: top;\n",
       "    }\n",
       "\n",
       "    .dataframe thead th {\n",
       "        text-align: right;\n",
       "    }\n",
       "</style>\n",
       "<table border=\"1\" class=\"dataframe\">\n",
       "  <thead>\n",
       "    <tr style=\"text-align: right;\">\n",
       "      <th></th>\n",
       "      <th>Team</th>\n",
       "      <th>salarycap</th>\n",
       "      <th>season</th>\n",
       "    </tr>\n",
       "  </thead>\n",
       "  <tbody>\n",
       "    <tr>\n",
       "      <th>0</th>\n",
       "      <td>LAL</td>\n",
       "      <td>111767168</td>\n",
       "      <td>2012/13</td>\n",
       "    </tr>\n",
       "    <tr>\n",
       "      <th>1</th>\n",
       "      <td>BKN</td>\n",
       "      <td>97828818</td>\n",
       "      <td>2012/13</td>\n",
       "    </tr>\n",
       "    <tr>\n",
       "      <th>2</th>\n",
       "      <td>MIA</td>\n",
       "      <td>89773532</td>\n",
       "      <td>2012/13</td>\n",
       "    </tr>\n",
       "    <tr>\n",
       "      <th>3</th>\n",
       "      <td>NY</td>\n",
       "      <td>89270334</td>\n",
       "      <td>2012/13</td>\n",
       "    </tr>\n",
       "    <tr>\n",
       "      <th>4</th>\n",
       "      <td>BOS</td>\n",
       "      <td>84282350</td>\n",
       "      <td>2012/13</td>\n",
       "    </tr>\n",
       "    <tr>\n",
       "      <th>...</th>\n",
       "      <td>...</td>\n",
       "      <td>...</td>\n",
       "      <td>...</td>\n",
       "    </tr>\n",
       "    <tr>\n",
       "      <th>25</th>\n",
       "      <td>BKN</td>\n",
       "      <td>99836100</td>\n",
       "      <td>2017/18</td>\n",
       "    </tr>\n",
       "    <tr>\n",
       "      <th>26</th>\n",
       "      <td>IND</td>\n",
       "      <td>99623136</td>\n",
       "      <td>2017/18</td>\n",
       "    </tr>\n",
       "    <tr>\n",
       "      <th>27</th>\n",
       "      <td>PHO</td>\n",
       "      <td>96917295</td>\n",
       "      <td>2017/18</td>\n",
       "    </tr>\n",
       "    <tr>\n",
       "      <th>28</th>\n",
       "      <td>CHI</td>\n",
       "      <td>94598740</td>\n",
       "      <td>2017/18</td>\n",
       "    </tr>\n",
       "    <tr>\n",
       "      <th>29</th>\n",
       "      <td>DAL</td>\n",
       "      <td>89342606</td>\n",
       "      <td>2017/18</td>\n",
       "    </tr>\n",
       "  </tbody>\n",
       "</table>\n",
       "<p>180 rows × 3 columns</p>\n",
       "</div>"
      ],
      "text/plain": [
       "   Team  salarycap   season\n",
       "0   LAL  111767168  2012/13\n",
       "1   BKN   97828818  2012/13\n",
       "2   MIA   89773532  2012/13\n",
       "3    NY   89270334  2012/13\n",
       "4   BOS   84282350  2012/13\n",
       "..  ...        ...      ...\n",
       "25  BKN   99836100  2017/18\n",
       "26  IND   99623136  2017/18\n",
       "27  PHO   96917295  2017/18\n",
       "28  CHI   94598740  2017/18\n",
       "29  DAL   89342606  2017/18\n",
       "\n",
       "[180 rows x 3 columns]"
      ]
     },
     "execution_count": 43,
     "metadata": {},
     "output_type": "execute_result"
    }
   ],
   "source": [
    "# Adjust all the team names to be consistent with original data and alter salaries to integers\n",
    "salary_df.replace({'Team': team_name_dict2}, inplace=True)\n",
    "salarycap_int = [int(re.sub(r'[^\\d.]', '', amt)) for amt in salary_df['salarycap'].to_list()]\n",
    "salary_df['salarycap'] = salarycap_int\n",
    "salary_df"
   ]
  },
  {
   "cell_type": "code",
   "execution_count": 44,
   "metadata": {},
   "outputs": [],
   "source": [
    "# Merge the additional data\n",
    "draft_cap = pd.merge(salary_df, team_drafts, how='inner', left_on = ['Team', 'season'], right_on = ['Team', 'Year'])\n",
    "draft_cap.drop(columns=['Year'], inplace=True)"
   ]
  },
  {
   "cell_type": "code",
   "execution_count": 45,
   "metadata": {},
   "outputs": [
    {
     "data": {
      "text/html": [
       "<div>\n",
       "<style scoped>\n",
       "    .dataframe tbody tr th:only-of-type {\n",
       "        vertical-align: middle;\n",
       "    }\n",
       "\n",
       "    .dataframe tbody tr th {\n",
       "        vertical-align: top;\n",
       "    }\n",
       "\n",
       "    .dataframe thead th {\n",
       "        text-align: right;\n",
       "    }\n",
       "</style>\n",
       "<table border=\"1\" class=\"dataframe\">\n",
       "  <thead>\n",
       "    <tr style=\"text-align: right;\">\n",
       "      <th></th>\n",
       "      <th></th>\n",
       "      <th>salarycap</th>\n",
       "      <th>Pick</th>\n",
       "    </tr>\n",
       "    <tr>\n",
       "      <th>season</th>\n",
       "      <th>teamAbbr</th>\n",
       "      <th></th>\n",
       "      <th></th>\n",
       "    </tr>\n",
       "  </thead>\n",
       "  <tbody>\n",
       "    <tr>\n",
       "      <th rowspan=\"5\" valign=\"top\">2012/13</th>\n",
       "      <th>MIA</th>\n",
       "      <td>89773532</td>\n",
       "      <td>27</td>\n",
       "    </tr>\n",
       "    <tr>\n",
       "      <th>BOS</th>\n",
       "      <td>84282350</td>\n",
       "      <td>21</td>\n",
       "    </tr>\n",
       "    <tr>\n",
       "      <th>BOS</th>\n",
       "      <td>84282350</td>\n",
       "      <td>22</td>\n",
       "    </tr>\n",
       "    <tr>\n",
       "      <th>CHI</th>\n",
       "      <td>83147049</td>\n",
       "      <td>29</td>\n",
       "    </tr>\n",
       "    <tr>\n",
       "      <th>GS</th>\n",
       "      <td>78175171</td>\n",
       "      <td>7</td>\n",
       "    </tr>\n",
       "  </tbody>\n",
       "</table>\n",
       "</div>"
      ],
      "text/plain": [
       "                  salarycap  Pick\n",
       "season  teamAbbr                 \n",
       "2012/13 MIA        89773532    27\n",
       "        BOS        84282350    21\n",
       "        BOS        84282350    22\n",
       "        CHI        83147049    29\n",
       "        GS         78175171     7"
      ]
     },
     "execution_count": 45,
     "metadata": {},
     "output_type": "execute_result"
    }
   ],
   "source": [
    "# clean draft and salary data to aggregate and index by team and season\n",
    "draft_cap.rename(columns={'Team': 'teamAbbr'}, inplace=True)\n",
    "draft_cap.groupby(['season', 'teamAbbr']).mean()\n",
    "draft_cap.set_index(['season', 'teamAbbr'], inplace= True)\n",
    "draft_cap.head()"
   ]
  },
  {
   "cell_type": "code",
   "execution_count": 46,
   "metadata": {},
   "outputs": [
    {
     "data": {
      "text/html": [
       "<div>\n",
       "<style scoped>\n",
       "    .dataframe tbody tr th:only-of-type {\n",
       "        vertical-align: middle;\n",
       "    }\n",
       "\n",
       "    .dataframe tbody tr th {\n",
       "        vertical-align: top;\n",
       "    }\n",
       "\n",
       "    .dataframe thead th {\n",
       "        text-align: right;\n",
       "    }\n",
       "</style>\n",
       "<table border=\"1\" class=\"dataframe\">\n",
       "  <thead>\n",
       "    <tr style=\"text-align: right;\">\n",
       "      <th></th>\n",
       "      <th></th>\n",
       "      <th>teamPTS</th>\n",
       "      <th>teamAST</th>\n",
       "      <th>teamTO</th>\n",
       "      <th>teamSTL</th>\n",
       "      <th>teamBLK</th>\n",
       "      <th>teamPF</th>\n",
       "      <th>teamFGA</th>\n",
       "      <th>teamFGM</th>\n",
       "      <th>teamFG%</th>\n",
       "      <th>team2PA</th>\n",
       "      <th>team2PM</th>\n",
       "      <th>team2P%</th>\n",
       "      <th>team3PA</th>\n",
       "      <th>team3PM</th>\n",
       "      <th>team3P%</th>\n",
       "      <th>teamFTA</th>\n",
       "      <th>teamFTM</th>\n",
       "      <th>teamFT%</th>\n",
       "      <th>teamORB</th>\n",
       "      <th>teamDRB</th>\n",
       "      <th>teamTRB</th>\n",
       "      <th>teamPTS1</th>\n",
       "      <th>teamPTS2</th>\n",
       "      <th>teamPTS3</th>\n",
       "      <th>teamPTS4</th>\n",
       "      <th>teamPTS5</th>\n",
       "      <th>teamPTS6</th>\n",
       "      <th>teamPTS7</th>\n",
       "      <th>teamPTS8</th>\n",
       "      <th>teamTREB%</th>\n",
       "      <th>teamASST%</th>\n",
       "      <th>teamTS%</th>\n",
       "      <th>teamEFG%</th>\n",
       "      <th>teamOREB%</th>\n",
       "      <th>teamDREB%</th>\n",
       "      <th>teamTO%</th>\n",
       "      <th>teamSTL%</th>\n",
       "      <th>teamBLK%</th>\n",
       "      <th>teamBLKR</th>\n",
       "      <th>teamPPS</th>\n",
       "      <th>teamFIC</th>\n",
       "      <th>teamFIC40</th>\n",
       "      <th>teamOrtg</th>\n",
       "      <th>teamDrtg</th>\n",
       "      <th>teamEDiff</th>\n",
       "      <th>teamPlay%</th>\n",
       "      <th>teamAR</th>\n",
       "      <th>teamAST/TO</th>\n",
       "      <th>teamSTL/TO</th>\n",
       "      <th>Win</th>\n",
       "      <th>playoffs</th>\n",
       "      <th>salarycap</th>\n",
       "      <th>Pick</th>\n",
       "    </tr>\n",
       "    <tr>\n",
       "      <th>season</th>\n",
       "      <th>teamAbbr</th>\n",
       "      <th></th>\n",
       "      <th></th>\n",
       "      <th></th>\n",
       "      <th></th>\n",
       "      <th></th>\n",
       "      <th></th>\n",
       "      <th></th>\n",
       "      <th></th>\n",
       "      <th></th>\n",
       "      <th></th>\n",
       "      <th></th>\n",
       "      <th></th>\n",
       "      <th></th>\n",
       "      <th></th>\n",
       "      <th></th>\n",
       "      <th></th>\n",
       "      <th></th>\n",
       "      <th></th>\n",
       "      <th></th>\n",
       "      <th></th>\n",
       "      <th></th>\n",
       "      <th></th>\n",
       "      <th></th>\n",
       "      <th></th>\n",
       "      <th></th>\n",
       "      <th></th>\n",
       "      <th></th>\n",
       "      <th></th>\n",
       "      <th></th>\n",
       "      <th></th>\n",
       "      <th></th>\n",
       "      <th></th>\n",
       "      <th></th>\n",
       "      <th></th>\n",
       "      <th></th>\n",
       "      <th></th>\n",
       "      <th></th>\n",
       "      <th></th>\n",
       "      <th></th>\n",
       "      <th></th>\n",
       "      <th></th>\n",
       "      <th></th>\n",
       "      <th></th>\n",
       "      <th></th>\n",
       "      <th></th>\n",
       "      <th></th>\n",
       "      <th></th>\n",
       "      <th></th>\n",
       "      <th></th>\n",
       "      <th></th>\n",
       "      <th></th>\n",
       "      <th></th>\n",
       "      <th></th>\n",
       "    </tr>\n",
       "  </thead>\n",
       "  <tbody>\n",
       "    <tr>\n",
       "      <th rowspan=\"5\" valign=\"top\">2012/13</th>\n",
       "      <th>ATL</th>\n",
       "      <td>97.951220</td>\n",
       "      <td>24.475610</td>\n",
       "      <td>14.865854</td>\n",
       "      <td>8.097561</td>\n",
       "      <td>4.500000</td>\n",
       "      <td>17.963415</td>\n",
       "      <td>81.024390</td>\n",
       "      <td>37.609756</td>\n",
       "      <td>0.465584</td>\n",
       "      <td>57.841463</td>\n",
       "      <td>29.000000</td>\n",
       "      <td>0.504110</td>\n",
       "      <td>23.182927</td>\n",
       "      <td>8.609756</td>\n",
       "      <td>0.373288</td>\n",
       "      <td>19.743902</td>\n",
       "      <td>14.121951</td>\n",
       "      <td>0.708479</td>\n",
       "      <td>9.243902</td>\n",
       "      <td>31.621951</td>\n",
       "      <td>40.865854</td>\n",
       "      <td>23.841463</td>\n",
       "      <td>24.768293</td>\n",
       "      <td>24.975610</td>\n",
       "      <td>23.402439</td>\n",
       "      <td>0.548780</td>\n",
       "      <td>0.414634</td>\n",
       "      <td>0.000000</td>\n",
       "      <td>0.0</td>\n",
       "      <td>48.451795</td>\n",
       "      <td>64.917021</td>\n",
       "      <td>0.546949</td>\n",
       "      <td>0.519068</td>\n",
       "      <td>22.058495</td>\n",
       "      <td>74.082923</td>\n",
       "      <td>14.275735</td>\n",
       "      <td>8.632868</td>\n",
       "      <td>4.807234</td>\n",
       "      <td>7.865539</td>\n",
       "      <td>1.213796</td>\n",
       "      <td>75.964939</td>\n",
       "      <td>62.702237</td>\n",
       "      <td>104.790709</td>\n",
       "      <td>104.424877</td>\n",
       "      <td>0.365832</td>\n",
       "      <td>0.434633</td>\n",
       "      <td>18.867440</td>\n",
       "      <td>1.779402</td>\n",
       "      <td>58.132051</td>\n",
       "      <td>0.536585</td>\n",
       "      <td>1</td>\n",
       "      <td>74461791</td>\n",
       "      <td>23</td>\n",
       "    </tr>\n",
       "    <tr>\n",
       "      <th>BOS</th>\n",
       "      <td>96.518519</td>\n",
       "      <td>22.753086</td>\n",
       "      <td>14.580247</td>\n",
       "      <td>8.234568</td>\n",
       "      <td>4.506173</td>\n",
       "      <td>21.197531</td>\n",
       "      <td>79.740741</td>\n",
       "      <td>37.049383</td>\n",
       "      <td>0.466365</td>\n",
       "      <td>62.580247</td>\n",
       "      <td>30.901235</td>\n",
       "      <td>0.496393</td>\n",
       "      <td>17.160494</td>\n",
       "      <td>6.148148</td>\n",
       "      <td>0.360021</td>\n",
       "      <td>20.962963</td>\n",
       "      <td>16.271605</td>\n",
       "      <td>0.776423</td>\n",
       "      <td>8.074074</td>\n",
       "      <td>31.271605</td>\n",
       "      <td>39.345679</td>\n",
       "      <td>24.481481</td>\n",
       "      <td>24.395062</td>\n",
       "      <td>23.333333</td>\n",
       "      <td>22.493827</td>\n",
       "      <td>1.296296</td>\n",
       "      <td>0.382716</td>\n",
       "      <td>0.135802</td>\n",
       "      <td>0.0</td>\n",
       "      <td>47.419702</td>\n",
       "      <td>61.464602</td>\n",
       "      <td>0.543958</td>\n",
       "      <td>0.505091</td>\n",
       "      <td>19.849091</td>\n",
       "      <td>73.645579</td>\n",
       "      <td>14.087037</td>\n",
       "      <td>8.759989</td>\n",
       "      <td>4.804304</td>\n",
       "      <td>7.320688</td>\n",
       "      <td>1.216717</td>\n",
       "      <td>70.694444</td>\n",
       "      <td>57.759542</td>\n",
       "      <td>103.199075</td>\n",
       "      <td>103.510258</td>\n",
       "      <td>-0.311183</td>\n",
       "      <td>0.430501</td>\n",
       "      <td>17.931032</td>\n",
       "      <td>1.628542</td>\n",
       "      <td>59.160886</td>\n",
       "      <td>0.506173</td>\n",
       "      <td>1</td>\n",
       "      <td>84282350</td>\n",
       "      <td>21</td>\n",
       "    </tr>\n",
       "    <tr>\n",
       "      <th>BOS</th>\n",
       "      <td>96.518519</td>\n",
       "      <td>22.753086</td>\n",
       "      <td>14.580247</td>\n",
       "      <td>8.234568</td>\n",
       "      <td>4.506173</td>\n",
       "      <td>21.197531</td>\n",
       "      <td>79.740741</td>\n",
       "      <td>37.049383</td>\n",
       "      <td>0.466365</td>\n",
       "      <td>62.580247</td>\n",
       "      <td>30.901235</td>\n",
       "      <td>0.496393</td>\n",
       "      <td>17.160494</td>\n",
       "      <td>6.148148</td>\n",
       "      <td>0.360021</td>\n",
       "      <td>20.962963</td>\n",
       "      <td>16.271605</td>\n",
       "      <td>0.776423</td>\n",
       "      <td>8.074074</td>\n",
       "      <td>31.271605</td>\n",
       "      <td>39.345679</td>\n",
       "      <td>24.481481</td>\n",
       "      <td>24.395062</td>\n",
       "      <td>23.333333</td>\n",
       "      <td>22.493827</td>\n",
       "      <td>1.296296</td>\n",
       "      <td>0.382716</td>\n",
       "      <td>0.135802</td>\n",
       "      <td>0.0</td>\n",
       "      <td>47.419702</td>\n",
       "      <td>61.464602</td>\n",
       "      <td>0.543958</td>\n",
       "      <td>0.505091</td>\n",
       "      <td>19.849091</td>\n",
       "      <td>73.645579</td>\n",
       "      <td>14.087037</td>\n",
       "      <td>8.759989</td>\n",
       "      <td>4.804304</td>\n",
       "      <td>7.320688</td>\n",
       "      <td>1.216717</td>\n",
       "      <td>70.694444</td>\n",
       "      <td>57.759542</td>\n",
       "      <td>103.199075</td>\n",
       "      <td>103.510258</td>\n",
       "      <td>-0.311183</td>\n",
       "      <td>0.430501</td>\n",
       "      <td>17.931032</td>\n",
       "      <td>1.628542</td>\n",
       "      <td>59.160886</td>\n",
       "      <td>0.506173</td>\n",
       "      <td>1</td>\n",
       "      <td>84282350</td>\n",
       "      <td>22</td>\n",
       "    </tr>\n",
       "    <tr>\n",
       "      <th>CHA</th>\n",
       "      <td>93.426829</td>\n",
       "      <td>19.353659</td>\n",
       "      <td>14.073171</td>\n",
       "      <td>7.195122</td>\n",
       "      <td>5.841463</td>\n",
       "      <td>19.048780</td>\n",
       "      <td>81.085366</td>\n",
       "      <td>34.426829</td>\n",
       "      <td>0.425313</td>\n",
       "      <td>64.024390</td>\n",
       "      <td>28.707317</td>\n",
       "      <td>0.448746</td>\n",
       "      <td>17.060976</td>\n",
       "      <td>5.719512</td>\n",
       "      <td>0.333800</td>\n",
       "      <td>25.121951</td>\n",
       "      <td>18.853659</td>\n",
       "      <td>0.753800</td>\n",
       "      <td>11.182927</td>\n",
       "      <td>29.134146</td>\n",
       "      <td>40.317073</td>\n",
       "      <td>23.195122</td>\n",
       "      <td>23.841463</td>\n",
       "      <td>22.804878</td>\n",
       "      <td>23.000000</td>\n",
       "      <td>0.475610</td>\n",
       "      <td>0.109756</td>\n",
       "      <td>0.000000</td>\n",
       "      <td>0.0</td>\n",
       "      <td>47.837867</td>\n",
       "      <td>55.989220</td>\n",
       "      <td>0.507712</td>\n",
       "      <td>0.460761</td>\n",
       "      <td>25.550113</td>\n",
       "      <td>71.441363</td>\n",
       "      <td>13.248724</td>\n",
       "      <td>7.782578</td>\n",
       "      <td>6.336188</td>\n",
       "      <td>9.213826</td>\n",
       "      <td>1.156089</td>\n",
       "      <td>65.018293</td>\n",
       "      <td>53.846759</td>\n",
       "      <td>101.542535</td>\n",
       "      <td>111.624296</td>\n",
       "      <td>-10.081761</td>\n",
       "      <td>0.410439</td>\n",
       "      <td>15.310763</td>\n",
       "      <td>1.466465</td>\n",
       "      <td>52.215484</td>\n",
       "      <td>0.256098</td>\n",
       "      <td>0</td>\n",
       "      <td>64876315</td>\n",
       "      <td>2</td>\n",
       "    </tr>\n",
       "    <tr>\n",
       "      <th>CHI</th>\n",
       "      <td>93.182927</td>\n",
       "      <td>23.000000</td>\n",
       "      <td>14.280488</td>\n",
       "      <td>7.170732</td>\n",
       "      <td>5.085366</td>\n",
       "      <td>19.719512</td>\n",
       "      <td>81.682927</td>\n",
       "      <td>35.682927</td>\n",
       "      <td>0.438539</td>\n",
       "      <td>66.256098</td>\n",
       "      <td>30.243902</td>\n",
       "      <td>0.458105</td>\n",
       "      <td>15.426829</td>\n",
       "      <td>5.439024</td>\n",
       "      <td>0.350826</td>\n",
       "      <td>21.195122</td>\n",
       "      <td>16.378049</td>\n",
       "      <td>0.774287</td>\n",
       "      <td>12.512195</td>\n",
       "      <td>30.658537</td>\n",
       "      <td>43.170732</td>\n",
       "      <td>23.341463</td>\n",
       "      <td>23.621951</td>\n",
       "      <td>22.695122</td>\n",
       "      <td>22.756098</td>\n",
       "      <td>0.768293</td>\n",
       "      <td>0.000000</td>\n",
       "      <td>0.000000</td>\n",
       "      <td>0.0</td>\n",
       "      <td>51.261163</td>\n",
       "      <td>64.236896</td>\n",
       "      <td>0.513213</td>\n",
       "      <td>0.471784</td>\n",
       "      <td>29.168224</td>\n",
       "      <td>73.886277</td>\n",
       "      <td>13.565863</td>\n",
       "      <td>7.961722</td>\n",
       "      <td>5.660011</td>\n",
       "      <td>7.697627</td>\n",
       "      <td>1.147188</td>\n",
       "      <td>70.594512</td>\n",
       "      <td>58.373360</td>\n",
       "      <td>103.508767</td>\n",
       "      <td>103.155329</td>\n",
       "      <td>0.353438</td>\n",
       "      <td>0.428205</td>\n",
       "      <td>17.872811</td>\n",
       "      <td>1.779382</td>\n",
       "      <td>54.711895</td>\n",
       "      <td>0.548780</td>\n",
       "      <td>1</td>\n",
       "      <td>83147049</td>\n",
       "      <td>29</td>\n",
       "    </tr>\n",
       "  </tbody>\n",
       "</table>\n",
       "</div>"
      ],
      "text/plain": [
       "                    teamPTS    teamAST     teamTO   teamSTL   teamBLK  \\\n",
       "season  teamAbbr                                                        \n",
       "2012/13 ATL       97.951220  24.475610  14.865854  8.097561  4.500000   \n",
       "        BOS       96.518519  22.753086  14.580247  8.234568  4.506173   \n",
       "        BOS       96.518519  22.753086  14.580247  8.234568  4.506173   \n",
       "        CHA       93.426829  19.353659  14.073171  7.195122  5.841463   \n",
       "        CHI       93.182927  23.000000  14.280488  7.170732  5.085366   \n",
       "\n",
       "                     teamPF    teamFGA    teamFGM   teamFG%    team2PA  \\\n",
       "season  teamAbbr                                                         \n",
       "2012/13 ATL       17.963415  81.024390  37.609756  0.465584  57.841463   \n",
       "        BOS       21.197531  79.740741  37.049383  0.466365  62.580247   \n",
       "        BOS       21.197531  79.740741  37.049383  0.466365  62.580247   \n",
       "        CHA       19.048780  81.085366  34.426829  0.425313  64.024390   \n",
       "        CHI       19.719512  81.682927  35.682927  0.438539  66.256098   \n",
       "\n",
       "                    team2PM   team2P%    team3PA   team3PM   team3P%  \\\n",
       "season  teamAbbr                                                       \n",
       "2012/13 ATL       29.000000  0.504110  23.182927  8.609756  0.373288   \n",
       "        BOS       30.901235  0.496393  17.160494  6.148148  0.360021   \n",
       "        BOS       30.901235  0.496393  17.160494  6.148148  0.360021   \n",
       "        CHA       28.707317  0.448746  17.060976  5.719512  0.333800   \n",
       "        CHI       30.243902  0.458105  15.426829  5.439024  0.350826   \n",
       "\n",
       "                    teamFTA    teamFTM   teamFT%    teamORB    teamDRB  \\\n",
       "season  teamAbbr                                                         \n",
       "2012/13 ATL       19.743902  14.121951  0.708479   9.243902  31.621951   \n",
       "        BOS       20.962963  16.271605  0.776423   8.074074  31.271605   \n",
       "        BOS       20.962963  16.271605  0.776423   8.074074  31.271605   \n",
       "        CHA       25.121951  18.853659  0.753800  11.182927  29.134146   \n",
       "        CHI       21.195122  16.378049  0.774287  12.512195  30.658537   \n",
       "\n",
       "                    teamTRB   teamPTS1   teamPTS2   teamPTS3   teamPTS4  \\\n",
       "season  teamAbbr                                                          \n",
       "2012/13 ATL       40.865854  23.841463  24.768293  24.975610  23.402439   \n",
       "        BOS       39.345679  24.481481  24.395062  23.333333  22.493827   \n",
       "        BOS       39.345679  24.481481  24.395062  23.333333  22.493827   \n",
       "        CHA       40.317073  23.195122  23.841463  22.804878  23.000000   \n",
       "        CHI       43.170732  23.341463  23.621951  22.695122  22.756098   \n",
       "\n",
       "                  teamPTS5  teamPTS6  teamPTS7  teamPTS8  teamTREB%  \\\n",
       "season  teamAbbr                                                      \n",
       "2012/13 ATL       0.548780  0.414634  0.000000       0.0  48.451795   \n",
       "        BOS       1.296296  0.382716  0.135802       0.0  47.419702   \n",
       "        BOS       1.296296  0.382716  0.135802       0.0  47.419702   \n",
       "        CHA       0.475610  0.109756  0.000000       0.0  47.837867   \n",
       "        CHI       0.768293  0.000000  0.000000       0.0  51.261163   \n",
       "\n",
       "                  teamASST%   teamTS%  teamEFG%  teamOREB%  teamDREB%  \\\n",
       "season  teamAbbr                                                        \n",
       "2012/13 ATL       64.917021  0.546949  0.519068  22.058495  74.082923   \n",
       "        BOS       61.464602  0.543958  0.505091  19.849091  73.645579   \n",
       "        BOS       61.464602  0.543958  0.505091  19.849091  73.645579   \n",
       "        CHA       55.989220  0.507712  0.460761  25.550113  71.441363   \n",
       "        CHI       64.236896  0.513213  0.471784  29.168224  73.886277   \n",
       "\n",
       "                    teamTO%  teamSTL%  teamBLK%  teamBLKR   teamPPS  \\\n",
       "season  teamAbbr                                                      \n",
       "2012/13 ATL       14.275735  8.632868  4.807234  7.865539  1.213796   \n",
       "        BOS       14.087037  8.759989  4.804304  7.320688  1.216717   \n",
       "        BOS       14.087037  8.759989  4.804304  7.320688  1.216717   \n",
       "        CHA       13.248724  7.782578  6.336188  9.213826  1.156089   \n",
       "        CHI       13.565863  7.961722  5.660011  7.697627  1.147188   \n",
       "\n",
       "                    teamFIC  teamFIC40    teamOrtg    teamDrtg  teamEDiff  \\\n",
       "season  teamAbbr                                                            \n",
       "2012/13 ATL       75.964939  62.702237  104.790709  104.424877   0.365832   \n",
       "        BOS       70.694444  57.759542  103.199075  103.510258  -0.311183   \n",
       "        BOS       70.694444  57.759542  103.199075  103.510258  -0.311183   \n",
       "        CHA       65.018293  53.846759  101.542535  111.624296 -10.081761   \n",
       "        CHI       70.594512  58.373360  103.508767  103.155329   0.353438   \n",
       "\n",
       "                  teamPlay%     teamAR  teamAST/TO  teamSTL/TO       Win  \\\n",
       "season  teamAbbr                                                           \n",
       "2012/13 ATL        0.434633  18.867440    1.779402   58.132051  0.536585   \n",
       "        BOS        0.430501  17.931032    1.628542   59.160886  0.506173   \n",
       "        BOS        0.430501  17.931032    1.628542   59.160886  0.506173   \n",
       "        CHA        0.410439  15.310763    1.466465   52.215484  0.256098   \n",
       "        CHI        0.428205  17.872811    1.779382   54.711895  0.548780   \n",
       "\n",
       "                  playoffs  salarycap  Pick  \n",
       "season  teamAbbr                             \n",
       "2012/13 ATL              1   74461791    23  \n",
       "        BOS              1   84282350    21  \n",
       "        BOS              1   84282350    22  \n",
       "        CHA              0   64876315     2  \n",
       "        CHI              1   83147049    29  "
      ]
     },
     "execution_count": 46,
     "metadata": {},
     "output_type": "execute_result"
    }
   ],
   "source": [
    "# add draft pick and salary data to all data\n",
    "all_data_2 = all_data.join(draft_cap, how='inner')\n",
    "all_data_2.head()"
   ]
  },
  {
   "cell_type": "code",
   "execution_count": 47,
   "metadata": {},
   "outputs": [],
   "source": [
    "augmented_mov_avg = addMovingAverage(all_data_2)"
   ]
  },
  {
   "cell_type": "markdown",
   "metadata": {},
   "source": [
    "### 6. Additional Models "
   ]
  },
  {
   "cell_type": "code",
   "execution_count": 48,
   "metadata": {},
   "outputs": [],
   "source": [
    "# Now we have all our training data and labels\n",
    "aug_training_data = augmented_mov_avg.drop(columns = ['teamAbbr', 'season', 'next_season'])\n",
    "\n",
    "aug_X = aug_training_data.drop(columns = 'next_playoffs')\n",
    "aug_y = aug_training_data['next_playoffs']\n",
    "\n",
    "# split off a portion of the data to use as test data. Shuffling is automatically done.\n",
    "aug_train_x, aug_test_x, aug_train_y, aug_test_y = train_test_split(aug_X, aug_y, test_size=0.15, random_state=42)\n",
    "\n",
    "# normalize the data \n",
    "mm_scaler = preprocessing.MinMaxScaler()\n",
    "aug_train_x = pd.DataFrame(mm_scaler.fit_transform(aug_train_x), columns=aug_train_x.columns)\n",
    "aug_test_x = pd.DataFrame(mm_scaler.transform(aug_test_x), columns=aug_test_x.columns)"
   ]
  },
  {
   "cell_type": "markdown",
   "metadata": {},
   "source": [
    "#### 6.1 Re-doing Logistic Regression with draft pick and salary cap"
   ]
  },
  {
   "cell_type": "code",
   "execution_count": 49,
   "metadata": {
    "scrolled": false
   },
   "outputs": [
    {
     "name": "stdout",
     "output_type": "stream",
     "text": [
      "The best hyperparamter C is:  4.294285714285714\n"
     ]
    },
    {
     "data": {
      "image/png": "[encoded data removed]",
      "text/plain": [
       "<Figure size 432x288 with 1 Axes>"
      ]
     },
     "metadata": {
      "needs_background": "light"
     },
     "output_type": "display_data"
    }
   ],
   "source": [
    "aug_train_x_cleaned = aug_train_x[final_features + ['Pick', 'salarycap']]\n",
    "c_vals = np.linspace(0.01, 30, 8)\n",
    "\n",
    "aug_logreg_score = []\n",
    "for c in c_vals:\n",
    "    logreg_draft_cap= LogisticRegression(C=c)\n",
    "    aug_logreg_score.append(np.mean(cross_val_score(logreg_draft_cap, aug_train_x_cleaned, aug_train_y, cv=5)))\n",
    "\n",
    "plt.plot(c_vals, aug_logreg_score)\n",
    "plt.title('Cross Validation Score for Logistic Regression')\n",
    "plt.xlabel('C parameter value')\n",
    "plt.ylabel('CV accuracy');\n",
    "\n",
    "aug_best_c = c_vals[np.argmax(aug_logreg_score)]\n",
    "print(\"The best hyperparamter C is: \", aug_best_c)"
   ]
  },
  {
   "cell_type": "code",
   "execution_count": 50,
   "metadata": {},
   "outputs": [
    {
     "name": "stdout",
     "output_type": "stream",
     "text": [
      "The test accuracy for Logistic Regression with the additional features is:  0.7857142857142857\n"
     ]
    }
   ],
   "source": [
    "logreg_draft_cap = LogisticRegression(C=aug_best_c)\n",
    "logreg_draft_cap.fit(aug_train_x_cleaned, aug_train_y)\n",
    "logreg_draft_cap_preds = logreg_draft_cap.predict(aug_test_x[final_features + ['Pick', 'salarycap']])\n",
    "logreg_draft_cap_accuracy = accuracy_score(aug_test_y, logreg_draft_cap_preds)\n",
    "print('The test accuracy for Logistic Regression with the additional features is: ', logreg_draft_cap_accuracy)"
   ]
  },
  {
   "cell_type": "markdown",
   "metadata": {},
   "source": [
    "#### 6.2 Using PCA + logistic regression\n",
    "This uses the original train_x (of all features) and tries to find the best features on its own via PCA."
   ]
  },
  {
   "cell_type": "code",
   "execution_count": 51,
   "metadata": {
    "scrolled": false
   },
   "outputs": [
    {
     "name": "stdout",
     "output_type": "stream",
     "text": [
      "PCA + logistic regression cross validation accuracy:  0.7980952380952381\n",
      "The best pca rank limit is:  20\n",
      "The best C for Logistic regression is:  1.878787878787879\n"
     ]
    }
   ],
   "source": [
    "pcas = [1, 5, 15, 20, 25, 30, 50]\n",
    "c_vals = np.linspace(1, 30, 100)\n",
    "pca_lr_score = []\n",
    "pca_cs = []\n",
    "for val in pcas:\n",
    "    for c in c_vals:\n",
    "        pca_cs.append((val, c))\n",
    "        pca = PCA(val)\n",
    "        logistic = LogisticRegression(C=c)\n",
    "        pipe = Pipeline(steps=[('pca', pca), ('logistic', logistic)])\n",
    "        pca_lr_score.append(np.mean(cross_val_score(pipe, aug_train_x, aug_train_y, cv=5)))\n",
    "\n",
    "print('PCA + logistic regression cross validation accuracy: ', max(pca_lr_score))\n",
    "best_pca, best_c = pca_cs[np.argmax(pca_lr_score)]\n",
    "print('The best pca rank limit is: ', best_pca)\n",
    "print('The best C for Logistic regression is: ', best_c)"
   ]
  },
  {
   "cell_type": "markdown",
   "metadata": {},
   "source": [
    "### 7. All Model Test Results"
   ]
  },
  {
   "cell_type": "markdown",
   "metadata": {},
   "source": [
    "All the following test models are run on the best parameters found from cross validations above"
   ]
  },
  {
   "cell_type": "markdown",
   "metadata": {},
   "source": [
    "#### 7.1 Logistic Regression 1: Naive (uses original final features)"
   ]
  },
  {
   "cell_type": "code",
   "execution_count": 52,
   "metadata": {},
   "outputs": [
    {
     "name": "stdout",
     "output_type": "stream",
     "text": [
      "The test accuracy of logistic regression is:  0.7857142857142857\n"
     ]
    }
   ],
   "source": [
    "logreg_naive = LogisticRegression(C=best_C, random_state=42)\n",
    "logreg_naive.fit(train_x_cleaned, train_y)\n",
    "logreg_preds = logreg_naive.predict(test_x[final_features])\n",
    "logreg_accuracy = accuracy_score(test_y, logreg_preds)\n",
    "print('The test accuracy of logistic regression is: ', logreg_accuracy)"
   ]
  },
  {
   "cell_type": "markdown",
   "metadata": {},
   "source": [
    "#### 7.2 Decision Tree (uses original final features)"
   ]
  },
  {
   "cell_type": "code",
   "execution_count": 53,
   "metadata": {},
   "outputs": [
    {
     "name": "stdout",
     "output_type": "stream",
     "text": [
      "The test accuracy of decision tree is:  0.7857142857142857\n"
     ]
    }
   ],
   "source": [
    "decisiontree_naive= DecisionTreeClassifier(random_state=42)\n",
    "decisiontree_naive.fit(train_x_cleaned, train_y)\n",
    "decisiontree_preds = decisiontree_naive.predict(test_x[final_features])\n",
    "decisiontree_accuracy = accuracy_score(test_y, decisiontree_preds)\n",
    "print('The test accuracy of decision tree is: ', decisiontree_accuracy)"
   ]
  },
  {
   "cell_type": "markdown",
   "metadata": {},
   "source": [
    "#### 7.3 Random Forest (uses entire training set before augmentation)"
   ]
  },
  {
   "cell_type": "code",
   "execution_count": 54,
   "metadata": {},
   "outputs": [
    {
     "name": "stdout",
     "output_type": "stream",
     "text": [
      "The test accuracy of random forest is:  0.8571428571428571\n"
     ]
    }
   ],
   "source": [
    "randomforest = RandomForestClassifier(max_depth = rf_best_depth, n_estimators=rf_best_num_trees, random_state=42, \\\n",
    "                                     max_features=rf_best_split)\n",
    "randomforest.fit(train_x, train_y)\n",
    "randomforest_preds = randomforest.predict(test_x)\n",
    "randomforest_accuracy = accuracy_score(test_y, randomforest_preds)\n",
    "print('The test accuracy of random forest is: ', randomforest_accuracy)"
   ]
  },
  {
   "cell_type": "markdown",
   "metadata": {},
   "source": [
    "#### 7.4 K-NN (uses original final features)"
   ]
  },
  {
   "cell_type": "code",
   "execution_count": 55,
   "metadata": {},
   "outputs": [
    {
     "name": "stdout",
     "output_type": "stream",
     "text": [
      "The test accuracy of K-NN is:  0.7857142857142857\n"
     ]
    }
   ],
   "source": [
    "neigh = KNeighborsClassifier(n_neighbors= 10)\n",
    "neigh.fit(train_x_cleaned, train_y)\n",
    "neigh_preds = neigh.predict(test_x[final_features])\n",
    "neigh_accuracy = accuracy_score(test_y, neigh_preds)\n",
    "print('The test accuracy of K-NN is: ', neigh_accuracy)"
   ]
  },
  {
   "cell_type": "markdown",
   "metadata": {},
   "source": [
    "#### 7.5 Logistic Regression 2: with draft pick and salary cap"
   ]
  },
  {
   "cell_type": "code",
   "execution_count": 56,
   "metadata": {},
   "outputs": [
    {
     "name": "stdout",
     "output_type": "stream",
     "text": [
      "The test accuracy for Logistic Regression with the additional features is:  0.7857142857142857\n"
     ]
    }
   ],
   "source": [
    "logreg_draft_cap = LogisticRegression(C=aug_best_c)\n",
    "logreg_draft_cap.fit(aug_train_x_cleaned, aug_train_y)\n",
    "logreg_draft_cap_preds = logreg_draft_cap.predict(aug_test_x[final_features + ['Pick', 'salarycap']])\n",
    "logreg_draft_cap_accuracy = accuracy_score(aug_test_y, logreg_draft_cap_preds)\n",
    "print('The test accuracy for Logistic Regression with the additional features is: ', logreg_draft_cap_accuracy)"
   ]
  },
  {
   "cell_type": "markdown",
   "metadata": {},
   "source": [
    "#### 7.6 Logistic Regression 3: using PCA on augmented training data"
   ]
  },
  {
   "cell_type": "code",
   "execution_count": 57,
   "metadata": {},
   "outputs": [
    {
     "name": "stdout",
     "output_type": "stream",
     "text": [
      "The test accuracy of PCA with Logistic Regression is:  0.7857142857142857\n"
     ]
    }
   ],
   "source": [
    "pca_best = PCA(best_pca)\n",
    "logistic_pca = LogisticRegression(C=best_c, max_iter=10000, tol=0.5)\n",
    "pipe = Pipeline(steps=[('pca', pca_best), ('logistic', logistic_pca)])\n",
    "pipe.fit(aug_train_x, aug_train_y)\n",
    "pipe_preds = pipe.predict(aug_test_x)\n",
    "pipe_accuracy = accuracy_score(aug_test_y, pipe_preds)\n",
    "print('The test accuracy of PCA with Logistic Regression is: ', pipe_accuracy)"
   ]
  },
  {
   "cell_type": "markdown",
   "metadata": {},
   "source": [
    "#### 7.7 Comparison of Models"
   ]
  },
  {
   "cell_type": "code",
   "execution_count": 58,
   "metadata": {},
   "outputs": [
    {
     "data": {
      "image/png": "[encoded data removed]",
      "text/plain": [
       "<Figure size 1080x360 with 1 Axes>"
      ]
     },
     "metadata": {
      "needs_background": "light"
     },
     "output_type": "display_data"
    }
   ],
   "source": [
    "xlabels = ['Naive Baseline', 'Majority Baseline', 'Logistic Regression 1', 'Decision Tree', 'Random Forest', \\\n",
    "           'K-NN', 'Logistic Regression 2', 'Logistic Regression 3']\n",
    "test_scores = [baseline_score, majority_score, logreg_accuracy, decisiontree_accuracy, randomforest_accuracy, \\\n",
    "               logreg_draft_cap_accuracy, pipe_accuracy]\n",
    "plt.figure(figsize=(15,5))\n",
    "plt.bar(range(len(test_scores)), test_scores, width = 0.5)\n",
    "plt.xticks(range(len(test_scores)), xlabels)\n",
    "plt.title('Comparison of Test Accuracy of Different Models')\n",
    "plt.xlabel('Type of Model')\n",
    "plt.ylabel('Test accuracy');"
   ]
  },
  {
   "cell_type": "markdown",
   "metadata": {},
   "source": [
    "### Reference Stuff\n",
    "Data Science Lifecycle:\n",
    "\n",
    "Either\n",
    "1. Ask a Question\n",
    "2. Obtain Data\n",
    "3. Understand the Data\n",
    "4. Understand the World/repeat\n",
    "\n",
    "Or (probably more relevant to our case)\n",
    "1. Obtain Data\n",
    "2. Understand the Data\n",
    "3. Ask a Question\n",
    "4. Obtain more Data\n",
    "5. Understand combined data\n",
    "6. Understand the world/repeat"
   ]
  },
  {
   "cell_type": "markdown",
   "metadata": {},
   "source": [
    "### Priorities:\n",
    "1. Build actual naive one (Ru)\n",
    "    - past 1 season to predict next season playoff. \n",
    "2. Find better features (Kevin) \n",
    "    - eg. draft picks, budget, conference, division\n",
    "3. More visualisations (split)\n",
    "    - cluster teams -> PCA on moving_avg df and then k-means clustering\n",
    "    - bar chart -> all the models, before/after adding the 'better features' above\n",
    "    - boxplot -> maybe for budget over 5 years, w/ NBA teams as categorical. Find correlation between the boxplot and their performance \n",
    "4. Add k-nn model (Ru)\n",
    "5. Rename some things eg. mov_avg_model_new and mov_avg_model_new_features"
   ]
  },
  {
   "cell_type": "markdown",
   "metadata": {},
   "source": [
    "### Questions\n",
    "– (i) What were two or three of the most interesting features you came across for your particular\n",
    "question? <br>\n",
    "\n",
    "– (ii) Describe one feature you thought would be useful, but turned out to be ineffective. <br>\n",
    "    - a lot of the features were correlated. eg. having true shooting %, we don't need other shooting related.\n",
    "    - 3pt efficiency was not that indicative of playoffs. Maybe it's because in older seasons, it was not as highly valued as it is nowadays. (include visualisation of how avg 3pt% changed over time) \n",
    "    \n",
    "– (iii) What challenges did you find with your data? Where did you get stuck? <br>\n",
    "    - multicollinearity, had to find our own data (eg. draft/budget) to improve model \n",
    "    \n",
    "– (iv) What are some limitations of the analysis that you did? What assumptions did you make\n",
    "that could prove to be incorrect? <br>\n",
    "    - data size -> because we used moving avg, only had 120 data points total \n",
    "    - game changes over time. eg. see 3pt is more valuable now but big men were more efficient before \n",
    "        - we tried to mitigate this by using moving avg so we only consider the past 3 seasons \n",
    "\n",
    "– (v) What ethical dilemmas did you face with this data? <br>\n",
    "    - representation \n",
    "    - Ru \n",
    "\n",
    "– (vi) What additional data, if available, would strengthen your analysis, or allow you test some\n",
    "other hypothesises? <br>\n",
    "    - NCAA -> NBA we wanted to calc player efficiency which required their team stats not just their personal stats \n",
    "    - what players played in each team in each season \n",
    "    - more historical data to see if game dynamics play a huge role in predicting playoffs\n",
    "\n",
    "– (vii) What ethical concerns might you encounter in studying this problem? How might you\n",
    "address those concerns? <br>\n",
    "    - Ru\n"
   ]
  },
  {
   "cell_type": "markdown",
   "metadata": {},
   "source": [
    "### TODOS:\n",
    "- visualisations eg. EDA, heatmap correlation of features, fine-tuning accuracy for random forest, visualisation for pca clusters, simple histograms, should do some sort of time series test\n",
    "- can look at how fivethirtyeight defines a 'good' basketball team. Test it to see if it actually holds true in this dataset \n",
    "- potential features to add: draft pick #, budget\n",
    "- predict how good in NBA based on NCAA stats (should try to find a good stat)\n",
    "- compare the pros/cons for the different classification models based on the same dataset\n",
    "- seeing if better than baseline (predicting next yr from this year if they're in playoffs)\n",
    "- fine_tune hyperparameters for PCA + logistic regression model\n",
    "\n",
    "- Code organisation:\n",
    "    - should make the cleaning all in one function \n",
    "\n",
    "other ideas:\n",
    "- see what type of shots/position is most popular over time\n",
    "- salary efficiency "
   ]
  },
  {
   "cell_type": "markdown",
   "metadata": {},
   "source": [
    "### A list of observations to include in the report:\n",
    "- originally, when using all the given stats, the features were quite correlated"
   ]
  }
 ],
 "metadata": {
  "kernelspec": {
   "display_name": "Python 3",
   "language": "python",
   "name": "python3"
  },
  "language_info": {
   "codemirror_mode": {
    "name": "ipython",
    "version": 3
   },
   "file_extension": ".py",
   "mimetype": "text/x-python",
   "name": "python",
   "nbconvert_exporter": "python",
   "pygments_lexer": "ipython3",
   "version": "3.7.3"
  }
 },
 "nbformat": 4,
 "nbformat_minor": 2
}
