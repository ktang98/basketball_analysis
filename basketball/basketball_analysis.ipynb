{
 "cells": [
  {
   "cell_type": "markdown",
   "metadata": {},
   "source": [
    "# Data 100 Final Project"
   ]
  },
  {
   "cell_type": "markdown",
   "metadata": {},
   "source": [
    "<b> Authors:</b> Ru Pei and Kevin Tang\n",
    "\n",
    "For our Data 100 Final Project, we will be conducting analysis using the Basketball Dataset. "
   ]
  },
  {
   "cell_type": "markdown",
   "metadata": {},
   "source": [
    "## Motivating Question\n",
    "\n",
    "<b> Is there a way to accurately predict whether a team will make the post-season based on historical data? </b> \n",
    "\n",
    "The subsequent analysis primarily aims to answer that question. We recognize that the most exiting moments of an NBA season typically occur in the postseason. Being able to accurately predict if a given team will advance or not has implications on a large variety of stakeholders (i.e. management, sports betters, players, etc). \n",
    "\n",
    "In answering that motivating question, we'll implicitly answer many more. These include:\n",
    "- Empirically, what factors are most important in determining playoff qualification chances?\n",
    "- To the casual fan, are the results largely intuitive, or are they somewhat surprising?\n",
    "- Do in-game statistics (provided by the given data) paint the whole story? Are there other factors that are of importance?\n",
    "- How do these statistics show how the game has evolved in the past decade?"
   ]
  },
  {
   "cell_type": "markdown",
   "metadata": {},
   "source": [
    "Let's set up the notebook and take a look at the provided data."
   ]
  },
  {
   "cell_type": "code",
   "execution_count": 1,
   "metadata": {},
   "outputs": [],
   "source": [
    "# importing relevant libraries\n",
    "import pandas as pd\n",
    "import numpy as np\n",
    "import matplotlib.pyplot as plt\n",
    "import seaborn as sns\n",
    "import warnings\n",
    "import re\n",
    "from sklearn.linear_model import LogisticRegression\n",
    "from sklearn.decomposition import PCA\n",
    "from sklearn.ensemble import RandomForestClassifier\n",
    "from sklearn.tree import DecisionTreeClassifier\n",
    "from sklearn.tree import plot_tree\n",
    "from sklearn.pipeline import Pipeline\n",
    "from sklearn.model_selection import cross_val_score\n",
    "from sklearn.model_selection import GridSearchCV\n",
    "from sklearn.model_selection import train_test_split\n",
    "from sklearn.dummy import DummyClassifier\n",
    "from sklearn.neighbors import KNeighborsClassifier\n",
    "from sklearn.cluster import AgglomerativeClustering\n",
    "from sklearn.preprocessing import StandardScaler\n",
    "from sklearn.metrics import accuracy_score\n",
    "from sklearn import preprocessing \n",
    "from decimal import Decimal\n",
    "\n",
    "# ignoring warnings\n",
    "warnings.filterwarnings('ignore')"
   ]
  },
  {
   "cell_type": "code",
   "execution_count": 2,
   "metadata": {},
   "outputs": [],
   "source": [
    "# tweaking preferences\n",
    "pd.set_option('display.max_columns', None)\n",
    "np.random.seed(100)"
   ]
  },
  {
   "cell_type": "code",
   "execution_count": 6,
   "metadata": {},
   "outputs": [],
   "source": [
    "# importing data from given csv files\n",
    "scores = pd.read_csv('2012-18_officialBoxScore.csv')\n",
    "player_scores = pd.read_csv('2012-18_playerBoxScore.csv')\n",
    "standings = pd.read_csv('2012-18_standings.csv')\n",
    "team_scores = pd.read_csv('2012-18_teamBoxScore.csv')\n",
    "college = pd.read_csv('college.csv')\n",
    "\n",
    "# importing external data that supplements our models in the future\n",
    "# @source: https://hoopshype.com/salaries/2016-2017/ for salary info\n",
    "# @source: https://www.kaggle.com/hrfang1995/nba-drafts-of-19472018#NBA_Full_Draft_1947-2018.csv for draft info\n",
    "draft_cap = pd.read_csv('draft_cap.csv')"
   ]
  },
  {
   "cell_type": "markdown",
   "metadata": {},
   "source": [
    "### 1. Data Cleaning\n",
    "\n",
    "We're going to clean the data given to us into a relevant tabular format (i.e. indexed by season and team), making it easier for us to explore the nuances of our question."
   ]
  },
  {
   "cell_type": "code",
   "execution_count": 7,
   "metadata": {},
   "outputs": [],
   "source": [
    "def dateToSeason(df, date_col, drop=True):\n",
    "    \"\"\"\n",
    "    df: Pandas Dataframe\n",
    "    date_col: String that references the column name of the date\n",
    "    drop: Boolean to indicate if original date columns will be dropped\n",
    "    \n",
    "    return: An augmented Dataframe that converts dates into their respective NBA Season\"\"\"\n",
    "    \n",
    "    # define the range of dates that fall under each season\n",
    "    season_range = {'2012/13': (df[date_col] >= '2012-10-30') & (df[date_col] <='2013-04-17'), \\\n",
    "          '2013/14': (df[date_col] >= '2013-10-29') & (df[date_col] <='2014-04-16'), \\\n",
    "          '2014/15': (df[date_col] >= '2014-10-28') & (df[date_col] <='2015-04-15'), \\\n",
    "          '2015/16': (df[date_col] >= '2015-10-27') & (df[date_col] <='2016-04-13'), \\\n",
    "          '2016/17': (df[date_col] >= '2016-10-25') & (df[date_col] <='2017-04-12'), \\\n",
    "          '2017/18': (df[date_col] >= '2017-10-17') & (df[date_col] <='2018-04-11')}\n",
    "\n",
    "    # edit the Dataframe\n",
    "    seasons_data = []\n",
    "    for key in season_range.keys():\n",
    "        curr = df.loc[season_range[key]]\n",
    "        curr['season'] = [key]*len(curr)\n",
    "        if drop:\n",
    "            curr.drop(columns=[date_col], inplace=True)\n",
    "        seasons_data.append(curr)\n",
    "\n",
    "    return pd.concat(seasons_data)"
   ]
  },
  {
   "cell_type": "code",
   "execution_count": 8,
   "metadata": {},
   "outputs": [],
   "source": [
    "scores_cpy = scores.copy()\n",
    "\n",
    "# remove all the opponent stats because they are repeated later\n",
    "scores_cpy = scores_cpy.iloc[:,:61]\n",
    "\n",
    "#remove unnecessary columns\n",
    "scores_cpy.drop(columns=['gmTime', 'seasTyp', 'offLNm', 'offFNm', 'teamConf', 'teamDiv', 'teamLoc', 'teamMin', 'teamDayOff'], \n",
    "                inplace=True)\n",
    "\n",
    "# remove duplicate rows\n",
    "scores_cpy.drop_duplicates(inplace=True)\n",
    "\n",
    "# adjust the date to be indicative of the NBA Season, a much more meaningful label\n",
    "scores_cpy['gmDate'] = pd.to_datetime(scores_cpy['gmDate'])\n",
    "all_seasons = dateToSeason(scores_cpy, 'gmDate')\n",
    "\n",
    "# one-hot-encoding for Win/Loss to be 1/0. Note that we drop one of these columns because they are linearly dependent\n",
    "win = pd.get_dummies(all_seasons['teamRslt'], prefix='Result', drop_first = True)['Result_Win']\n",
    "all_seasons['Win'] = win\n",
    "all_seasons.drop(columns='teamRslt', inplace=True)\n",
    "\n",
    "# for each season, find the team's average stats \n",
    "stats_by_season = all_seasons.groupby(['season', 'teamAbbr']).mean()"
   ]
  },
  {
   "cell_type": "code",
   "execution_count": 9,
   "metadata": {},
   "outputs": [],
   "source": [
    "# clean the standings table to work out play-off booleans\n",
    "# first make dates in date format and then separate by seasons\n",
    "standings['stDate'] = pd.to_datetime(standings['stDate'])\n",
    "all_standings = dateToSeason(standings, 'stDate', drop=False)\n",
    "\n",
    "# find standings at end of the season\n",
    "end_dates = ['2013-04-17', '2014-04-16', '2015-04-15', '2016-04-13', '2017-04-12', '2018-04-11']\n",
    "all_standings = all_standings[all_standings['stDate'].isin(end_dates)]\n",
    "all_standings.drop(columns='stDate', inplace=True)\n",
    "rankings = all_standings[['teamAbbr', 'rank', 'season']]\n",
    "rankings = rankings.groupby(['season', 'teamAbbr']).mean()"
   ]
  },
  {
   "cell_type": "code",
   "execution_count": 10,
   "metadata": {},
   "outputs": [],
   "source": [
    "# join the rankings and stats_by_season so we know the standings of teams at end of each season\n",
    "all_data = rankings.join(stats_by_season, how='inner')\n",
    "\n",
    "# add a boolean value of whether they make playoffs\n",
    "all_data['playoffs'] = (all_data['rank'] <= 8).astype(int)\n",
    "all_data.drop(columns='rank', inplace=True)"
   ]
  },
  {
   "cell_type": "code",
   "execution_count": 11,
   "metadata": {},
   "outputs": [],
   "source": [
    "# clean draft and salary data to aggregate and index by team and season\n",
    "# draft_cap.drop(columns=['Unnamed: 0'], inplace=True)\n",
    "# draft_cap.rename(columns={'Team': 'teamAbbr'}, inplace=True)\n",
    "# draft_cap.groupby(['season', 'teamAbbr']).mean()\n",
    "# draft_cap.set_index(['season', 'teamAbbr'], inplace= True)"
   ]
  },
  {
   "cell_type": "code",
   "execution_count": 12,
   "metadata": {},
   "outputs": [
    {
     "data": {
      "text/html": [
       "<div>\n",
       "<style scoped>\n",
       "    .dataframe tbody tr th:only-of-type {\n",
       "        vertical-align: middle;\n",
       "    }\n",
       "\n",
       "    .dataframe tbody tr th {\n",
       "        vertical-align: top;\n",
       "    }\n",
       "\n",
       "    .dataframe thead th {\n",
       "        text-align: right;\n",
       "    }\n",
       "</style>\n",
       "<table border=\"1\" class=\"dataframe\">\n",
       "  <thead>\n",
       "    <tr style=\"text-align: right;\">\n",
       "      <th></th>\n",
       "      <th></th>\n",
       "      <th>teamPTS</th>\n",
       "      <th>teamAST</th>\n",
       "      <th>teamTO</th>\n",
       "      <th>teamSTL</th>\n",
       "      <th>teamBLK</th>\n",
       "      <th>teamPF</th>\n",
       "      <th>teamFGA</th>\n",
       "      <th>teamFGM</th>\n",
       "      <th>teamFG%</th>\n",
       "      <th>team2PA</th>\n",
       "      <th>team2PM</th>\n",
       "      <th>team2P%</th>\n",
       "      <th>team3PA</th>\n",
       "      <th>team3PM</th>\n",
       "      <th>team3P%</th>\n",
       "      <th>teamFTA</th>\n",
       "      <th>teamFTM</th>\n",
       "      <th>teamFT%</th>\n",
       "      <th>teamORB</th>\n",
       "      <th>teamDRB</th>\n",
       "      <th>teamTRB</th>\n",
       "      <th>teamPTS1</th>\n",
       "      <th>teamPTS2</th>\n",
       "      <th>teamPTS3</th>\n",
       "      <th>teamPTS4</th>\n",
       "      <th>teamPTS5</th>\n",
       "      <th>teamPTS6</th>\n",
       "      <th>teamPTS7</th>\n",
       "      <th>teamPTS8</th>\n",
       "      <th>teamTREB%</th>\n",
       "      <th>teamASST%</th>\n",
       "      <th>teamTS%</th>\n",
       "      <th>teamEFG%</th>\n",
       "      <th>teamOREB%</th>\n",
       "      <th>teamDREB%</th>\n",
       "      <th>teamTO%</th>\n",
       "      <th>teamSTL%</th>\n",
       "      <th>teamBLK%</th>\n",
       "      <th>teamBLKR</th>\n",
       "      <th>teamPPS</th>\n",
       "      <th>teamFIC</th>\n",
       "      <th>teamFIC40</th>\n",
       "      <th>teamOrtg</th>\n",
       "      <th>teamDrtg</th>\n",
       "      <th>teamEDiff</th>\n",
       "      <th>teamPlay%</th>\n",
       "      <th>teamAR</th>\n",
       "      <th>teamAST/TO</th>\n",
       "      <th>teamSTL/TO</th>\n",
       "      <th>Win</th>\n",
       "      <th>playoffs</th>\n",
       "    </tr>\n",
       "    <tr>\n",
       "      <th>season</th>\n",
       "      <th>teamAbbr</th>\n",
       "      <th></th>\n",
       "      <th></th>\n",
       "      <th></th>\n",
       "      <th></th>\n",
       "      <th></th>\n",
       "      <th></th>\n",
       "      <th></th>\n",
       "      <th></th>\n",
       "      <th></th>\n",
       "      <th></th>\n",
       "      <th></th>\n",
       "      <th></th>\n",
       "      <th></th>\n",
       "      <th></th>\n",
       "      <th></th>\n",
       "      <th></th>\n",
       "      <th></th>\n",
       "      <th></th>\n",
       "      <th></th>\n",
       "      <th></th>\n",
       "      <th></th>\n",
       "      <th></th>\n",
       "      <th></th>\n",
       "      <th></th>\n",
       "      <th></th>\n",
       "      <th></th>\n",
       "      <th></th>\n",
       "      <th></th>\n",
       "      <th></th>\n",
       "      <th></th>\n",
       "      <th></th>\n",
       "      <th></th>\n",
       "      <th></th>\n",
       "      <th></th>\n",
       "      <th></th>\n",
       "      <th></th>\n",
       "      <th></th>\n",
       "      <th></th>\n",
       "      <th></th>\n",
       "      <th></th>\n",
       "      <th></th>\n",
       "      <th></th>\n",
       "      <th></th>\n",
       "      <th></th>\n",
       "      <th></th>\n",
       "      <th></th>\n",
       "      <th></th>\n",
       "      <th></th>\n",
       "      <th></th>\n",
       "      <th></th>\n",
       "      <th></th>\n",
       "    </tr>\n",
       "  </thead>\n",
       "  <tbody>\n",
       "    <tr>\n",
       "      <td rowspan=\"5\" valign=\"top\">2012/13</td>\n",
       "      <td>ATL</td>\n",
       "      <td>97.951220</td>\n",
       "      <td>24.475610</td>\n",
       "      <td>14.865854</td>\n",
       "      <td>8.097561</td>\n",
       "      <td>4.500000</td>\n",
       "      <td>17.963415</td>\n",
       "      <td>81.024390</td>\n",
       "      <td>37.609756</td>\n",
       "      <td>0.465584</td>\n",
       "      <td>57.841463</td>\n",
       "      <td>29.000000</td>\n",
       "      <td>0.504110</td>\n",
       "      <td>23.182927</td>\n",
       "      <td>8.609756</td>\n",
       "      <td>0.373288</td>\n",
       "      <td>19.743902</td>\n",
       "      <td>14.121951</td>\n",
       "      <td>0.708479</td>\n",
       "      <td>9.243902</td>\n",
       "      <td>31.621951</td>\n",
       "      <td>40.865854</td>\n",
       "      <td>23.841463</td>\n",
       "      <td>24.768293</td>\n",
       "      <td>24.975610</td>\n",
       "      <td>23.402439</td>\n",
       "      <td>0.548780</td>\n",
       "      <td>0.414634</td>\n",
       "      <td>0.000000</td>\n",
       "      <td>0.0</td>\n",
       "      <td>48.451795</td>\n",
       "      <td>64.917021</td>\n",
       "      <td>0.546949</td>\n",
       "      <td>0.519068</td>\n",
       "      <td>22.058495</td>\n",
       "      <td>74.082923</td>\n",
       "      <td>14.275735</td>\n",
       "      <td>8.632868</td>\n",
       "      <td>4.807234</td>\n",
       "      <td>7.865539</td>\n",
       "      <td>1.213796</td>\n",
       "      <td>75.964939</td>\n",
       "      <td>62.702237</td>\n",
       "      <td>104.790709</td>\n",
       "      <td>104.424877</td>\n",
       "      <td>0.365832</td>\n",
       "      <td>0.434633</td>\n",
       "      <td>18.867440</td>\n",
       "      <td>1.779402</td>\n",
       "      <td>58.132051</td>\n",
       "      <td>0.536585</td>\n",
       "      <td>1</td>\n",
       "    </tr>\n",
       "    <tr>\n",
       "      <td>BKN</td>\n",
       "      <td>96.878049</td>\n",
       "      <td>20.341463</td>\n",
       "      <td>14.707317</td>\n",
       "      <td>7.304878</td>\n",
       "      <td>4.768293</td>\n",
       "      <td>18.292683</td>\n",
       "      <td>79.804878</td>\n",
       "      <td>35.878049</td>\n",
       "      <td>0.449987</td>\n",
       "      <td>58.341463</td>\n",
       "      <td>28.219512</td>\n",
       "      <td>0.484071</td>\n",
       "      <td>21.463415</td>\n",
       "      <td>7.658537</td>\n",
       "      <td>0.356373</td>\n",
       "      <td>23.878049</td>\n",
       "      <td>17.463415</td>\n",
       "      <td>0.732144</td>\n",
       "      <td>12.768293</td>\n",
       "      <td>30.000000</td>\n",
       "      <td>42.768293</td>\n",
       "      <td>26.158537</td>\n",
       "      <td>24.109756</td>\n",
       "      <td>22.731707</td>\n",
       "      <td>23.000000</td>\n",
       "      <td>0.658537</td>\n",
       "      <td>0.219512</td>\n",
       "      <td>0.000000</td>\n",
       "      <td>0.0</td>\n",
       "      <td>52.145094</td>\n",
       "      <td>56.829796</td>\n",
       "      <td>0.537116</td>\n",
       "      <td>0.498278</td>\n",
       "      <td>30.775823</td>\n",
       "      <td>73.941318</td>\n",
       "      <td>14.013863</td>\n",
       "      <td>8.131777</td>\n",
       "      <td>5.334624</td>\n",
       "      <td>8.313509</td>\n",
       "      <td>1.218228</td>\n",
       "      <td>71.899390</td>\n",
       "      <td>59.427166</td>\n",
       "      <td>108.316682</td>\n",
       "      <td>106.349655</td>\n",
       "      <td>1.967027</td>\n",
       "      <td>0.439562</td>\n",
       "      <td>16.164246</td>\n",
       "      <td>1.503246</td>\n",
       "      <td>53.735435</td>\n",
       "      <td>0.597561</td>\n",
       "      <td>1</td>\n",
       "    </tr>\n",
       "    <tr>\n",
       "      <td>BOS</td>\n",
       "      <td>96.518519</td>\n",
       "      <td>22.753086</td>\n",
       "      <td>14.580247</td>\n",
       "      <td>8.234568</td>\n",
       "      <td>4.506173</td>\n",
       "      <td>21.197531</td>\n",
       "      <td>79.740741</td>\n",
       "      <td>37.049383</td>\n",
       "      <td>0.466365</td>\n",
       "      <td>62.580247</td>\n",
       "      <td>30.901235</td>\n",
       "      <td>0.496393</td>\n",
       "      <td>17.160494</td>\n",
       "      <td>6.148148</td>\n",
       "      <td>0.360021</td>\n",
       "      <td>20.962963</td>\n",
       "      <td>16.271605</td>\n",
       "      <td>0.776423</td>\n",
       "      <td>8.074074</td>\n",
       "      <td>31.271605</td>\n",
       "      <td>39.345679</td>\n",
       "      <td>24.481481</td>\n",
       "      <td>24.395062</td>\n",
       "      <td>23.333333</td>\n",
       "      <td>22.493827</td>\n",
       "      <td>1.296296</td>\n",
       "      <td>0.382716</td>\n",
       "      <td>0.135802</td>\n",
       "      <td>0.0</td>\n",
       "      <td>47.419702</td>\n",
       "      <td>61.464602</td>\n",
       "      <td>0.543958</td>\n",
       "      <td>0.505091</td>\n",
       "      <td>19.849091</td>\n",
       "      <td>73.645579</td>\n",
       "      <td>14.087037</td>\n",
       "      <td>8.759989</td>\n",
       "      <td>4.804304</td>\n",
       "      <td>7.320688</td>\n",
       "      <td>1.216717</td>\n",
       "      <td>70.694444</td>\n",
       "      <td>57.759542</td>\n",
       "      <td>103.199075</td>\n",
       "      <td>103.510258</td>\n",
       "      <td>-0.311183</td>\n",
       "      <td>0.430501</td>\n",
       "      <td>17.931032</td>\n",
       "      <td>1.628542</td>\n",
       "      <td>59.160886</td>\n",
       "      <td>0.506173</td>\n",
       "      <td>1</td>\n",
       "    </tr>\n",
       "    <tr>\n",
       "      <td>CHA</td>\n",
       "      <td>93.426829</td>\n",
       "      <td>19.353659</td>\n",
       "      <td>14.073171</td>\n",
       "      <td>7.195122</td>\n",
       "      <td>5.841463</td>\n",
       "      <td>19.048780</td>\n",
       "      <td>81.085366</td>\n",
       "      <td>34.426829</td>\n",
       "      <td>0.425313</td>\n",
       "      <td>64.024390</td>\n",
       "      <td>28.707317</td>\n",
       "      <td>0.448746</td>\n",
       "      <td>17.060976</td>\n",
       "      <td>5.719512</td>\n",
       "      <td>0.333800</td>\n",
       "      <td>25.121951</td>\n",
       "      <td>18.853659</td>\n",
       "      <td>0.753800</td>\n",
       "      <td>11.182927</td>\n",
       "      <td>29.134146</td>\n",
       "      <td>40.317073</td>\n",
       "      <td>23.195122</td>\n",
       "      <td>23.841463</td>\n",
       "      <td>22.804878</td>\n",
       "      <td>23.000000</td>\n",
       "      <td>0.475610</td>\n",
       "      <td>0.109756</td>\n",
       "      <td>0.000000</td>\n",
       "      <td>0.0</td>\n",
       "      <td>47.837867</td>\n",
       "      <td>55.989220</td>\n",
       "      <td>0.507712</td>\n",
       "      <td>0.460761</td>\n",
       "      <td>25.550113</td>\n",
       "      <td>71.441363</td>\n",
       "      <td>13.248724</td>\n",
       "      <td>7.782578</td>\n",
       "      <td>6.336188</td>\n",
       "      <td>9.213826</td>\n",
       "      <td>1.156089</td>\n",
       "      <td>65.018293</td>\n",
       "      <td>53.846759</td>\n",
       "      <td>101.542535</td>\n",
       "      <td>111.624296</td>\n",
       "      <td>-10.081761</td>\n",
       "      <td>0.410439</td>\n",
       "      <td>15.310763</td>\n",
       "      <td>1.466465</td>\n",
       "      <td>52.215484</td>\n",
       "      <td>0.256098</td>\n",
       "      <td>0</td>\n",
       "    </tr>\n",
       "    <tr>\n",
       "      <td>CHI</td>\n",
       "      <td>93.182927</td>\n",
       "      <td>23.000000</td>\n",
       "      <td>14.280488</td>\n",
       "      <td>7.170732</td>\n",
       "      <td>5.085366</td>\n",
       "      <td>19.719512</td>\n",
       "      <td>81.682927</td>\n",
       "      <td>35.682927</td>\n",
       "      <td>0.438539</td>\n",
       "      <td>66.256098</td>\n",
       "      <td>30.243902</td>\n",
       "      <td>0.458105</td>\n",
       "      <td>15.426829</td>\n",
       "      <td>5.439024</td>\n",
       "      <td>0.350826</td>\n",
       "      <td>21.195122</td>\n",
       "      <td>16.378049</td>\n",
       "      <td>0.774287</td>\n",
       "      <td>12.512195</td>\n",
       "      <td>30.658537</td>\n",
       "      <td>43.170732</td>\n",
       "      <td>23.341463</td>\n",
       "      <td>23.621951</td>\n",
       "      <td>22.695122</td>\n",
       "      <td>22.756098</td>\n",
       "      <td>0.768293</td>\n",
       "      <td>0.000000</td>\n",
       "      <td>0.000000</td>\n",
       "      <td>0.0</td>\n",
       "      <td>51.261163</td>\n",
       "      <td>64.236896</td>\n",
       "      <td>0.513213</td>\n",
       "      <td>0.471784</td>\n",
       "      <td>29.168224</td>\n",
       "      <td>73.886277</td>\n",
       "      <td>13.565863</td>\n",
       "      <td>7.961722</td>\n",
       "      <td>5.660011</td>\n",
       "      <td>7.697627</td>\n",
       "      <td>1.147188</td>\n",
       "      <td>70.594512</td>\n",
       "      <td>58.373360</td>\n",
       "      <td>103.508767</td>\n",
       "      <td>103.155329</td>\n",
       "      <td>0.353438</td>\n",
       "      <td>0.428205</td>\n",
       "      <td>17.872811</td>\n",
       "      <td>1.779382</td>\n",
       "      <td>54.711895</td>\n",
       "      <td>0.548780</td>\n",
       "      <td>1</td>\n",
       "    </tr>\n",
       "  </tbody>\n",
       "</table>\n",
       "</div>"
      ],
      "text/plain": [
       "                    teamPTS    teamAST     teamTO   teamSTL   teamBLK  \\\n",
       "season  teamAbbr                                                        \n",
       "2012/13 ATL       97.951220  24.475610  14.865854  8.097561  4.500000   \n",
       "        BKN       96.878049  20.341463  14.707317  7.304878  4.768293   \n",
       "        BOS       96.518519  22.753086  14.580247  8.234568  4.506173   \n",
       "        CHA       93.426829  19.353659  14.073171  7.195122  5.841463   \n",
       "        CHI       93.182927  23.000000  14.280488  7.170732  5.085366   \n",
       "\n",
       "                     teamPF    teamFGA    teamFGM   teamFG%    team2PA  \\\n",
       "season  teamAbbr                                                         \n",
       "2012/13 ATL       17.963415  81.024390  37.609756  0.465584  57.841463   \n",
       "        BKN       18.292683  79.804878  35.878049  0.449987  58.341463   \n",
       "        BOS       21.197531  79.740741  37.049383  0.466365  62.580247   \n",
       "        CHA       19.048780  81.085366  34.426829  0.425313  64.024390   \n",
       "        CHI       19.719512  81.682927  35.682927  0.438539  66.256098   \n",
       "\n",
       "                    team2PM   team2P%    team3PA   team3PM   team3P%  \\\n",
       "season  teamAbbr                                                       \n",
       "2012/13 ATL       29.000000  0.504110  23.182927  8.609756  0.373288   \n",
       "        BKN       28.219512  0.484071  21.463415  7.658537  0.356373   \n",
       "        BOS       30.901235  0.496393  17.160494  6.148148  0.360021   \n",
       "        CHA       28.707317  0.448746  17.060976  5.719512  0.333800   \n",
       "        CHI       30.243902  0.458105  15.426829  5.439024  0.350826   \n",
       "\n",
       "                    teamFTA    teamFTM   teamFT%    teamORB    teamDRB  \\\n",
       "season  teamAbbr                                                         \n",
       "2012/13 ATL       19.743902  14.121951  0.708479   9.243902  31.621951   \n",
       "        BKN       23.878049  17.463415  0.732144  12.768293  30.000000   \n",
       "        BOS       20.962963  16.271605  0.776423   8.074074  31.271605   \n",
       "        CHA       25.121951  18.853659  0.753800  11.182927  29.134146   \n",
       "        CHI       21.195122  16.378049  0.774287  12.512195  30.658537   \n",
       "\n",
       "                    teamTRB   teamPTS1   teamPTS2   teamPTS3   teamPTS4  \\\n",
       "season  teamAbbr                                                          \n",
       "2012/13 ATL       40.865854  23.841463  24.768293  24.975610  23.402439   \n",
       "        BKN       42.768293  26.158537  24.109756  22.731707  23.000000   \n",
       "        BOS       39.345679  24.481481  24.395062  23.333333  22.493827   \n",
       "        CHA       40.317073  23.195122  23.841463  22.804878  23.000000   \n",
       "        CHI       43.170732  23.341463  23.621951  22.695122  22.756098   \n",
       "\n",
       "                  teamPTS5  teamPTS6  teamPTS7  teamPTS8  teamTREB%  \\\n",
       "season  teamAbbr                                                      \n",
       "2012/13 ATL       0.548780  0.414634  0.000000       0.0  48.451795   \n",
       "        BKN       0.658537  0.219512  0.000000       0.0  52.145094   \n",
       "        BOS       1.296296  0.382716  0.135802       0.0  47.419702   \n",
       "        CHA       0.475610  0.109756  0.000000       0.0  47.837867   \n",
       "        CHI       0.768293  0.000000  0.000000       0.0  51.261163   \n",
       "\n",
       "                  teamASST%   teamTS%  teamEFG%  teamOREB%  teamDREB%  \\\n",
       "season  teamAbbr                                                        \n",
       "2012/13 ATL       64.917021  0.546949  0.519068  22.058495  74.082923   \n",
       "        BKN       56.829796  0.537116  0.498278  30.775823  73.941318   \n",
       "        BOS       61.464602  0.543958  0.505091  19.849091  73.645579   \n",
       "        CHA       55.989220  0.507712  0.460761  25.550113  71.441363   \n",
       "        CHI       64.236896  0.513213  0.471784  29.168224  73.886277   \n",
       "\n",
       "                    teamTO%  teamSTL%  teamBLK%  teamBLKR   teamPPS  \\\n",
       "season  teamAbbr                                                      \n",
       "2012/13 ATL       14.275735  8.632868  4.807234  7.865539  1.213796   \n",
       "        BKN       14.013863  8.131777  5.334624  8.313509  1.218228   \n",
       "        BOS       14.087037  8.759989  4.804304  7.320688  1.216717   \n",
       "        CHA       13.248724  7.782578  6.336188  9.213826  1.156089   \n",
       "        CHI       13.565863  7.961722  5.660011  7.697627  1.147188   \n",
       "\n",
       "                    teamFIC  teamFIC40    teamOrtg    teamDrtg  teamEDiff  \\\n",
       "season  teamAbbr                                                            \n",
       "2012/13 ATL       75.964939  62.702237  104.790709  104.424877   0.365832   \n",
       "        BKN       71.899390  59.427166  108.316682  106.349655   1.967027   \n",
       "        BOS       70.694444  57.759542  103.199075  103.510258  -0.311183   \n",
       "        CHA       65.018293  53.846759  101.542535  111.624296 -10.081761   \n",
       "        CHI       70.594512  58.373360  103.508767  103.155329   0.353438   \n",
       "\n",
       "                  teamPlay%     teamAR  teamAST/TO  teamSTL/TO       Win  \\\n",
       "season  teamAbbr                                                           \n",
       "2012/13 ATL        0.434633  18.867440    1.779402   58.132051  0.536585   \n",
       "        BKN        0.439562  16.164246    1.503246   53.735435  0.597561   \n",
       "        BOS        0.430501  17.931032    1.628542   59.160886  0.506173   \n",
       "        CHA        0.410439  15.310763    1.466465   52.215484  0.256098   \n",
       "        CHI        0.428205  17.872811    1.779382   54.711895  0.548780   \n",
       "\n",
       "                  playoffs  \n",
       "season  teamAbbr            \n",
       "2012/13 ATL              1  \n",
       "        BKN              1  \n",
       "        BOS              1  \n",
       "        CHA              0  \n",
       "        CHI              1  "
      ]
     },
     "execution_count": 12,
     "metadata": {},
     "output_type": "execute_result"
    }
   ],
   "source": [
    "# add draft pick and salary data to all data\n",
    "# all_data = all_data.join(draft_cap, how='inner')\n",
    "\n",
    "# take a look at the final primary table\n",
    "all_data.head()"
   ]
  },
  {
   "cell_type": "markdown",
   "metadata": {},
   "source": [
    "### 2. Preliminary Exploratory Data Analysis"
   ]
  },
  {
   "cell_type": "markdown",
   "metadata": {},
   "source": [
    "Though intuitive, we wanted to substantiate our hypothesis from the data (that prior performance is indicative of future performance). Let's visualize how teams' rankings have adjusted over time.\n",
    "\n",
    "Note, with 30 teams, it would be almost impossible to try to visualize ranking movement over time of the entire NBA. Instead, we have segmented our visualizations into the 6 divisions. Some quick research shows that the composition of these divisions has not changed within the past 8 years; hence, we will run into no issues with contigency. We also assume that cases of rebranding (i.e. the Charlotte Bobcats rebranded into the Hornets), have no serious implications on team performance."
   ]
  },
  {
   "cell_type": "code",
   "execution_count": 13,
   "metadata": {},
   "outputs": [],
   "source": [
    "# flatten the multi-indexed rankings dataframe\n",
    "flattened_rankings = pd.DataFrame(rankings.to_records())\n",
    "\n",
    "# use regex to convert the String season into a meaningful int\n",
    "start_years = flattened_rankings['season'].str.extract('(.*)\\/')[0]\n",
    "flattened_rankings['startYear'] = pd.to_numeric(start_years)\n",
    "\n",
    "# introduce divisions and take relevant columns\n",
    "division_rankings = flattened_rankings.merge(scores, on='teamAbbr').groupby(['teamAbbr', 'startYear']).first()\n",
    "division_rankings = pd.DataFrame(division_rankings[['rank', 'teamDiv']].to_records())"
   ]
  },
  {
   "cell_type": "code",
   "execution_count": 14,
   "metadata": {
    "scrolled": false
   },
   "outputs": [
    {
     "data": {
      "image/png": "[encoded data removed]",
      "text/plain": [
       "<Figure size 576x288 with 1 Axes>"
      ]
     },
     "metadata": {
      "needs_background": "light"
     },
     "output_type": "display_data"
    },
    {
     "data": {
      "image/png": "[encoded data removed]",
      "text/plain": [
       "<Figure size 576x288 with 1 Axes>"
      ]
     },
     "metadata": {
      "needs_background": "light"
     },
     "output_type": "display_data"
    },
    {
     "data": {
      "image/png": "[encoded data removed]",
      "text/plain": [
       "<Figure size 576x288 with 1 Axes>"
      ]
     },
     "metadata": {
      "needs_background": "light"
     },
     "output_type": "display_data"
    },
    {
     "data": {
      "image/png": "[encoded data removed]",
      "text/plain": [
       "<Figure size 576x288 with 1 Axes>"
      ]
     },
     "metadata": {
      "needs_background": "light"
     },
     "output_type": "display_data"
    },
    {
     "data": {
      "image/png": "[encoded data removed]",
      "text/plain": [
       "<Figure size 576x288 with 1 Axes>"
      ]
     },
     "metadata": {
      "needs_background": "light"
     },
     "output_type": "display_data"
    },
    {
     "data": {
      "image/png": "[encoded data removed]",
      "text/plain": [
       "<Figure size 576x288 with 1 Axes>"
      ]
     },
     "metadata": {
      "needs_background": "light"
     },
     "output_type": "display_data"
    }
   ],
   "source": [
    "# list of all possible divisions\n",
    "divisions = ['Atlantic', 'Central', 'Southeast', 'Northwest', 'Pacific', 'Southwest']\n",
    "\n",
    "# plotting for the separate divisions\n",
    "for division in divisions:\n",
    "    plt.figure(figsize=(8, 4))\n",
    "    atlantic = sns.lineplot('startYear', 'rank', data=division_rankings[division_rankings['teamDiv'] == division], \n",
    "                            hue='teamAbbr')\n",
    "    atlantic.legend(loc='bottom right', bbox_to_anchor=(1.25, 0.5), ncol=1)\n",
    "    plt.title('Regular Season Conference Rankings of {} Teams'.format(division))\n",
    "    plt.xlabel('Season Start Year')\n",
    "    plt.yticks(range(1))\n",
    "    \n",
    "    # inverting y axis because lower ranks are better, makes the visualization more intuitive\n",
    "    plt.gca().invert_yaxis()\n",
    "    plt.show();"
   ]
  },
  {
   "cell_type": "markdown",
   "metadata": {},
   "source": [
    "These visualizations show us that most teams tend to either fluctuate around the same standings or progressively trend towards either towards the top or the bottom of the standings. Teams that 'spike' between positions (like Charlotte in Southeast division) are pretty uncommon, or that quickly rise up the standings (like Philadelphia in the Atlantic division from the 16/17 to 17/18 season). Without rigorous proof, we can see this trend is valid. We will account for light fluctuations through a moving average of statistics over the past 3 seasons.\n",
    "\n",
    "After some external research, we discovered that sudden team improvements (like the 76ers as mentioned above) are largely due to obtaining leverage after obtaining high draft picks in the NBA lottery (either through getting a new young talent to build a team around, or trading for better components)."
   ]
  },
  {
   "cell_type": "markdown",
   "metadata": {},
   "source": [
    "### 3. Feature Engineering/More EDA\n",
    "\n",
    "Now, we want to discover which features are most correlated to success, potentially identify redudancy/multicollinearity, and identify significant features that our data doesn't fully address."
   ]
  },
  {
   "cell_type": "code",
   "execution_count": 36,
   "metadata": {},
   "outputs": [],
   "source": [
    "# add a column of whether the team made playoffs in the next season\n",
    "# 2018-19 season playoffs data which is manually inputted from NBA.com\n",
    "season_1819 = pd.DataFrame()\n",
    "season_1819['teamAbbr'] = rankings.index.get_level_values('teamAbbr').unique().tolist()\n",
    "season_1819['playoffs'] = [0, 1, 1, 0, 0, 0, 0, 1, 1, 1, 1, 1, 1, 0, 0, 0, 1, 0, 0, 0, 1, 1, 1, 0, 1, 1, 0, 1, 1, 0]\n",
    "season_1819['season'] = ['2018/19'] * len(season_1819)\n",
    "seasons_playoff = all_data['playoffs'].reset_index()\n",
    "seasons_playoff.append(season_1819)\n",
    "\n",
    "# remove the 2012-13 season data\n",
    "seasons_playoff = seasons_playoff[seasons_playoff['season'] != '2012/13']\n",
    "seasons_playoff.columns = ['next_season', 'teamAbbr', 'next_playoffs']"
   ]
  },
  {
   "cell_type": "code",
   "execution_count": 37,
   "metadata": {},
   "outputs": [],
   "source": [
    "def addNextSeason(df):\n",
    "    \"\"\"\n",
    "    df: selected Pandas Dataframe\n",
    "    \n",
    "    return: augmented version of df that includes a column for the next season label\n",
    "    \"\"\"\n",
    "    # map current season to next season\n",
    "    dates_dict = {'2012/13': '2013/14', \\\n",
    "                 '2013/14': '2014/15', \\\n",
    "                 '2014/15': '2015/16', \\\n",
    "                 '2015/16': '2016/17', \\\n",
    "                 '2016/17': '2017/18', \\\n",
    "                 '2017/18': '2018/19'}\n",
    "    df_new = df.reset_index().copy()\n",
    "    df_new['next_season'] = df_new['season'].map(dates_dict)\n",
    "    return df_new.merge(seasons_playoff, how='inner', on=['teamAbbr', 'next_season'])"
   ]
  },
  {
   "cell_type": "code",
   "execution_count": 38,
   "metadata": {
    "scrolled": true
   },
   "outputs": [],
   "source": [
    "def addMovingAverage(df):\n",
    "    # create a new table which has the mean of past 3 seasons and whether the team makes playoffs next season. \n",
    "    # Note the input into 'rolling' is the # seasons for our moving average window\n",
    "    mov_avg_data = df.groupby('teamAbbr').rolling(3).mean()\n",
    "\n",
    "    # remove the NaN rows which exist because first 2 seasons for MA don't exist \n",
    "    mov_avg_data = mov_avg_data.dropna()\n",
    "    mov_avg_data.index = mov_avg_data.index.droplevel(2)\n",
    "    \n",
    "    return addNextSeason(mov_avg_data)"
   ]
  },
  {
   "cell_type": "code",
   "execution_count": 39,
   "metadata": {},
   "outputs": [],
   "source": [
    "mov_avg_data_new = addMovingAverage(all_data)"
   ]
  },
  {
   "cell_type": "markdown",
   "metadata": {},
   "source": [
    "Now, let's see which of our current features is most correlated with playoff qualification."
   ]
  },
  {
   "cell_type": "code",
   "execution_count": 40,
   "metadata": {},
   "outputs": [
    {
     "data": {
      "text/plain": [
       "teamEDiff    0.562242\n",
       "Win          0.552999\n",
       "playoffs     0.545371\n",
       "teamDrtg     0.490565\n",
       "teamTS%      0.461633\n",
       "teamEFG%     0.448068\n",
       "team2P%      0.434102\n",
       "teamFG%      0.432761\n",
       "teamPPS      0.427823\n",
       "teamOrtg     0.423029\n",
       "Name: next_playoffs, dtype: float64"
      ]
     },
     "execution_count": 40,
     "metadata": {},
     "output_type": "execute_result"
    }
   ],
   "source": [
    "# finding the top 10 features in correlation magnitude with next year playoff qualification\n",
    "# We start the index at 1 to remove the perfect correlation between next_playoff and itself\n",
    "mov_avg_data_new.corr()['next_playoffs'].abs().sort_values(ascending=False)[1:11]"
   ]
  },
  {
   "cell_type": "markdown",
   "metadata": {},
   "source": [
    "To gain a better understanding of the nuances of our question (and for curiosity's sake), let's also take a look at the worst features."
   ]
  },
  {
   "cell_type": "code",
   "execution_count": 41,
   "metadata": {},
   "outputs": [
    {
     "data": {
      "text/plain": [
       "teamFTA      0.005635\n",
       "team2PM      0.008680\n",
       "teamOREB%    0.013076\n",
       "teamPTS7     0.016132\n",
       "teamTO       0.016778\n",
       "teamPF       0.052860\n",
       "teamFTM      0.059125\n",
       "teamTRB      0.064153\n",
       "teamTO%      0.067618\n",
       "teamDREB%    0.071552\n",
       "Name: next_playoffs, dtype: float64"
      ]
     },
     "execution_count": 41,
     "metadata": {},
     "output_type": "execute_result"
    }
   ],
   "source": [
    "# finding the worst 10 features in correlation magnitude with next year playoff qualification\n",
    "mov_avg_data_new.corr()['next_playoffs'].abs().sort_values()[:10]"
   ]
  },
  {
   "cell_type": "markdown",
   "metadata": {},
   "source": [
    "Some of these findings are largely intuitive. For example, we would expect that teams with more wins will naturally do better, and given our findings in previous sections, that teams who have been making the playoffs in recent years to do so again. On the other hand, since free throws have inherently lower point values, they matter less when compared to field goals. \"Period 7\" (or the third period of overtime) is also extremeley rare. Hence, performance in that period also isn't a good indication.\n",
    "\n",
    "Some, however, are not. These include turnovers not contributing that much (though they seem to be a pinacle point of statistical analysis by many basketball pundits), and in an era of the game where 3PT shooting is so important, it's interesting to see it's still not as raw field goal or true shooting percentage. Let's take a look to see if time is a factor that relates to this surprising phenomenon with 3PT shooting."
   ]
  },
  {
   "cell_type": "code",
   "execution_count": 61,
   "metadata": {},
   "outputs": [
    {
     "data": {
      "image/png": "[encoded data removed]",
      "text/plain": [
       "<Figure size 432x288 with 1 Axes>"
      ]
     },
     "metadata": {
      "needs_background": "light"
     },
     "output_type": "display_data"
    }
   ],
   "source": [
    "playoff_teams = all_data[all_data['playoffs'] == 1]\n",
    "playoff_teams = pd.DataFrame(playoff_teams.to_records())\n",
    "sns.boxplot('season', 'team3P%', data=playoff_teams)\n",
    "plt.title(\"Boxplot of 3P% of Playoff Teams\");"
   ]
  },
  {
   "cell_type": "markdown",
   "metadata": {},
   "source": [
    "Wonder who that insane outlier that shot over 41% collectively as a team (2015/16 season) is? I think most casual NBA fans in the Bay Area can accurately guess."
   ]
  },
  {
   "cell_type": "code",
   "execution_count": 54,
   "metadata": {},
   "outputs": [
    {
     "data": {
      "text/plain": [
       "56    GS\n",
       "Name: teamAbbr, dtype: object"
      ]
     },
     "execution_count": 54,
     "metadata": {},
     "output_type": "execute_result"
    }
   ],
   "source": [
    "playoff_teams[playoff_teams['team3P%'] > 0.41]['teamAbbr']"
   ]
  },
  {
   "cell_type": "markdown",
   "metadata": {},
   "source": [
    "That 2016/17 outlier that shot horribly from outside the perimeter was also of interest to us."
   ]
  },
  {
   "cell_type": "code",
   "execution_count": 57,
   "metadata": {},
   "outputs": [
    {
     "data": {
      "text/plain": [
       "77    OKC\n",
       "Name: teamAbbr, dtype: object"
      ]
     },
     "execution_count": 57,
     "metadata": {},
     "output_type": "execute_result"
    }
   ],
   "source": [
    "playoff_teams[(playoff_teams['team3P%'] < 0.33) & (playoff_teams['season'] == '2016/17')]['teamAbbr']"
   ]
  },
  {
   "cell_type": "markdown",
   "metadata": {},
   "source": [
    "which honestly shouldn't be a surprise when you realize Russel Westbrook shot an average of 7.2\t3s per game at only 34.3%. \n",
    "\n",
    "Source: https://www.basketball-reference.com/players/w/westbru01.html"
   ]
  },
  {
   "cell_type": "code",
   "execution_count": 59,
   "metadata": {},
   "outputs": [
    {
     "data": {
      "image/png": "[encoded data removed]",
      "text/plain": [
       "<Figure size 432x288 with 1 Axes>"
      ]
     },
     "metadata": {
      "needs_background": "light"
     },
     "output_type": "display_data"
    }
   ],
   "source": [
    "all_teams = pd.DataFrame(all_data.to_records())\n",
    "sns.boxplot('season', 'team3P%', data=all_teams)\n",
    "plt.title(\"Boxplot of 3P% of All Teams\");"
   ]
  },
  {
   "cell_type": "markdown",
   "metadata": {},
   "source": [
    "all NBA teams performed slightly worse, but interestingly enough, there wasn't the surge of tendency to shoot better from outside the arc as we anticipated. Though it's surprising and won't help us with modelling, it was a really cool observation to make, and probably something on interest that will come up in our casual basketball conversations in the future."
   ]
  },
  {
   "cell_type": "markdown",
   "metadata": {},
   "source": [
    "We also notice that a large majority of high correlation magnitudes are based on shooting efficiency. We hypothesize that there's probably much redundancy in these features."
   ]
  },
  {
   "cell_type": "code",
   "execution_count": null,
   "metadata": {},
   "outputs": [],
   "source": [
    "shooting_metrics = mov_avg_data_new[['teamTS%', 'teamEFG%', 'team2P%', 'teamFG%', 'teamPPS']]\n",
    "\n",
    "plt.figure(figsize=(10, 7))\n",
    "shot_heatmap = sns.heatmap(shooting_metrics.corr(), annot=True)\n",
    "plt.title(\"Correlation Heatmap between Shooting Metrics\")\n",
    "\n",
    "# this line of code below fixes a sns.heatmap bug with newer iterations of matplotlib\n",
    "shot_heatmap.set_ylim(0, 5);"
   ]
  },
  {
   "cell_type": "markdown",
   "metadata": {},
   "source": [
    "Unsurprisingly, these features are highly correlated. We should probably only use one. We choose True Shooting Percentage because it's both the highest correlated and the best comprehensive metric for all shooting efficiency.\n",
    "\n",
    "We now go through all the possible features again, repeat this process, and pick out a set of features that are both indicative, and uncorrelated with each other. An interesting observation from the heatmap below is that defensive rating seems to be negatively correlated with playoff contention. This seems counter-intuitive; after all, \"defense wins championships.\" It's worth noting that lower defensive ratings are actually better (i.e. lower scores mean better defenses) given the NBA's definition. Hence, it's not really that counterintuitive."
   ]
  },
  {
   "cell_type": "code",
   "execution_count": null,
   "metadata": {},
   "outputs": [],
   "source": [
    "final_features = ['Win', 'playoffs', 'teamDrtg', 'teamTS%']\n",
    "\n",
    "final_mov_avg = mov_avg_data_new[final_features + ['next_playoffs']]\n",
    "plt.figure(figsize=(10, 7))\n",
    "shot_heatmap = sns.heatmap(final_mov_avg.corr(), annot=True)\n",
    "plt.title(\"Correlation Heatmap between Final Features\")\n",
    "\n",
    "# this line of code below fixes a sns.heatmap bug with newer iterations of matplotlib\n",
    "shot_heatmap.set_ylim(0, 5);"
   ]
  },
  {
   "cell_type": "markdown",
   "metadata": {},
   "source": [
    "Even after selecting highly correlated features that have seemingly little to do with each other at first glance, there's still a significant amount of redundancy."
   ]
  },
  {
   "cell_type": "markdown",
   "metadata": {},
   "source": [
    "### 4. Initial Model Selection\n",
    "\n",
    "Let's try to fit a diverse range of models to see how well we can predict NBA playoff qualification with only our given dataset"
   ]
  },
  {
   "cell_type": "code",
   "execution_count": null,
   "metadata": {},
   "outputs": [],
   "source": [
    "# Now we have all our training data and labels\n",
    "training_data = mov_avg_data_new.drop(columns = ['teamAbbr', 'season', 'next_season'])\n",
    "\n",
    "# shuffle all the training data so that time (i.e. same season) isn't a bias in CV\n",
    "# training_data = training_data.sample(frac=1, random_state=100).reset_index(drop=True)\n",
    "\n",
    "X = training_data.drop(columns = 'next_playoffs')\n",
    "y = training_data['next_playoffs']\n",
    "\n",
    "# split off a portion of the data to use as test data. Shuffling is automatically done.\n",
    "train_x, test_x, train_y, test_y = train_test_split(X, y, test_size=0.1, random_state=42)\n",
    "\n",
    "# normalize the data \n",
    "mm_scaler = preprocessing.MinMaxScaler()\n",
    "train_x = pd.DataFrame(mm_scaler.fit_transform(train_x), columns=train_x.columns)\n",
    "test_x = pd.DataFrame(mm_scaler.transform(test_x), columns=test_x.columns)"
   ]
  },
  {
   "cell_type": "markdown",
   "metadata": {},
   "source": [
    "#### Model 4.1: Naive Baseline Predictor\n",
    "\n",
    "We'll create a baseline predictor that simply predicts playoff qualification based on past season's performance (i.e. teams who made the playoffs in the past will make it again)."
   ]
  },
  {
   "cell_type": "code",
   "execution_count": null,
   "metadata": {},
   "outputs": [],
   "source": [
    "# using a dictionary of dates, have a column of the next season\n",
    "baseline_df = addNextSeason(all_data)\n",
    "\n",
    "baseline_x = baseline_df.drop(['next_playoffs', 'season', 'teamAbbr', 'next_season'], axis=1)\n",
    "baseline_y = baseline_df['next_playoffs']\n",
    "base_train_x, base_test_x, base_train_y, base_test_y = train_test_split(baseline_x, baseline_y, test_size=0.1, random_state=42)\n",
    "\n",
    "# normalize the data using minmaxscaler\n",
    "mm_scaler = preprocessing.MinMaxScaler()\n",
    "base_train_x = pd.DataFrame(mm_scaler.fit_transform(base_train_x), columns=base_train_x.columns)\n",
    "base_test_x = pd.DataFrame(mm_scaler.transform(base_test_x), columns=base_test_x.columns)"
   ]
  },
  {
   "cell_type": "code",
   "execution_count": null,
   "metadata": {},
   "outputs": [],
   "source": [
    "class naive_predictor:\n",
    "    def init(self):\n",
    "        pass\n",
    "    \n",
    "    def fit(self, X, y):\n",
    "        self.X = X\n",
    "        self.y = y\n",
    "        \n",
    "    def predict(self):\n",
    "        return self.X['playoffs'] == 1.0\n",
    "    \n",
    "    def score(self):\n",
    "        return np.average((self.X['playoffs'] == 1.0) == self.y)\n",
    "\n",
    "    \n",
    "baseline = naive_predictor()\n",
    "baseline.fit(base_train_x, base_train_y.astype(float).reset_index()['next_playoffs'])\n",
    "baseline.score()"
   ]
  },
  {
   "cell_type": "markdown",
   "metadata": {},
   "source": [
    "Roughly 76% accuracy is decent for a baseline/naive predictor. It does beat guessing at random (which would converge to a 50% accuracy). Let's see if we can make our predictor more sophisticated in future iterations."
   ]
  },
  {
   "cell_type": "markdown",
   "metadata": {},
   "source": [
    "#### Model 4.2a: Majority Predictor\n",
    "\n",
    "Let's enhance our naive predictor to account for our feature engineering. Namely, we'll predict that a team makes the playoffs if the team made more than 50% of the playoffs in the past 3 seasons (since there are exactly 3 seasons, it's impossible to qualify exactly 50% of the time)."
   ]
  },
  {
   "cell_type": "code",
   "execution_count": null,
   "metadata": {},
   "outputs": [],
   "source": [
    "class mav_predictor:\n",
    "    def init(self):\n",
    "        pass\n",
    "    \n",
    "    def fit(self, X, y):\n",
    "        self.X = X\n",
    "        self.y = y\n",
    "        \n",
    "    def predict(self):\n",
    "        return self.X['playoffs'] > 0.5\n",
    "    \n",
    "    def score(self):\n",
    "        return np.average((self.X['playoffs'] > 0.5) == self.y)\n",
    "    \n",
    "    def wrong_predictions(self):\n",
    "        return self.X[self.predict() != self.y]\n",
    "    \n",
    "mav = mav_predictor()\n",
    "mav.fit(train_x, train_y.astype(float).reset_index()['next_playoffs'])\n",
    "mav.score()"
   ]
  },
  {
   "cell_type": "markdown",
   "metadata": {},
   "source": [
    "Using the moving average helps us make much better predictions, even without a sophisticated mechanism. This reinforces our idea that we can somewhat guess playoff qualification well using recent past performance. "
   ]
  },
  {
   "cell_type": "markdown",
   "metadata": {},
   "source": [
    "#### Model 4.3a: Logistic Regression with Feature Selection\n",
    "\n",
    "We'll now perform logistic regression on our selected features."
   ]
  },
  {
   "cell_type": "code",
   "execution_count": null,
   "metadata": {},
   "outputs": [],
   "source": [
    "train_x_cleaned = train_x[final_features]\n",
    "c_vals = [0.001, 0.01, 0.1, 1, 10, 20, 50]\n",
    "\n",
    "logreg_score = []\n",
    "for c in c_vals:\n",
    "    logreg_naive = LogisticRegression(C=c, random_state=42)\n",
    "    logreg_score.append(np.mean(cross_val_score(logreg_naive, train_x_cleaned, train_y, cv=5)))\n",
    "\n",
    "plt.plot(c_vals, logreg_score)\n",
    "plt.title('Cross Validation Score for Logistic Regression')\n",
    "plt.xlabel('C parameter value')\n",
    "plt.ylabel('CV accuracy');"
   ]
  },
  {
   "cell_type": "code",
   "execution_count": null,
   "metadata": {},
   "outputs": [],
   "source": [
    "logreg_naive = LogisticRegression(C=50, random_state=42)\n",
    "logreg_naive.fit(train_x_cleaned, train_y)\n",
    "logreg_preds = logreg_naive.predict(test_x[final_features])\n",
    "logreg_accuracy = accuracy_score(test_y, logreg_preds)\n",
    "print('The test accuracy of logistic regression is: ', logreg_accuracy)"
   ]
  },
  {
   "cell_type": "markdown",
   "metadata": {},
   "source": [
    "#### Model 4.3b: Decision Tree Classifier with Feature Selection"
   ]
  },
  {
   "cell_type": "code",
   "execution_count": null,
   "metadata": {},
   "outputs": [],
   "source": [
    "decisiontree_naive = DecisionTreeClassifier(random_state=42)\n",
    "decisiontree_score = np.mean(cross_val_score(decisiontree_naive, train_x_cleaned, train_y, cv=5))\n",
    "print('The cross validation accuracy of decision tree is: ', decisiontree_score)\n",
    "\n",
    "decisiontree_naive.fit(train_x_cleaned, train_y)\n",
    "decisiontree_preds = decisiontree_naive.predict(test_x[final_features])\n",
    "decisiontree_accuracy = accuracy_score(test_y, decisiontree_preds)\n",
    "print('The test accuracy of decision tree is: ', decisiontree_accuracy)"
   ]
  },
  {
   "cell_type": "markdown",
   "metadata": {},
   "source": [
    "Note, the lower CV score is expected due to the nature of decision trees to overfit."
   ]
  },
  {
   "cell_type": "code",
   "execution_count": null,
   "metadata": {},
   "outputs": [],
   "source": [
    "decisiontree_naive.fit(train_x_cleaned, train_y)\n",
    "plt.figure(figsize=(15,10))\n",
    "plot_tree(decisiontree_naive, feature_names = train_x_cleaned.columns, \\\n",
    "          filled=True, label='root', \\\n",
    "          impurity=False, \\\n",
    "         class_names = ['playoffs', 'no playoffs']);"
   ]
  },
  {
   "cell_type": "markdown",
   "metadata": {},
   "source": [
    "#### Model 4.3c: Random Forest Classifier with Feature Selection"
   ]
  },
  {
   "cell_type": "code",
   "execution_count": null,
   "metadata": {},
   "outputs": [],
   "source": [
    "depths = [1, 5, 10, 15, 20]\n",
    "num_trees = [1, 5, 10, 100, 1000]\n",
    "max_features = ['auto', 'log2', None]\n",
    "randomforest_scores = []\n",
    "best_depth = -100\n",
    "best_num_trees = -100\n",
    "best_split = -100\n",
    "max_score = -10000\n",
    "for depth in depths:\n",
    "    for n in num_trees:\n",
    "        for m in max_features:\n",
    "            randomforest = RandomForestClassifier(max_depth = depth, n_estimators=n, random_state=42, \\\n",
    "                                                  max_features=m)\n",
    "            curr = np.mean(cross_val_score(randomforest, train_x, train_y, cv=5))\n",
    "            if curr >= max_score:\n",
    "                best_depth = depth\n",
    "                best_num_trees = n\n",
    "                max_score = curr\n",
    "                best_split= m\n",
    "print('The best cross validation score for random forest is: ', max_score)\n",
    "print('The best depth to use is: ', best_depth)\n",
    "print('The best number of trees to use is: ', best_num_trees)\n",
    "print('The best number of splits to use is: ', best_split)"
   ]
  },
  {
   "cell_type": "code",
   "execution_count": null,
   "metadata": {},
   "outputs": [],
   "source": [
    "randomforest = RandomForestClassifier(max_depth = 5, n_estimators=5, random_state=42, \\\n",
    "                                     max_features='log2')\n",
    "randomforest.fit(train_x, train_y)\n",
    "randomforest_preds = randomforest.predict(test_x)\n",
    "randomforest_accuracy = accuracy_score(test_y, randomforest_preds)\n",
    "print('The test accuracy of random forest is: ', randomforest_accuracy)"
   ]
  },
  {
   "cell_type": "markdown",
   "metadata": {},
   "source": [
    "#### Model 4.4: KNN\n",
    "\n",
    "Let's go above and beyond and incorporate a (largely underrated) classification scheme.\n",
    "\n",
    "<b> TODO: Kevin maybe add a link to the 189 lecture where the prof talks about how it's underrated </b>"
   ]
  },
  {
   "cell_type": "code",
   "execution_count": null,
   "metadata": {},
   "outputs": [],
   "source": [
    "num_neighbours = [1, 5, 10, 20, 50, 100]\n",
    "neigh_score= []\n",
    "for n in num_neighbours:\n",
    "    neigh = KNeighborsClassifier()\n",
    "    neigh_score.append(np.mean(cross_val_score(neigh, train_x_cleaned, train_y, cv=5)))\n",
    "plt.plot(num_neighbours, neigh_score)\n",
    "plt.title('The cross validation accuracy of K-NN')\n",
    "plt.xlabel('Number of neighbours')\n",
    "plt.ylabel('CV accuracy');"
   ]
  },
  {
   "cell_type": "code",
   "execution_count": null,
   "metadata": {},
   "outputs": [],
   "source": [
    "neigh = KNeighborsClassifier(n_neighbors= 50)\n",
    "neigh.fit(train_x_cleaned, train_y)\n",
    "neigh_preds = neigh.predict(test_x[final_features])\n",
    "neigh_accuracy = accuracy_score(test_y, neigh_preds)\n",
    "print('The test accuracy of K-NN is: ', neigh_accuracy)"
   ]
  },
  {
   "cell_type": "markdown",
   "metadata": {},
   "source": [
    "### 5. Additional Feature Engineering"
   ]
  },
  {
   "cell_type": "markdown",
   "metadata": {},
   "source": [
    "To find ways to improve our models, we should probably take a look at the teams where our slightly mare sophisticated maj classifier didn't guess right."
   ]
  },
  {
   "cell_type": "code",
   "execution_count": null,
   "metadata": {},
   "outputs": [],
   "source": [
    "wrong_X = mav.wrong_predictions()\n",
    "\n",
    "# reintroduce the names and seasons for these teams\n",
    "team_info = mov_avg_data_new[mov_avg_data_new.index.isin(wrong_X.index)]\n",
    "wrong_X = pd.DataFrame(StandardScaler().fit_transform(wrong_X), columns=wrong_X.columns, index=wrong_X.index)\n",
    "\n",
    "wrong_X.head()"
   ]
  },
  {
   "cell_type": "code",
   "execution_count": null,
   "metadata": {},
   "outputs": [],
   "source": [
    "wrong_y = train_y[train_y.index.isin(wrong_X.index)]"
   ]
  },
  {
   "cell_type": "code",
   "execution_count": null,
   "metadata": {},
   "outputs": [],
   "source": [
    "clustering = AgglomerativeClustering(n_clusters=2).fit(wrong_X)\n",
    "clustering_pca = PCA(2)\n",
    "principal_df = pd.DataFrame(data = clustering_pca.fit_transform(wrong_X), columns = ['PC 1', 'PC 2'], index=wrong_X.index)\n",
    "principal_df['cluster'] = clustering.labels_\n",
    "principal_df['team'] = team_info['teamAbbr']\n",
    "\n",
    "# the team label includes team name, season, and if they were predicted to make the playoffs next season\n",
    "playoff_guess = (team_info['playoffs'] > 0.5).astype(str)\n",
    "principal_df['team'] = principal_df.team.map(str) + \" \" + team_info['season'] + \" \" + playoff_guess\n",
    "\n",
    "# inspiration source: https://towardsdatascience.com/pca-using-python-scikit-learn-e653f8989e60\n",
    "fig = plt.figure(figsize = (13,6))\n",
    "ax = fig.add_subplot(1,1,1) \n",
    "ax.set_xlabel('Principal Component 1', fontsize = 15)\n",
    "ax.set_ylabel('Principal Component 2', fontsize = 15)\n",
    "ax.set_title('2 component PCA', fontsize = 20)\n",
    "targets = [0, 1]\n",
    "colors = ['r', 'g']\n",
    "for target, color in zip(targets, colors):\n",
    "    indicesToKeep = principal_df['cluster'] == target\n",
    "    ax.scatter(principal_df.loc[indicesToKeep, 'PC 1']\n",
    "               ,principal_df.loc[indicesToKeep, 'PC 2']\n",
    "               ,c = color\n",
    "               ,s = 50)\n",
    "    \n",
    "indices = principal_df.index.to_list()\n",
    "for i, label in enumerate(principal_df['team']):\n",
    "    x = principal_df.loc[indices[i], 'PC 1']\n",
    "    y = principal_df.loc[indices[i], 'PC 2']\n",
    "    ax.annotate(label, (x, y+0.2)) \n",
    "\n",
    "ax.legend(targets)\n",
    "ax.grid()"
   ]
  },
  {
   "cell_type": "markdown",
   "metadata": {},
   "source": [
    "We did some external research to see what could have caused these incorrect projections for these teams. Ultimately, nothing really came out of this tactic. We simply could not find the relationship between the clustered teams. Though we are both casual basketball fans, we probably didn't have enough domain knowledge to be able to tie these specific teams and their performance in their respective seasons together."
   ]
  },
  {
   "cell_type": "markdown",
   "metadata": {},
   "source": [
    "Nonetheless, using the insights drawn from earlier EDA, we recognized that draft prospects and budgeting constraints were 2 off-court factors that contribute to a team's success. The following cells includes our process of gathering and parsing additional data into a csv file. These cells don't technically need to be run, as the cleaned csv is also included in the folder, but are included as reference."
   ]
  },
  {
   "cell_type": "code",
   "execution_count": 3,
   "metadata": {},
   "outputs": [],
   "source": [
    "# @source: https://www.kaggle.com/hrfang1995/nba-drafts-of-19472018#NBA_Full_Draft_1947-2018.csv\n",
    "drafts = pd.read_csv('NBA_Full_Draft_1947-2018.csv')"
   ]
  },
  {
   "cell_type": "code",
   "execution_count": 4,
   "metadata": {},
   "outputs": [],
   "source": [
    "# selecting relevant years\n",
    "drafts = drafts[drafts['Year'] >= 2012]\n",
    "drafts = drafts[drafts['Year'] < 2018]\n",
    "\n",
    "# first round picks only\n",
    "drafts = drafts[drafts['Pick'] <= 30]\n",
    "team_drafts = drafts[['Team', 'Year', 'Pick']]"
   ]
  },
  {
   "cell_type": "code",
   "execution_count": 5,
   "metadata": {},
   "outputs": [],
   "source": [
    "# necessary dictionaries to keep data labels consistent\n",
    "team_dict = {'ATL': 'ATL', \\\n",
    "    'BRK': 'BKN' ,\\\n",
    "    'BOS': 'BOS', \\\n",
    "    'CHA': 'CHA', \\\n",
    "    'CLE': 'CLE', \\\n",
    "    'CHI': 'CHI', \\\n",
    "    'DAL': 'DAL', \\\n",
    "    'DEN': 'DEN', \\\n",
    "    'DET': 'DET', \\\n",
    "    'HOU': 'HOU', \\\n",
    "    'IND': 'IND', \\\n",
    "    'GSW': 'GS', \\\n",
    "    'IND': 'IND', \\\n",
    "    'LAL': 'LAL', \\\n",
    "    'LAC': 'LAC', \\\n",
    "    'MEM': 'MEM', \\\n",
    "    'MIA': 'MIA', \\\n",
    "    'NOH': 'NO', \\\n",
    "    'NOP': 'NO', \\\n",
    "    'NYK': 'NY', \\\n",
    "    'ORL': 'ORL', \\\n",
    "    'SAS': 'SA', \\\n",
    "    'MIL': 'MIL', \\\n",
    "    'MIN': 'MIN', \\\n",
    "    'OKC': 'OKC', \\\n",
    "    'PHI': 'PHI', \\\n",
    "    'PHO': 'PHO', \\\n",
    "    'POR': 'POR', \\\n",
    "    'SAC': 'SAC', \\\n",
    "    'TOR': 'TOR', \\\n",
    "    'UTA': 'UTA', \\\n",
    "    'WAS': 'WAS', \\\n",
    "    'CHH': 'CHA'\n",
    "}\n",
    "\n",
    "seasons_dict = {\n",
    "    2012: '2012/13', \\\n",
    "    2013: '2013/14', \\\n",
    "    2014: '2014/15', \\\n",
    "    2015: '2015/16', \\\n",
    "    2016: '2016/17', \\\n",
    "    2017: '2017/18', \\\n",
    "    2018: '2018/19'    \n",
    "}"
   ]
  },
  {
   "cell_type": "code",
   "execution_count": null,
   "metadata": {},
   "outputs": [],
   "source": []
  },
  {
   "cell_type": "code",
   "execution_count": null,
   "metadata": {},
   "outputs": [],
   "source": []
  },
  {
   "cell_type": "markdown",
   "metadata": {},
   "source": [
    "#### 5.1 Re-doing Logistic Regression with draft pick and salary cap"
   ]
  },
  {
   "cell_type": "code",
   "execution_count": null,
   "metadata": {
    "scrolled": false
   },
   "outputs": [],
   "source": [
    "train_x_cleaned = train_x[final_features + ['Pick', 'salarycap']]\n",
    "c_vals = [0.001, 0.01, 0.1, 1, 10, 20, 50]\n",
    "\n",
    "logreg_score = []\n",
    "for c in c_vals:\n",
    "    logreg_draft_cap= LogisticRegression(C=c)\n",
    "    logreg_score.append(np.mean(cross_val_score(logreg_draft_cap, train_x_cleaned, train_y, cv=5)))\n",
    "\n",
    "plt.plot(c_vals, logreg_score)\n",
    "plt.title('Cross Validation Score for Logistic Regression')\n",
    "plt.xlabel('C parameter value')\n",
    "plt.ylabel('CV accuracy');"
   ]
  },
  {
   "cell_type": "code",
   "execution_count": null,
   "metadata": {},
   "outputs": [],
   "source": [
    "logreg_draft_cap = LogisticRegression(C=50)\n",
    "logreg_draft_cap.fit(train_x_cleaned, train_y)\n",
    "logreg_draft_cap_preds = logreg_draft_cap.predict(test_x[final_features + ['Pick', 'salarycap']])\n",
    "logreg_draft_cap_accuracy = accuracy_score(test_y, logreg_draft_cap_preds)\n",
    "print('The test accuracy for Logistic Regression with the additional features is: ', logreg_draft_cap_accuracy)"
   ]
  },
  {
   "cell_type": "markdown",
   "metadata": {},
   "source": [
    "### 99. Misc Stuff for now"
   ]
  },
  {
   "cell_type": "code",
   "execution_count": null,
   "metadata": {},
   "outputs": [],
   "source": [
    "sns.heatmap(train_x.corr())"
   ]
  },
  {
   "cell_type": "markdown",
   "metadata": {},
   "source": [
    "#### 5. Using PCA + logistic regression\n",
    "This uses the original train_x (of all features) and tries to find the best features on its own via PCA."
   ]
  },
  {
   "cell_type": "code",
   "execution_count": null,
   "metadata": {
    "scrolled": false
   },
   "outputs": [],
   "source": [
    "pcas = [1, 5, 15, 20, 25, 30, 50, 100]\n",
    "pca_lr_score = []\n",
    "for val in pcas:\n",
    "    pca = PCA(val)\n",
    "    logistic = LogisticRegression(max_iter=10000, tol=0.5)\n",
    "    pipe = Pipeline(steps=[('pca', pca), ('logistic', logistic)])\n",
    "    pca_lr_score.append(np.mean(cross_val_score(pipe, train_x, train_y, cv=5)))\n",
    "    \n",
    "plt.plot(pcas, pca_lr_score)\n",
    "plt.title('Logistic Regression with PCA')\n",
    "plt.xlabel('Number of Principal Components')\n",
    "plt.ylabel('CV Accuracy')\n",
    "print('PCA + logistic regression cross validation accuracy: ', max(pca_lr_score))"
   ]
  },
  {
   "cell_type": "code",
   "execution_count": null,
   "metadata": {},
   "outputs": [],
   "source": [
    "pca_best = PCA(20)\n",
    "logistic_pca = LogisticRegression(max_iter=10000, tol=0.5)\n",
    "pipe = Pipeline(steps=[('pca', pca_best), ('logistic', logistic_pca)])\n",
    "pipe.fit(train_x, train_y)\n",
    "pipe_preds = pipe.predict(test_x)\n",
    "pipe_accuracy = accuracy_score(test_y, pipe_preds)\n",
    "print('The test accuracy of PCA with Logistic Regression is: ', pipe_accuracy)"
   ]
  },
  {
   "cell_type": "markdown",
   "metadata": {},
   "source": [
    "### Reference Stuff\n",
    "Data Science Lifecycle:\n",
    "\n",
    "Either\n",
    "1. Ask a Question\n",
    "2. Obtain Data\n",
    "3. Understand the Data\n",
    "4. Understand the World/repeat\n",
    "\n",
    "Or (probably more relevant to our case)\n",
    "1. Obtain Data\n",
    "2. Understand the Data\n",
    "3. Ask a Question\n",
    "4. Obtain more Data\n",
    "5. Understand combined data\n",
    "6. Understand the world/repeat"
   ]
  },
  {
   "cell_type": "markdown",
   "metadata": {},
   "source": [
    "### Priorities:\n",
    "1. Build actual naive one (Ru)\n",
    "    - past 1 season to predict next season playoff. \n",
    "2. Find better features (Kevin) \n",
    "    - eg. draft picks, budget, conference, division\n",
    "3. More visualisations (split)\n",
    "    - cluster teams -> PCA on moving_avg df and then k-means clustering\n",
    "    - bar chart -> all the models, before/after adding the 'better features' above\n",
    "    - boxplot -> maybe for budget over 5 years, w/ NBA teams as categorical. Find correlation between the boxplot and their performance \n",
    "4. Add k-nn model (Ru)\n",
    "5. Rename some things eg. mov_avg_model_new and mov_avg_model_new_features"
   ]
  },
  {
   "cell_type": "markdown",
   "metadata": {},
   "source": [
    "### Questions\n",
    "– (i) What were two or three of the most interesting features you came across for your particular\n",
    "question? <br>\n",
    "\n",
    "– (ii) Describe one feature you thought would be useful, but turned out to be ineffective. <br>\n",
    "    - a lot of the features were correlated. eg. having true shooting %, we don't need other shooting related.\n",
    "    - 3pt efficiency was not that indicative of playoffs. Maybe it's because in older seasons, it was not as highly valued as it is nowadays. (include visualisation of how avg 3pt% changed over time) \n",
    "    \n",
    "– (iii) What challenges did you find with your data? Where did you get stuck? <br>\n",
    "    - multicollinearity, had to find our own data (eg. draft/budget) to improve model \n",
    "    \n",
    "– (iv) What are some limitations of the analysis that you did? What assumptions did you make\n",
    "that could prove to be incorrect? <br>\n",
    "    - data size -> because we used moving avg, only had 120 data points total \n",
    "    - game changes over time. eg. see 3pt is more valuable now but big men were more efficient before \n",
    "        - we tried to mitigate this by using moving avg so we only consider the past 3 seasons \n",
    "\n",
    "– (v) What ethical dilemmas did you face with this data? <br>\n",
    "    - representation \n",
    "    - Ru \n",
    "\n",
    "– (vi) What additional data, if available, would strengthen your analysis, or allow you test some\n",
    "other hypothesises? <br>\n",
    "    - NCAA -> NBA we wanted to calc player efficiency which required their team stats not just their personal stats \n",
    "    - what players played in each team in each season \n",
    "    - more historical data to see if game dynamics play a huge role in predicting playoffs\n",
    "\n",
    "– (vii) What ethical concerns might you encounter in studying this problem? How might you\n",
    "address those concerns? <br>\n",
    "    - Ru\n"
   ]
  },
  {
   "cell_type": "markdown",
   "metadata": {},
   "source": [
    "### TODOS:\n",
    "- visualisations eg. EDA, heatmap correlation of features, fine-tuning accuracy for random forest, visualisation for pca clusters, simple histograms, should do some sort of time series test\n",
    "- can look at how fivethirtyeight defines a 'good' basketball team. Test it to see if it actually holds true in this dataset \n",
    "- potential features to add: draft pick #, budget\n",
    "- predict how good in NBA based on NCAA stats (should try to find a good stat)\n",
    "- compare the pros/cons for the different classification models based on the same dataset\n",
    "- seeing if better than baseline (predicting next yr from this year if they're in playoffs)\n",
    "- fine_tune hyperparameters for PCA + logistic regression model\n",
    "\n",
    "- Code organisation:\n",
    "    - should make the cleaning all in one function \n",
    "\n",
    "other ideas:\n",
    "- see what type of shots/position is most popular over time\n",
    "- salary efficiency "
   ]
  },
  {
   "cell_type": "markdown",
   "metadata": {},
   "source": [
    "### A list of observations to include in the report:\n",
    "- originally, when using all the given stats, the features were quite correlated"
   ]
  }
 ],
 "metadata": {
  "kernelspec": {
   "display_name": "Python 3",
   "language": "python",
   "name": "python3"
  },
  "language_info": {
   "codemirror_mode": {
    "name": "ipython",
    "version": 3
   },
   "file_extension": ".py",
   "mimetype": "text/x-python",
   "name": "python",
   "nbconvert_exporter": "python",
   "pygments_lexer": "ipython3",
   "version": "3.7.4"
  }
 },
 "nbformat": 4,
 "nbformat_minor": 2
}
